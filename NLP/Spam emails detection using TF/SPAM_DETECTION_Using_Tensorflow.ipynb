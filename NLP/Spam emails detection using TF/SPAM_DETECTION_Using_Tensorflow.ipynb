{
  "nbformat": 4,
  "nbformat_minor": 0,
  "metadata": {
    "colab": {
      "name": "SPAM DETECTION Using Tensorflow.ipynb",
      "provenance": []
    },
    "kernelspec": {
      "name": "python3",
      "display_name": "Python 3"
    },
    "accelerator": "GPU"
  },
  "cells": [
    {
      "cell_type": "code",
      "metadata": {
        "id": "dvm-B72e5Hxj"
      },
      "source": [
        "import tensorflow as tf\n",
        "import numpy as np\n",
        "import pandas as pd\n",
        "import matplotlib.pyplot as plt\n",
        "import re"
      ],
      "execution_count": null,
      "outputs": []
    },
    {
      "cell_type": "markdown",
      "metadata": {
        "id": "x1Reo--dBjLk"
      },
      "source": [
        "## **Reading dataset**"
      ]
    },
    {
      "cell_type": "code",
      "metadata": {
        "id": "6Qkn8IiM54oC"
      },
      "source": [
        "dataframe = pd.read_csv(\"/content/Email.csv\")\n",
        "dataframe = dataframe.drop(list(dataframe)[0], axis=1)"
      ],
      "execution_count": null,
      "outputs": []
    },
    {
      "cell_type": "code",
      "metadata": {
        "colab": {
          "base_uri": "https://localhost:8080/",
          "height": 195
        },
        "id": "gJuqLsgw6FWG",
        "outputId": "30fd52ad-caa3-4e5c-ccbb-753a103e6d69"
      },
      "source": [
        "dataframe.head()"
      ],
      "execution_count": null,
      "outputs": [
        {
          "output_type": "execute_result",
          "data": {
            "text/html": [
              "<div>\n",
              "<style scoped>\n",
              "    .dataframe tbody tr th:only-of-type {\n",
              "        vertical-align: middle;\n",
              "    }\n",
              "\n",
              "    .dataframe tbody tr th {\n",
              "        vertical-align: top;\n",
              "    }\n",
              "\n",
              "    .dataframe thead th {\n",
              "        text-align: right;\n",
              "    }\n",
              "</style>\n",
              "<table border=\"1\" class=\"dataframe\">\n",
              "  <thead>\n",
              "    <tr style=\"text-align: right;\">\n",
              "      <th></th>\n",
              "      <th>body_text</th>\n",
              "      <th>label</th>\n",
              "    </tr>\n",
              "  </thead>\n",
              "  <tbody>\n",
              "    <tr>\n",
              "      <th>0</th>\n",
              "      <td>mr martin francis abidjan cote d ivoire west a...</td>\n",
              "      <td>0</td>\n",
              "    </tr>\n",
              "    <tr>\n",
              "      <th>1</th>\n",
              "      <td>url http boingboing net 85535421 date not supp...</td>\n",
              "      <td>1</td>\n",
              "    </tr>\n",
              "    <tr>\n",
              "      <th>2</th>\n",
              "      <td>on thu sep 05 2002 at 06 16 57pm 0500 mike bur...</td>\n",
              "      <td>1</td>\n",
              "    </tr>\n",
              "    <tr>\n",
              "      <th>3</th>\n",
              "      <td>anyone heard of this law before back when i w...</td>\n",
              "      <td>1</td>\n",
              "    </tr>\n",
              "    <tr>\n",
              "      <th>4</th>\n",
              "      <td>i don t understand how does sorting one folde...</td>\n",
              "      <td>1</td>\n",
              "    </tr>\n",
              "  </tbody>\n",
              "</table>\n",
              "</div>"
            ],
            "text/plain": [
              "                                           body_text  label\n",
              "0  mr martin francis abidjan cote d ivoire west a...      0\n",
              "1  url http boingboing net 85535421 date not supp...      1\n",
              "2  on thu sep 05 2002 at 06 16 57pm 0500 mike bur...      1\n",
              "3   anyone heard of this law before back when i w...      1\n",
              "4   i don t understand how does sorting one folde...      1"
            ]
          },
          "metadata": {
            "tags": []
          },
          "execution_count": 4
        }
      ]
    },
    {
      "cell_type": "code",
      "metadata": {
        "colab": {
          "base_uri": "https://localhost:8080/",
          "height": 195
        },
        "id": "ycVbNPpG6TOc",
        "outputId": "9e82258d-86b7-46f8-88b7-c49ed5e115f7"
      },
      "source": [
        "dataframe.tail()"
      ],
      "execution_count": null,
      "outputs": [
        {
          "output_type": "execute_result",
          "data": {
            "text/html": [
              "<div>\n",
              "<style scoped>\n",
              "    .dataframe tbody tr th:only-of-type {\n",
              "        vertical-align: middle;\n",
              "    }\n",
              "\n",
              "    .dataframe tbody tr th {\n",
              "        vertical-align: top;\n",
              "    }\n",
              "\n",
              "    .dataframe thead th {\n",
              "        text-align: right;\n",
              "    }\n",
              "</style>\n",
              "<table border=\"1\" class=\"dataframe\">\n",
              "  <thead>\n",
              "    <tr style=\"text-align: right;\">\n",
              "      <th></th>\n",
              "      <th>body_text</th>\n",
              "      <th>label</th>\n",
              "    </tr>\n",
              "  </thead>\n",
              "  <tbody>\n",
              "    <tr>\n",
              "      <th>2848</th>\n",
              "      <td>for example take the recent cbc olympics site...</td>\n",
              "      <td>1</td>\n",
              "    </tr>\n",
              "    <tr>\n",
              "      <th>2849</th>\n",
              "      <td>url http www newsisfree com click 1 8388719 17...</td>\n",
              "      <td>1</td>\n",
              "    </tr>\n",
              "    <tr>\n",
              "      <th>2850</th>\n",
              "      <td>do you like sexy animals doing the wild thing...</td>\n",
              "      <td>0</td>\n",
              "    </tr>\n",
              "    <tr>\n",
              "      <th>2851</th>\n",
              "      <td>benoit claimed the prize for his size 14 feet...</td>\n",
              "      <td>1</td>\n",
              "    </tr>\n",
              "    <tr>\n",
              "      <th>2852</th>\n",
              "      <td>o owen byrne writes o from the local paper th...</td>\n",
              "      <td>1</td>\n",
              "    </tr>\n",
              "  </tbody>\n",
              "</table>\n",
              "</div>"
            ],
            "text/plain": [
              "                                              body_text  label\n",
              "2848   for example take the recent cbc olympics site...      1\n",
              "2849  url http www newsisfree com click 1 8388719 17...      1\n",
              "2850   do you like sexy animals doing the wild thing...      0\n",
              "2851   benoit claimed the prize for his size 14 feet...      1\n",
              "2852   o owen byrne writes o from the local paper th...      1"
            ]
          },
          "metadata": {
            "tags": []
          },
          "execution_count": 5
        }
      ]
    },
    {
      "cell_type": "code",
      "metadata": {
        "id": "no95ujJT6XBH"
      },
      "source": [
        "message_data = dataframe.iloc[:, 0].values"
      ],
      "execution_count": null,
      "outputs": []
    },
    {
      "cell_type": "code",
      "metadata": {
        "colab": {
          "base_uri": "https://localhost:8080/"
        },
        "id": "f80K0EaW7NF_",
        "outputId": "a29715a1-713f-4862-8a01-80df622212b9"
      },
      "source": [
        "message_data"
      ],
      "execution_count": null,
      "outputs": [
        {
          "output_type": "execute_result",
          "data": {
            "text/plain": [
              "array(['mr martin francis abidjan cote d ivoire west africa tel 225 05775748 urgent and noble proposal attn director dear i wish to extend my greeting to you and your entire family i got your contact from the ivoirian chamber of commerce i prayed over it and selected your name among other names because of its esteeming nature morever after my strong prayers and fasting god reveals to me that you are straight forward honest and god s person this is the reason i never waste time to propose you this business for our mutual benefits infact you will never regret it provided you give me your possible best cooperate hand believe me i am martin francis a cote d ivoire national and the only child of late mr and mrs francis my late father was the former financial controller of c te d ivoire telecommunication citelcom my father died due to the heat of political crisis in my country recently last years but i am motherless since before my fathers late and the death of my mother on 26 september 1993 was as a result of spiritual attack by our family member who hated her just because of my fathers wealth moreover they tried their own part as well against my father and myself but negative because god almighty is available at our side infact god is wonderful although before the death of my father in one of the private hospital here he secretly revealed to me specifically on family matters and mostly the safety of his monies us 16 500 000 00 sixteen million five hundred thousand united states dollars which he deposited in a bank here in my county abidjan c te d ivoire and used my name martin francis as the next of kin for the deposits this amount was accrued from an over invoiced contract award for the construction of an underground telephone network to replace the former in the new city yamoussoukro and other major cities also for installation of the microwave station awarded to my late father mr joseph francis in 1999 to expatiate companies in fact after the finished payment of contract workers my late father deposited this fund in a bank as the full beneficiary contractor of the said company citelcom this is the fund i want to transferred to your account as the beneficiary contractor due for payment provided you cooperate therefore i am seeking your full and urgent assistance for the telegraphic transfer of this sixteen million and five hundred thousand united states dollars us 16 500 000 us dollars to your designated account for a very good business investment in your country as due to the instruction my father gave to me before he late what i require from you are as follows 1 your private telephone and fax number for easy and strict communication 2 your bank particular for smooth and successful remittance of this monies to your nominated account 3 you have to make necessary arrangement for me to meet with you immediately the monies is been transferred in your account and confirmed by you 4 you have to secure a college for me in your country to further my education 5 you will have to be my guardian and part of the joint venture investment when i get to your country furthermore my late father had instructed me to offer 20 of the total sum to the person who is to assist me out for the transferring of this fund moreover i wish to assure you that this transaction would be concluded within the next 3 days you signify interest to assist me out i suggest that this transaction should be handled in strict confidence because i have work out fine every modalities concerning the transfer of this fund please and please kindly hasten up the arrangement as quickly as possible because my late father instructed me not to invest this monies in this country c te d ivoire that i should invest abroad of my choice for the benefit of myself and for security reasons thank very much in anticipation of your acknowledgement of this business proposal and do not hesitate to contact me immediately you receive this message with this my direct telephone number mentioned above tel 225 05775748 for us to proceed immediately please and please don t fail waiting for your urgent response now thanks very much again and god bless best regards martin francis do you yahoo une adresse yahoo fr gratuite et en fran ais yahoo mail http fr mail yahoo com ',\n",
              "       'url http boingboing net 85535421 date not supplied a nintendo newsletter from 1987 is going for ober 700 on ebay link 1 discuss 2 thanks billy hayes 1 http cgi ebay com ws ebayisapi dll viewitem item 1566539449 rd 1 2 http www quicktopic com 16 h wuzqzdx42az ',\n",
              "       'on thu sep 05 2002 at 06 16 57pm 0500 mike burger wrote you might be better asking this on the spamassassin talk list the folks there will almost definitely have an answer for this thanks i just posted a similar message there dave this sf net email is sponsored by osdn tired of that same old cell phone get a new here for free https www inphonic com r asp r sourceforge1 refcode1 vs3390 razor users mailing list razor users lists sourceforge net https lists sourceforge net lists listinfo razor users ',\n",
              "       ...,\n",
              "       ' do you like sexy animals doing the wild thing we have the super hot content on the internet this is the site you have heard about rated the number one adult site three years in a row thousands of pics from hardcore fucking and cum shots to pet on girl thousands videos so what are you waiting for click here you must be at least 18 to enter nbsp nbsp nbsp you have received this advertisement because you have opted in to receive free adult internet offers and specials through our affiliated websites if you do not wish to receive further emails or have received the email in error you may opt out of our database by clicking here click here please allow 24hours for removal this e mail is sent in compliance with the information exchange promotion and privacy protection act section 50 marked as advertisement with valid removal instruction nkiys5 ',\n",
              "       ' benoit claimed the prize for his size 14 feet in the female division of the competition three women tied for first place with size 10 feet winners took home a 100 gift certificate to either footlocker or barrie ltd well crap mine are size 11 if i d have known the contest was happening i would have gone said justin simon 04 the proud owner of size 15 feet a lot of the guys have bigger feet than that dexter upshaw 06 wears a size 18 simon said the 100 gift certificate would have almost paid for a new pair of shoes almost if you shop at payless but sure could have used the 100 anyway fel new cafe forteana is back http www frogstone net cafe cafeforteana html http www frogstone net weird page http my athenet net felinda weirdpage html non text portions of this message have been removed yahoo groups sponsor home selling try us http us click yahoo com qrpzmc itmeaa mvfiaa 7gsolb tm to unsubscribe from this group send an email to forteana unsubscribe egroups com your use of yahoo groups is subject to http docs yahoo com info terms ',\n",
              "       ' o owen byrne writes o from the local paper this morning canadians eat about seven o times as many doughnuts per capita as americans d oh if we had more variety of franchise food than the wendys kfc pizzahut tacobell timhorton s monopoly they are all pepsi under the hood aren t they things might be different when a new yorker has biscotti we have a timbit when a parisienne has a croissant we have a timbit because that s all we can buy the usa is a nation founded on creative free enterprise entrepreneurs canada is a nation built on monopolies gary lawrence murphy teledynamics communications inc business advantage through community software http www teledyn com computers are useless they can only give you answers pablo picasso '],\n",
              "      dtype=object)"
            ]
          },
          "metadata": {
            "tags": []
          },
          "execution_count": 7
        }
      ]
    },
    {
      "cell_type": "code",
      "metadata": {
        "id": "dPOZtTIr7VNl"
      },
      "source": [
        "labels = dataframe.iloc[:, 1].values"
      ],
      "execution_count": null,
      "outputs": []
    },
    {
      "cell_type": "code",
      "metadata": {
        "colab": {
          "base_uri": "https://localhost:8080/"
        },
        "id": "caOlkf1wAyMJ",
        "outputId": "2d30231c-f560-409c-855b-89c4d083def0"
      },
      "source": [
        "labels"
      ],
      "execution_count": null,
      "outputs": [
        {
          "output_type": "execute_result",
          "data": {
            "text/plain": [
              "array([0, 1, 1, ..., 0, 1, 1])"
            ]
          },
          "metadata": {
            "tags": []
          },
          "execution_count": 9
        }
      ]
    },
    {
      "cell_type": "markdown",
      "metadata": {
        "id": "Uz3BONxSDT-3"
      },
      "source": [
        "## **Tokenization Variables**"
      ]
    },
    {
      "cell_type": "code",
      "metadata": {
        "id": "HeZE5fyWD_9I"
      },
      "source": [
        "vocab_size = 10000\n",
        "embedding_dim = 32\n",
        "max_length = 320\n",
        "trunc_type='post'\n",
        "padding_type='post'\n",
        "oov_tok = \"<OOV>\"\n",
        "training_portion = .8"
      ],
      "execution_count": null,
      "outputs": []
    },
    {
      "cell_type": "markdown",
      "metadata": {
        "id": "Hv0LAyIwKun3"
      },
      "source": [
        "## **Training and Validation data**"
      ]
    },
    {
      "cell_type": "code",
      "metadata": {
        "colab": {
          "base_uri": "https://localhost:8080/"
        },
        "id": "CflxcQstEGA1",
        "outputId": "fc854ddc-a9a9-4f73-f5b9-c3439770f398"
      },
      "source": [
        "train_size = int(len(message_data) * training_portion)\n",
        "\n",
        "train_sentences = message_data[:train_size]\n",
        "train_labels = labels[:train_size]\n",
        "\n",
        "validation_sentences = message_data[train_size:]\n",
        "validation_labels = labels[train_size:]\n",
        "\n",
        "print(train_size)\n",
        "print(len(train_sentences))\n",
        "print(len(train_labels))\n",
        "print(len(validation_sentences))\n",
        "print(len(validation_labels))"
      ],
      "execution_count": null,
      "outputs": [
        {
          "output_type": "stream",
          "text": [
            "2282\n",
            "2282\n",
            "2282\n",
            "571\n",
            "571\n"
          ],
          "name": "stdout"
        }
      ]
    },
    {
      "cell_type": "markdown",
      "metadata": {
        "id": "XlGL-VNCK0_O"
      },
      "source": [
        "## **Tokenization**"
      ]
    },
    {
      "cell_type": "code",
      "metadata": {
        "colab": {
          "base_uri": "https://localhost:8080/"
        },
        "id": "zJXQILUsBby7",
        "outputId": "c32b85de-9e05-4374-cec9-682adabcc5ae"
      },
      "source": [
        "from tensorflow.keras.preprocessing.text import Tokenizer\n",
        "from tensorflow.keras.preprocessing.sequence import pad_sequences\n",
        "\n",
        "\n",
        "tokenizer = Tokenizer(num_words = vocab_size, oov_token=oov_tok)\n",
        "tokenizer.fit_on_texts(train_sentences)\n",
        "word_index = tokenizer.word_index\n",
        "\n",
        "train_sequences = tokenizer.texts_to_sequences(train_sentences)\n",
        "train_padded = pad_sequences(train_sequences, padding=padding_type, maxlen=max_length)\n",
        "\n",
        "print(len(train_sequences[0]))\n",
        "print(len(train_padded[0]))\n",
        "\n",
        "print(len(train_sequences[1]))\n",
        "print(len(train_padded[1]))\n",
        "\n",
        "print(len(train_sequences[10]))\n",
        "print(len(train_padded[10]))"
      ],
      "execution_count": null,
      "outputs": [
        {
          "output_type": "stream",
          "text": [
            "762\n",
            "320\n",
            "48\n",
            "320\n",
            "192\n",
            "320\n"
          ],
          "name": "stdout"
        }
      ]
    },
    {
      "cell_type": "code",
      "metadata": {
        "colab": {
          "base_uri": "https://localhost:8080/"
        },
        "id": "O_RPT5GeEhak",
        "outputId": "1cdc6c25-3ce0-4a6b-98f9-80bef14daa65"
      },
      "source": [
        "print(train_sequences[0])\n",
        "print(train_padded[0])\n",
        "\n",
        "print(train_sequences[1])\n",
        "print(train_padded[1])\n",
        "\n",
        "print(train_sequences[10])\n",
        "print(train_padded[10])"
      ],
      "execution_count": null,
      "outputs": [
        {
          "output_type": "stream",
          "text": [
            "[265, 2825, 6911, 5776, 1, 119, 6316, 1245, 1246, 2221, 4922, 1, 2478, 4, 8915, 2417, 6317, 970, 1316, 8, 521, 3, 3445, 47, 8916, 3, 12, 4, 31, 985, 371, 8, 273, 31, 525, 22, 2, 1, 4923, 5, 1895, 8, 1, 121, 11, 4, 1931, 31, 203, 1403, 84, 913, 122, 5, 124, 1, 1678, 1, 154, 47, 1404, 1, 4, 1, 1550, 8917, 3, 87, 10, 12, 26, 1783, 1175, 3938, 4, 1550, 14, 523, 16, 9, 2, 609, 8, 290, 2929, 69, 3, 3446, 12, 16, 169, 13, 55, 4924, 1817, 8918, 12, 41, 290, 8919, 11, 1098, 12, 305, 87, 31, 517, 204, 6318, 813, 652, 87, 8, 187, 2825, 6911, 6, 1, 119, 6316, 511, 4, 2, 71, 1600, 5, 1055, 265, 4, 4133, 6911, 47, 1055, 1066, 37, 2, 1428, 692, 1, 5, 116, 2826, 119, 6316, 1, 1, 47, 1066, 1743, 792, 3, 2, 5777, 5, 512, 2827, 7, 47, 444, 932, 259, 172, 33, 8, 187, 1, 225, 192, 47, 5340, 1055, 4, 2, 1247, 5, 47, 1744, 15, 535, 301, 3163, 37, 25, 6, 1449, 5, 1, 1188, 32, 55, 371, 1128, 73, 1, 333, 58, 122, 5, 47, 5340, 2122, 6319, 45, 599, 63, 216, 346, 25, 158, 297, 47, 1066, 4, 1471, 33, 2352, 122, 1550, 1, 9, 466, 30, 55, 1086, 8918, 1550, 9, 1896, 718, 192, 2, 1247, 5, 47, 1066, 7, 51, 5, 2, 701, 4363, 91, 67, 1, 3576, 3, 87, 1601, 15, 371, 2620, 4, 1355, 2, 2828, 5, 118, 7835, 105, 448, 659, 110, 77, 8920, 300, 888, 2019, 1575, 226, 184, 640, 64, 67, 2930, 7, 6, 805, 91, 7, 47, 7836, 5776, 116, 2826, 119, 6316, 4, 253, 47, 203, 2825, 6911, 25, 2, 245, 5, 6912, 13, 2, 1, 16, 950, 37, 1, 22, 42, 121, 7837, 2353, 4925, 13, 2, 4134, 5, 42, 5778, 1679, 289, 3, 2123, 2, 1428, 7, 2, 72, 726, 1, 4, 84, 660, 3049, 94, 13, 2354, 5, 2, 4926, 2931, 5341, 3, 47, 1055, 1066, 265, 2284, 6911, 7, 933, 3, 1, 241, 7, 530, 154, 2, 3050, 2020, 5, 2353, 449, 47, 1055, 1066, 2930, 16, 1056, 7, 6, 805, 25, 2, 531, 6913, 6320, 5, 2, 113, 227, 1, 16, 9, 2, 1056, 8, 157, 3, 4927, 3, 31, 727, 25, 2, 6913, 6320, 792, 13, 2020, 1098, 12, 6318, 1745, 8, 187, 3164, 31, 531, 4, 2478, 889, 13, 2, 1, 1268, 5, 16, 8920, 300, 4, 888, 2019, 1575, 226, 184, 640, 105, 448, 659, 110, 105, 640, 3, 31, 6321, 727, 13, 6, 185, 170, 169, 542, 7, 31, 444, 25, 792, 3, 2, 4364, 47, 1066, 1850, 3, 87, 192, 67, 1055, 62, 8, 1222, 22, 12, 26, 25, 4135, 29, 31, 701, 1679, 4, 719, 328, 13, 423, 4, 4644, 3051, 40, 31, 805, 1016, 13, 5342, 4, 1129, 1, 5, 16, 7835, 3, 31, 6914, 727, 86, 12, 23, 3, 114, 1450, 4365, 13, 87, 3, 1161, 19, 12, 1067, 2, 7835, 9, 90, 4927, 7, 31, 727, 4, 3577, 32, 12, 98, 12, 23, 3, 702, 6, 1472, 13, 87, 7, 31, 444, 3, 575, 47, 1382, 82, 12, 41, 23, 3, 20, 47, 2720, 4, 346, 5, 2, 3292, 703, 542, 78, 8, 54, 3, 31, 444, 4136, 47, 1055, 1066, 117, 2418, 87, 3, 458, 318, 5, 2, 467, 1525, 3, 2, 523, 73, 9, 3, 1932, 87, 56, 13, 2, 5343, 5, 16, 1056, 6319, 8, 521, 3, 5779, 12, 10, 16, 1162, 70, 20, 3738, 302, 2, 245, 86, 463, 12, 1, 739, 3, 1932, 87, 56, 8, 2285, 10, 16, 1162, 136, 20, 3578, 7, 4644, 2419, 122, 8, 23, 137, 56, 861, 222, 5344, 5345, 2, 1268, 5, 16, 1056, 165, 4, 165, 3052, 1, 66, 2, 4365, 25, 1526, 25, 517, 122, 47, 1055, 1066, 2418, 87, 24, 3, 1145, 16, 7835, 7, 16, 444, 116, 2826, 119, 6316, 10, 8, 136, 1145, 4645, 5, 47, 1087, 13, 2, 1291, 5, 1471, 4, 13, 278, 1356, 1000, 185, 167, 7, 1, 5, 31, 7838, 5, 16, 169, 2417, 4, 53, 24, 6322, 3, 525, 87, 1067, 12, 391, 16, 115, 19, 16, 47, 971, 1679, 328, 2124, 634, 2221, 4922, 1, 13, 105, 3, 4928, 1067, 165, 4, 165, 85, 21, 2286, 1357, 13, 31, 2478, 753, 81, 310, 185, 167, 298, 4, 1550, 5346, 204, 934, 2825, 6911, 53, 12, 206, 2287, 8921, 206, 3939, 8922, 793, 445, 8923, 1, 206, 95, 17, 3939, 95, 206, 18]\n",
            "[ 444   25  792    3    2 4364   47 1066 1850    3   87  192   67 1055\n",
            "   62    8 1222   22   12   26   25 4135   29   31  701 1679    4  719\n",
            "  328   13  423    4 4644 3051   40   31  805 1016   13 5342    4 1129\n",
            "    1    5   16 7835    3   31 6914  727   86   12   23    3  114 1450\n",
            " 4365   13   87    3 1161   19   12 1067    2 7835    9   90 4927    7\n",
            "   31  727    4 3577   32   12   98   12   23    3  702    6 1472   13\n",
            "   87    7   31  444    3  575   47 1382   82   12   41   23    3   20\n",
            "   47 2720    4  346    5    2 3292  703  542   78    8   54    3   31\n",
            "  444 4136   47 1055 1066  117 2418   87    3  458  318    5    2  467\n",
            " 1525    3    2  523   73    9    3 1932   87   56   13    2 5343    5\n",
            "   16 1056 6319    8  521    3 5779   12   10   16 1162   70   20 3738\n",
            "  302    2  245   86  463   12    1  739    3 1932   87   56    8 2285\n",
            "   10   16 1162  136   20 3578    7 4644 2419  122    8   23  137   56\n",
            "  861  222 5344 5345    2 1268    5   16 1056  165    4  165 3052    1\n",
            "   66    2 4365   25 1526   25  517  122   47 1055 1066 2418   87   24\n",
            "    3 1145   16 7835    7   16  444  116 2826  119 6316   10    8  136\n",
            " 1145 4645    5   47 1087   13    2 1291    5 1471    4   13  278 1356\n",
            " 1000  185  167    7    1    5   31 7838    5   16  169 2417    4   53\n",
            "   24 6322    3  525   87 1067   12  391   16  115   19   16   47  971\n",
            " 1679  328 2124  634 2221 4922    1   13  105    3 4928 1067  165    4\n",
            "  165   85   21 2286 1357   13   31 2478  753   81  310  185  167  298\n",
            "    4 1550 5346  204  934 2825 6911   53   12  206 2287 8921  206 3939\n",
            " 8922  793  445 8923    1  206   95   17 3939   95  206   18]\n",
            "[126, 17, 837, 44, 1, 106, 24, 439, 6, 8924, 1248, 22, 4137, 9, 291, 13, 1, 3739, 15, 1933, 266, 29, 485, 40, 310, 2721, 1, 29, 17, 1017, 1933, 18, 1473, 8925, 5780, 8926, 2621, 1, 3165, 29, 40, 17, 35, 890, 18, 448, 392, 1]\n",
            "[ 126   17  837   44    1  106   24  439    6 8924 1248   22 4137    9\n",
            "  291   13    1 3739   15 1933  266   29  485   40  310 2721    1   29\n",
            "   17 1017 1933   18 1473 8925 5780 8926 2621    1 3165   29   40   17\n",
            "   35  890   18  448  392    1    0    0    0    0    0    0    0    0\n",
            "    0    0    0    0    0    0    0    0    0    0    0    0    0    0\n",
            "    0    0    0    0    0    0    0    0    0    0    0    0    0    0\n",
            "    0    0    0    0    0    0    0    0    0    0    0    0    0    0\n",
            "    0    0    0    0    0    0    0    0    0    0    0    0    0    0\n",
            "    0    0    0    0    0    0    0    0    0    0    0    0    0    0\n",
            "    0    0    0    0    0    0    0    0    0    0    0    0    0    0\n",
            "    0    0    0    0    0    0    0    0    0    0    0    0    0    0\n",
            "    0    0    0    0    0    0    0    0    0    0    0    0    0    0\n",
            "    0    0    0    0    0    0    0    0    0    0    0    0    0    0\n",
            "    0    0    0    0    0    0    0    0    0    0    0    0    0    0\n",
            "    0    0    0    0    0    0    0    0    0    0    0    0    0    0\n",
            "    0    0    0    0    0    0    0    0    0    0    0    0    0    0\n",
            "    0    0    0    0    0    0    0    0    0    0    0    0    0    0\n",
            "    0    0    0    0    0    0    0    0    0    0    0    0    0    0\n",
            "    0    0    0    0    0    0    0    0    0    0    0    0    0    0\n",
            "    0    0    0    0    0    0    0    0    0    0    0    0    0    0\n",
            "    0    0    0    0    0    0    0    0    0    0    0    0    0    0\n",
            "    0    0    0    0    0    0    0    0    0    0    0    0    0    0\n",
            "    0    0    0    0    0    0    0    0    0    0    0    0]\n",
            "[2825, 1, 99, 493, 21, 11, 58, 2297, 6, 1, 5, 6341, 4372, 4, 1, 28, 1, 217, 12, 3585, 7, 2, 2230, 4372, 3, 2, 8960, 7858, 4, 2, 5777, 5, 2, 7858, 5793, 2, 4372, 10, 14, 47, 2295, 12, 123, 373, 179, 2830, 14, 58, 2, 159, 33, 19, 2, 4946, 863, 3, 2, 2941, 8, 961, 8, 136, 306, 11, 264, 316, 430, 15, 2, 164, 13, 6, 4373, 8, 274, 16, 51, 22, 2482, 51, 5, 2, 1, 65, 8, 138, 397, 561, 4, 67, 14, 6, 105, 1, 10, 14, 51, 5, 2, 1607, 440, 7859, 397, 5359, 2298, 2730, 34, 74, 5, 2, 39, 14, 1, 2841, 1, 13, 16, 623, 12, 411, 21, 53, 11, 298, 284, 12, 138, 561, 16, 1, 6929, 3450, 6930, 7860, 4374, 754, 5, 4947, 17, 35, 7861, 2842, 418, 584, 7862, 206, 341, 921, 98, 1226, 79, 14, 355, 786, 81, 17, 105, 111, 206, 18, 1748, 1749, 5360, 1113, 784, 3, 319, 22, 16, 209, 194, 42, 75, 3, 953, 319, 1069, 18, 31, 59, 5, 206, 341, 9, 205, 3, 17, 893, 206, 18, 378, 589]\n",
            "[2825    1   99  493   21   11   58 2297    6    1    5 6341 4372    4\n",
            "    1   28    1  217   12 3585    7    2 2230 4372    3    2 8960 7858\n",
            "    4    2 5777    5    2 7858 5793    2 4372   10   14   47 2295   12\n",
            "  123  373  179 2830   14   58    2  159   33   19    2 4946  863    3\n",
            "    2 2941    8  961    8  136  306   11  264  316  430   15    2  164\n",
            "   13    6 4373    8  274   16   51   22 2482   51    5    2    1   65\n",
            "    8  138  397  561    4   67   14    6  105    1   10   14   51    5\n",
            "    2 1607  440 7859  397 5359 2298 2730   34   74    5    2   39   14\n",
            "    1 2841    1   13   16  623   12  411   21   53   11  298  284   12\n",
            "  138  561   16    1 6929 3450 6930 7860 4374  754    5 4947   17   35\n",
            " 7861 2842  418  584 7862  206  341  921   98 1226   79   14  355  786\n",
            "   81   17  105  111  206   18 1748 1749 5360 1113  784    3  319   22\n",
            "   16  209  194   42   75    3  953  319 1069   18   31   59    5  206\n",
            "  341    9  205    3   17  893  206   18  378  589    0    0    0    0\n",
            "    0    0    0    0    0    0    0    0    0    0    0    0    0    0\n",
            "    0    0    0    0    0    0    0    0    0    0    0    0    0    0\n",
            "    0    0    0    0    0    0    0    0    0    0    0    0    0    0\n",
            "    0    0    0    0    0    0    0    0    0    0    0    0    0    0\n",
            "    0    0    0    0    0    0    0    0    0    0    0    0    0    0\n",
            "    0    0    0    0    0    0    0    0    0    0    0    0    0    0\n",
            "    0    0    0    0    0    0    0    0    0    0    0    0    0    0\n",
            "    0    0    0    0    0    0    0    0    0    0    0    0    0    0\n",
            "    0    0    0    0    0    0    0    0    0    0    0    0]\n"
          ],
          "name": "stdout"
        }
      ]
    },
    {
      "cell_type": "code",
      "metadata": {
        "colab": {
          "base_uri": "https://localhost:8080/"
        },
        "id": "LzOKeXSyDlcd",
        "outputId": "307a759c-a2bd-426a-a97c-c303f399e837"
      },
      "source": [
        "validation_sequences = tokenizer.texts_to_sequences(validation_sentences)\n",
        "validation_padded = pad_sequences(validation_sequences, padding=padding_type, maxlen=max_length)\n",
        "\n",
        "print(len(validation_sequences))\n",
        "print(validation_padded.shape)"
      ],
      "execution_count": null,
      "outputs": [
        {
          "output_type": "stream",
          "text": [
            "571\n",
            "(571, 320)\n"
          ],
          "name": "stdout"
        }
      ]
    },
    {
      "cell_type": "markdown",
      "metadata": {
        "id": "oikPjR2-K9Lb"
      },
      "source": [
        "## **Model Preperation**"
      ]
    },
    {
      "cell_type": "code",
      "metadata": {
        "colab": {
          "base_uri": "https://localhost:8080/"
        },
        "id": "eAahW5kDE9B8",
        "outputId": "2c19fcdd-7708-4830-ee6a-5e0529c72289"
      },
      "source": [
        "model = tf.keras.Sequential([\n",
        "    tf.keras.layers.Embedding(vocab_size, embedding_dim, input_length=max_length),\n",
        "    tf.keras.layers.GlobalAveragePooling1D(),\n",
        "    tf.keras.layers.Dense(24, activation='relu'),\n",
        "    tf.keras.layers.Dense(1, activation='sigmoid')\n",
        "])\n",
        "model.compile(loss=tf.keras.losses.binary_crossentropy,optimizer='adam',metrics=['accuracy'])\n",
        "model.summary()"
      ],
      "execution_count": null,
      "outputs": [
        {
          "output_type": "stream",
          "text": [
            "Model: \"sequential\"\n",
            "_________________________________________________________________\n",
            "Layer (type)                 Output Shape              Param #   \n",
            "=================================================================\n",
            "embedding (Embedding)        (None, 320, 32)           320000    \n",
            "_________________________________________________________________\n",
            "global_average_pooling1d (Gl (None, 32)                0         \n",
            "_________________________________________________________________\n",
            "dense (Dense)                (None, 24)                792       \n",
            "_________________________________________________________________\n",
            "dense_1 (Dense)              (None, 1)                 25        \n",
            "=================================================================\n",
            "Total params: 320,817\n",
            "Trainable params: 320,817\n",
            "Non-trainable params: 0\n",
            "_________________________________________________________________\n"
          ],
          "name": "stdout"
        }
      ]
    },
    {
      "cell_type": "markdown",
      "metadata": {
        "id": "G5SBte0sLBxk"
      },
      "source": [
        "## **Training the model with data**"
      ]
    },
    {
      "cell_type": "code",
      "metadata": {
        "colab": {
          "base_uri": "https://localhost:8080/"
        },
        "id": "wyFRmTAPFCPJ",
        "outputId": "99d7d048-b327-48cf-ba37-1aaf5f974187"
      },
      "source": [
        "num_epochs = 10\n",
        "history = model.fit(train_padded, train_labels, epochs=num_epochs, validation_data=(validation_padded, validation_labels), verbose=2)"
      ],
      "execution_count": null,
      "outputs": [
        {
          "output_type": "stream",
          "text": [
            "Epoch 1/10\n",
            "72/72 - 3s - loss: 0.5888 - accuracy: 0.8273 - val_loss: 0.4584 - val_accuracy: 0.8511\n",
            "Epoch 2/10\n",
            "72/72 - 0s - loss: 0.3734 - accuracy: 0.8620 - val_loss: 0.3562 - val_accuracy: 0.8511\n",
            "Epoch 3/10\n",
            "72/72 - 0s - loss: 0.3110 - accuracy: 0.8663 - val_loss: 0.3063 - val_accuracy: 0.8651\n",
            "Epoch 4/10\n",
            "72/72 - 0s - loss: 0.2413 - accuracy: 0.8996 - val_loss: 0.2157 - val_accuracy: 0.9089\n",
            "Epoch 5/10\n",
            "72/72 - 0s - loss: 0.1522 - accuracy: 0.9474 - val_loss: 0.1290 - val_accuracy: 0.9650\n",
            "Epoch 6/10\n",
            "72/72 - 0s - loss: 0.0929 - accuracy: 0.9724 - val_loss: 0.0855 - val_accuracy: 0.9685\n",
            "Epoch 7/10\n",
            "72/72 - 0s - loss: 0.0633 - accuracy: 0.9781 - val_loss: 0.0620 - val_accuracy: 0.9755\n",
            "Epoch 8/10\n",
            "72/72 - 0s - loss: 0.0461 - accuracy: 0.9860 - val_loss: 0.0479 - val_accuracy: 0.9825\n",
            "Epoch 9/10\n",
            "72/72 - 0s - loss: 0.0358 - accuracy: 0.9882 - val_loss: 0.0388 - val_accuracy: 0.9912\n",
            "Epoch 10/10\n",
            "72/72 - 0s - loss: 0.0275 - accuracy: 0.9934 - val_loss: 0.0318 - val_accuracy: 0.9895\n"
          ],
          "name": "stdout"
        }
      ]
    },
    {
      "cell_type": "markdown",
      "metadata": {
        "id": "Q1lHyf_8LJFy"
      },
      "source": [
        "## **Traning Curves**"
      ]
    },
    {
      "cell_type": "code",
      "metadata": {
        "colab": {
          "base_uri": "https://localhost:8080/",
          "height": 543
        },
        "id": "CY_OdP4GFG0j",
        "outputId": "127cd24c-8413-47dc-c285-c29a00e59869"
      },
      "source": [
        "import matplotlib.pyplot as plt\n",
        "\n",
        "\n",
        "def plot_graphs(history, string):\n",
        "  plt.plot(history.history[string])\n",
        "  plt.plot(history.history['val_'+string])\n",
        "  plt.xlabel(\"Epochs\")\n",
        "  plt.ylabel(string)\n",
        "  plt.legend([string, 'val_'+string])\n",
        "  plt.show()\n",
        "  \n",
        "plot_graphs(history, \"accuracy\")\n",
        "plot_graphs(history, \"loss\")"
      ],
      "execution_count": null,
      "outputs": [
        {
          "output_type": "display_data",
          "data": {
            "image/png": "[encoded data removed]",
            "text/plain": [
              "<Figure size 432x288 with 1 Axes>"
            ]
          },
          "metadata": {
            "tags": [],
            "needs_background": "light"
          }
        },
        {
          "output_type": "display_data",
          "data": {
            "image/png": "[encoded data removed]",
            "text/plain": [
              "<Figure size 432x288 with 1 Axes>"
            ]
          },
          "metadata": {
            "tags": [],
            "needs_background": "light"
          }
        }
      ]
    },
    {
      "cell_type": "markdown",
      "metadata": {
        "id": "jnj0CYrVLv_S"
      },
      "source": [
        "## **Preditions**"
      ]
    },
    {
      "cell_type": "code",
      "metadata": {
        "id": "g2XaDT-tLCB-"
      },
      "source": [
        "with open(\"sample11.txt\", \"r\") as file:\n",
        "    message = file.read()"
      ],
      "execution_count": null,
      "outputs": []
    },
    {
      "cell_type": "code",
      "metadata": {
        "id": "XF4eef9FMXMT"
      },
      "source": [
        "def cleanhtml(raw_html):\n",
        "    cleanr = re.compile('<.*?>')\n",
        "    cleantext = re.sub(cleanr, '', raw_html)\n",
        "    l = cleantext.replace('\\n',' ')\n",
        "    s = re.sub(r\"[^a-zA-Z0-9]+\", ' ', l)\n",
        "    s = s.lower()\n",
        "    return s"
      ],
      "execution_count": null,
      "outputs": []
    },
    {
      "cell_type": "code",
      "metadata": {
        "id": "N8c3WtXOLJWP"
      },
      "source": [
        "message_clean_html = [cleanhtml(message)]"
      ],
      "execution_count": null,
      "outputs": []
    },
    {
      "cell_type": "code",
      "metadata": {
        "id": "BsPbARtNNVnL"
      },
      "source": [
        "message_token = tokenizer.texts_to_sequences(message_clean_html)\n",
        "message_pad = pad_sequences(message_token, padding=padding_type, maxlen=max_length)"
      ],
      "execution_count": null,
      "outputs": []
    },
    {
      "cell_type": "code",
      "metadata": {
        "colab": {
          "base_uri": "https://localhost:8080/"
        },
        "id": "wdVQ0gufNTvZ",
        "outputId": "15776e8c-8898-45d4-9a07-bdbd81b1cd4d"
      },
      "source": [
        "if model.predict(message_pad)[0][0] >= 0.5:\n",
        "  print(\"This message is Ham\")\n",
        "else:\n",
        "  print(\"This message is Spam\")"
      ],
      "execution_count": null,
      "outputs": [
        {
          "output_type": "stream",
          "text": [
            "This message is Ham\n"
          ],
          "name": "stdout"
        }
      ]
    },
    {
      "cell_type": "markdown",
      "metadata": {
        "id": "aBIytoAJLQKY"
      },
      "source": [
        "## **Writing layer values into Tab Seperated Values**"
      ]
    },
    {
      "cell_type": "code",
      "metadata": {
        "id": "HVtA9e6aFPA6"
      },
      "source": [
        "reverse_word_index = dict([(value, key) for (key, value) in word_index.items()])\n",
        "\n",
        "def decode_sentence(text):\n",
        "    return ' '.join([reverse_word_index.get(i, '?') for i in text])"
      ],
      "execution_count": null,
      "outputs": []
    },
    {
      "cell_type": "code",
      "metadata": {
        "colab": {
          "base_uri": "https://localhost:8080/"
        },
        "id": "CoIgOhZaFTQH",
        "outputId": "fb12109b-0641-46b1-b2d5-d5f338eefc08"
      },
      "source": [
        "e = model.layers[0]\n",
        "weights = e.get_weights()[0]\n",
        "print(weights.shape)"
      ],
      "execution_count": null,
      "outputs": [
        {
          "output_type": "stream",
          "text": [
            "(10000, 32)\n"
          ],
          "name": "stdout"
        }
      ]
    },
    {
      "cell_type": "code",
      "metadata": {
        "colab": {
          "base_uri": "https://localhost:8080/"
        },
        "id": "QjLOTuKxHP1W",
        "outputId": "2c468a9e-838f-4353-e512-7198cd637b13"
      },
      "source": [
        "len(reverse_word_index)"
      ],
      "execution_count": null,
      "outputs": [
        {
          "output_type": "execute_result",
          "data": {
            "text/plain": [
              "21185"
            ]
          },
          "metadata": {
            "tags": []
          },
          "execution_count": 35
        }
      ]
    },
    {
      "cell_type": "code",
      "metadata": {
        "id": "HTV_Z-V9GIsl"
      },
      "source": [
        "import io\n",
        "\n",
        "out_v = io.open('vecs.tsv', 'w', encoding='utf-8')\n",
        "out_m = io.open('meta.tsv', 'w', encoding='utf-8')\n",
        "for word_num in range(1, 7973):\n",
        "  word = reverse_word_index[word_num]\n",
        "  embeddings = weights[word_num]\n",
        "  out_m.write(word + \"\\n\")\n",
        "  out_v.write('\\t'.join([str(x) for x in embeddings]) + \"\\n\")\n",
        "out_v.close()\n",
        "out_m.close()"
      ],
      "execution_count": null,
      "outputs": []
    },
    {
      "cell_type": "code",
      "metadata": {
        "colab": {
          "base_uri": "https://localhost:8080/",
          "height": 17
        },
        "id": "AzARhVGDGL2d",
        "outputId": "994e14eb-bf43-44cc-f2a7-7b30a9b3b287"
      },
      "source": [
        "try:\n",
        "  from google.colab import files\n",
        "except ImportError:\n",
        "  pass\n",
        "else:\n",
        "  files.download('vecs.tsv')\n",
        "  files.download('meta.tsv')"
      ],
      "execution_count": null,
      "outputs": [
        {
          "output_type": "display_data",
          "data": {
            "application/javascript": [
              "\n",
              "    async function download(id, filename, size) {\n",
              "      if (!google.colab.kernel.accessAllowed) {\n",
              "        return;\n",
              "      }\n",
              "      const div = document.createElement('div');\n",
              "      const label = document.createElement('label');\n",
              "      label.textContent = `Downloading \"${filename}\": `;\n",
              "      div.appendChild(label);\n",
              "      const progress = document.createElement('progress');\n",
              "      progress.max = size;\n",
              "      div.appendChild(progress);\n",
              "      document.body.appendChild(div);\n",
              "\n",
              "      const buffers = [];\n",
              "      let downloaded = 0;\n",
              "\n",
              "      const channel = await google.colab.kernel.comms.open(id);\n",
              "      // Send a message to notify the kernel that we're ready.\n",
              "      channel.send({})\n",
              "\n",
              "      for await (const message of channel.messages) {\n",
              "        // Send a message to notify the kernel that we're ready.\n",
              "        channel.send({})\n",
              "        if (message.buffers) {\n",
              "          for (const buffer of message.buffers) {\n",
              "            buffers.push(buffer);\n",
              "            downloaded += buffer.byteLength;\n",
              "            progress.value = downloaded;\n",
              "          }\n",
              "        }\n",
              "      }\n",
              "      const blob = new Blob(buffers, {type: 'application/binary'});\n",
              "      const a = document.createElement('a');\n",
              "      a.href = window.URL.createObjectURL(blob);\n",
              "      a.download = filename;\n",
              "      div.appendChild(a);\n",
              "      a.click();\n",
              "      div.remove();\n",
              "    }\n",
              "  "
            ],
            "text/plain": [
              "<IPython.core.display.Javascript object>"
            ]
          },
          "metadata": {
            "tags": []
          }
        },
        {
          "output_type": "display_data",
          "data": {
            "application/javascript": [
              "download(\"download_4e5984a7-56d9-42b2-a939-af390097db8e\", \"vecs.tsv\", 3052536)"
            ],
            "text/plain": [
              "<IPython.core.display.Javascript object>"
            ]
          },
          "metadata": {
            "tags": []
          }
        },
        {
          "output_type": "display_data",
          "data": {
            "application/javascript": [
              "\n",
              "    async function download(id, filename, size) {\n",
              "      if (!google.colab.kernel.accessAllowed) {\n",
              "        return;\n",
              "      }\n",
              "      const div = document.createElement('div');\n",
              "      const label = document.createElement('label');\n",
              "      label.textContent = `Downloading \"${filename}\": `;\n",
              "      div.appendChild(label);\n",
              "      const progress = document.createElement('progress');\n",
              "      progress.max = size;\n",
              "      div.appendChild(progress);\n",
              "      document.body.appendChild(div);\n",
              "\n",
              "      const buffers = [];\n",
              "      let downloaded = 0;\n",
              "\n",
              "      const channel = await google.colab.kernel.comms.open(id);\n",
              "      // Send a message to notify the kernel that we're ready.\n",
              "      channel.send({})\n",
              "\n",
              "      for await (const message of channel.messages) {\n",
              "        // Send a message to notify the kernel that we're ready.\n",
              "        channel.send({})\n",
              "        if (message.buffers) {\n",
              "          for (const buffer of message.buffers) {\n",
              "            buffers.push(buffer);\n",
              "            downloaded += buffer.byteLength;\n",
              "            progress.value = downloaded;\n",
              "          }\n",
              "        }\n",
              "      }\n",
              "      const blob = new Blob(buffers, {type: 'application/binary'});\n",
              "      const a = document.createElement('a');\n",
              "      a.href = window.URL.createObjectURL(blob);\n",
              "      a.download = filename;\n",
              "      div.appendChild(a);\n",
              "      a.click();\n",
              "      div.remove();\n",
              "    }\n",
              "  "
            ],
            "text/plain": [
              "<IPython.core.display.Javascript object>"
            ]
          },
          "metadata": {
            "tags": []
          }
        },
        {
          "output_type": "display_data",
          "data": {
            "application/javascript": [
              "download(\"download_be91570c-ab4b-4aab-b03a-786ec6f6d6fa\", \"meta.tsv\", 59960)"
            ],
            "text/plain": [
              "<IPython.core.display.Javascript object>"
            ]
          },
          "metadata": {
            "tags": []
          }
        }
      ]
    },
    {
      "cell_type": "code",
      "metadata": {
        "id": "H-dYfuwgWYQv"
      },
      "source": [
        ""
      ],
      "execution_count": null,
      "outputs": []
    }
  ]
}