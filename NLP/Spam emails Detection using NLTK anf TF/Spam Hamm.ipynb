{
 "cells": [
  {
   "cell_type": "code",
   "execution_count": 6,
   "metadata": {},
   "outputs": [],
   "source": [
    "import numpy as np\n",
    "import pandas as pd\n",
    "import matplotlib.pyplot as plt\n",
    "import nltk\n",
    "import re\n",
    "import string"
   ]
  },
  {
   "cell_type": "markdown",
   "metadata": {},
   "source": [
    "<b>Note:</b><br>\n",
    "<ul>\n",
    "    <li>How to install nltk?</li><br>\n",
    "    <p>pip install nltk</p>\n",
    "</ul>"
   ]
  },
  {
   "cell_type": "code",
   "execution_count": 14,
   "metadata": {},
   "outputs": [
    {
     "name": "stdout",
     "output_type": "stream",
     "text": [
      "showing info https://raw.githubusercontent.com/nltk/nltk_data/gh-pages/index.xml\n"
     ]
    },
    {
     "data": {
      "text/plain": [
       "True"
      ]
     },
     "execution_count": 14,
     "metadata": {},
     "output_type": "execute_result"
    }
   ],
   "source": [
    "nltk.download()"
   ]
  },
  {
   "cell_type": "code",
   "execution_count": 9,
   "metadata": {},
   "outputs": [
    {
     "data": {
      "text/html": [
       "<div>\n",
       "<style scoped>\n",
       "    .dataframe tbody tr th:only-of-type {\n",
       "        vertical-align: middle;\n",
       "    }\n",
       "\n",
       "    .dataframe tbody tr th {\n",
       "        vertical-align: top;\n",
       "    }\n",
       "\n",
       "    .dataframe thead th {\n",
       "        text-align: right;\n",
       "    }\n",
       "</style>\n",
       "<table border=\"1\" class=\"dataframe\">\n",
       "  <thead>\n",
       "    <tr style=\"text-align: right;\">\n",
       "      <th></th>\n",
       "      <th>v1</th>\n",
       "      <th>v2</th>\n",
       "    </tr>\n",
       "  </thead>\n",
       "  <tbody>\n",
       "    <tr>\n",
       "      <th>0</th>\n",
       "      <td>ham</td>\n",
       "      <td>Go until jurong point, crazy.. Available only in bugis n great world la e buffet... Cine there got amore wat...</td>\n",
       "    </tr>\n",
       "    <tr>\n",
       "      <th>1</th>\n",
       "      <td>ham</td>\n",
       "      <td>Ok lar... Joking wif u oni...</td>\n",
       "    </tr>\n",
       "    <tr>\n",
       "      <th>2</th>\n",
       "      <td>spam</td>\n",
       "      <td>Free entry in 2 a wkly comp to win FA Cup final tkts 21st May 2005. Text FA to 87121 to receive entry question(std txt rate)T&amp;C's apply 08452810075over18's</td>\n",
       "    </tr>\n",
       "    <tr>\n",
       "      <th>3</th>\n",
       "      <td>ham</td>\n",
       "      <td>U dun say so early hor... U c already then say...</td>\n",
       "    </tr>\n",
       "    <tr>\n",
       "      <th>4</th>\n",
       "      <td>ham</td>\n",
       "      <td>Nah I don't think he goes to usf, he lives around here though</td>\n",
       "    </tr>\n",
       "  </tbody>\n",
       "</table>\n",
       "</div>"
      ],
      "text/plain": [
       "     v1  \\\n",
       "0   ham   \n",
       "1   ham   \n",
       "2  spam   \n",
       "3   ham   \n",
       "4   ham   \n",
       "\n",
       "                                                                                                                                                            v2  \n",
       "0                                              Go until jurong point, crazy.. Available only in bugis n great world la e buffet... Cine there got amore wat...  \n",
       "1                                                                                                                                Ok lar... Joking wif u oni...  \n",
       "2  Free entry in 2 a wkly comp to win FA Cup final tkts 21st May 2005. Text FA to 87121 to receive entry question(std txt rate)T&C's apply 08452810075over18's  \n",
       "3                                                                                                            U dun say so early hor... U c already then say...  \n",
       "4                                                                                                Nah I don't think he goes to usf, he lives around here though  "
      ]
     },
     "execution_count": 9,
     "metadata": {},
     "output_type": "execute_result"
    }
   ],
   "source": [
    "pd.set_option('display.max_colwidth', 500)"
   ]
  },
  {
   "cell_type": "code",
   "execution_count": 91,
   "metadata": {},
   "outputs": [],
   "source": [
    "import os\n",
    "import email\n",
    "import email.policy\n",
    "\n",
    "ham_messages_list = os.listdir('ham')\n",
    "spam_messages_list = os.listdir('spam')"
   ]
  },
  {
   "cell_type": "code",
   "execution_count": 92,
   "metadata": {},
   "outputs": [],
   "source": [
    "def load_email(path, filename):\n",
    "    with open(os.path.join(path, filename), 'rb') as file:\n",
    "        email_file = email.parser.BytesParser(policy = email.policy.default).parse(file)\n",
    "    return email_file\n",
    "\n",
    "ham_emails = [load_email('ham', filename) for filename in ham_messages_list]\n",
    "spam_emails = [load_email('spam', filename) for filename in spam_messages_list]"
   ]
  },
  {
   "cell_type": "code",
   "execution_count": 97,
   "metadata": {},
   "outputs": [
    {
     "data": {
      "text/html": [
       "<div>\n",
       "<style scoped>\n",
       "    .dataframe tbody tr th:only-of-type {\n",
       "        vertical-align: middle;\n",
       "    }\n",
       "\n",
       "    .dataframe tbody tr th {\n",
       "        vertical-align: top;\n",
       "    }\n",
       "\n",
       "    .dataframe thead th {\n",
       "        text-align: right;\n",
       "    }\n",
       "</style>\n",
       "<table border=\"1\" class=\"dataframe\">\n",
       "  <thead>\n",
       "    <tr style=\"text-align: right;\">\n",
       "      <th></th>\n",
       "      <th>Content</th>\n",
       "      <th>Label</th>\n",
       "    </tr>\n",
       "  </thead>\n",
       "  <tbody>\n",
       "    <tr>\n",
       "      <th>0</th>\n",
       "      <td>congratulations you get a free handheld organizer img src http www ahamembership com assoc images 7 3 header pda gif hspace 0 dear friend i have your personal digital organizer it s free but i need to know where to send it click here and complete the form organize your life and keep track of appointments names and numbers with this modern digital organizer store up to 100 important text notes and 100 names numbers features easy to use touch screen technology 10 digit calculator currency and...</td>\n",
       "      <td>0</td>\n",
       "    </tr>\n",
       "    <tr>\n",
       "      <th>1</th>\n",
       "      <td>your sex drive should never be second on the list viagra online now and shipped within 24 hours http buy onlinepills com main2 php rx 16372 stay hard the way you once could less than 7 00 per dose to make it all happen again http buy onlinepills com main2 php rx 16372 don t settle for less keep your lover happy http buy onlinepills com main2 php rx 16372 no doctor office s to visit simply fill out our online form and our u s doctor will write your prescription and send it within 48 hours htt...</td>\n",
       "      <td>0</td>\n",
       "    </tr>\n",
       "    <tr>\n",
       "      <th>2</th>\n",
       "      <td>digital publishing tools free software alert publish like a professional with digital publishing tools easily create professional ebooks ebrochures ecatalogs resumes newsletters presentations magazines photo albums invitations much much more save money save trees save on printing postage and advertising costs digital publishing tools download new free version now limited time offer choose from these display styles 3d page turn slide show sweep wipe embed hyperlinks and link to anywhere onli...</td>\n",
       "      <td>0</td>\n",
       "    </tr>\n",
       "    <tr>\n",
       "      <th>3</th>\n",
       "      <td></td>\n",
       "      <td>0</td>\n",
       "    </tr>\n",
       "    <tr>\n",
       "      <th>4</th>\n",
       "      <td>protect your financial well being purchase an extended auto warranty for your car today click here for a free no obligation quote http www newnamedns com warranty car troubles always seem to happen at the worst possible time protect yourself and your family with a quality extended warranty for your car truck or suv so that a large expense cannot hit you all at once we cover most vehicles with less than 150 000 miles buy direct our prices are 40 60 less we offer fair prices and prompt toll fr...</td>\n",
       "      <td>0</td>\n",
       "    </tr>\n",
       "  </tbody>\n",
       "</table>\n",
       "</div>"
      ],
      "text/plain": [
       "                                                                                                                                                                                                                                                                                                                                                                                                                                                                                                               Content  \\\n",
       "0   congratulations you get a free handheld organizer img src http www ahamembership com assoc images 7 3 header pda gif hspace 0 dear friend i have your personal digital organizer it s free but i need to know where to send it click here and complete the form organize your life and keep track of appointments names and numbers with this modern digital organizer store up to 100 important text notes and 100 names numbers features easy to use touch screen technology 10 digit calculator currency and...   \n",
       "1  your sex drive should never be second on the list viagra online now and shipped within 24 hours http buy onlinepills com main2 php rx 16372 stay hard the way you once could less than 7 00 per dose to make it all happen again http buy onlinepills com main2 php rx 16372 don t settle for less keep your lover happy http buy onlinepills com main2 php rx 16372 no doctor office s to visit simply fill out our online form and our u s doctor will write your prescription and send it within 48 hours htt...   \n",
       "2   digital publishing tools free software alert publish like a professional with digital publishing tools easily create professional ebooks ebrochures ecatalogs resumes newsletters presentations magazines photo albums invitations much much more save money save trees save on printing postage and advertising costs digital publishing tools download new free version now limited time offer choose from these display styles 3d page turn slide show sweep wipe embed hyperlinks and link to anywhere onli...   \n",
       "3                                                                                                                                                                                                                                                                                                                                                                                                                                                                                                                        \n",
       "4  protect your financial well being purchase an extended auto warranty for your car today click here for a free no obligation quote http www newnamedns com warranty car troubles always seem to happen at the worst possible time protect yourself and your family with a quality extended warranty for your car truck or suv so that a large expense cannot hit you all at once we cover most vehicles with less than 150 000 miles buy direct our prices are 40 60 less we offer fair prices and prompt toll fr...   \n",
       "\n",
       "   Label  \n",
       "0      0  \n",
       "1      0  \n",
       "2      0  \n",
       "3      0  \n",
       "4      0  "
      ]
     },
     "execution_count": 97,
     "metadata": {},
     "output_type": "execute_result"
    }
   ],
   "source": [
    "def cleanhtml(raw_html):\n",
    "    cleanr = re.compile('<.*?>')\n",
    "    cleantext = re.sub(cleanr, '', raw_html)\n",
    "    return cleantext\n",
    "\n",
    "spam_df = []\n",
    "for email in spam_emails:\n",
    "    try:\n",
    "        if email.get_content_type() == 'text/plain' or email.get_content_type() == 'text/html' :\n",
    "            l = email.get_content()\n",
    "            l = cleanhtml(l)\n",
    "            l = l.replace('\\n',' ')\n",
    "            s = re.sub(r\"[^a-zA-Z0-9]+\", ' ', l)\n",
    "            spam_df.append(s.lower())      \n",
    "    except LookupError: pass\n",
    "spam_df = pd.DataFrame(spam_df, columns = ['Content'])\n",
    "spam_df['Label'] = 0\n",
    "spam_df.head()"
   ]
  },
  {
   "cell_type": "code",
   "execution_count": 98,
   "metadata": {},
   "outputs": [
    {
     "data": {
      "text/html": [
       "<div>\n",
       "<style scoped>\n",
       "    .dataframe tbody tr th:only-of-type {\n",
       "        vertical-align: middle;\n",
       "    }\n",
       "\n",
       "    .dataframe tbody tr th {\n",
       "        vertical-align: top;\n",
       "    }\n",
       "\n",
       "    .dataframe thead th {\n",
       "        text-align: right;\n",
       "    }\n",
       "</style>\n",
       "<table border=\"1\" class=\"dataframe\">\n",
       "  <thead>\n",
       "    <tr style=\"text-align: right;\">\n",
       "      <th></th>\n",
       "      <th>Content</th>\n",
       "      <th>Label</th>\n",
       "    </tr>\n",
       "  </thead>\n",
       "  <tbody>\n",
       "    <tr>\n",
       "      <th>0</th>\n",
       "      <td>url http www newsisfree com click 1 8381145 215 date 2002 09 30t03 04 58 01 00 arts fourth art raid on philanthropist s home once targeted by the ira and dublin gangster martin cahill</td>\n",
       "      <td>1</td>\n",
       "    </tr>\n",
       "    <tr>\n",
       "      <th>1</th>\n",
       "      <td>http www guardian co uk print 0 2c3858 2c4489999 2c00 html making a mesh on the move a new way to give us fast mobile net access spells further trouble for 3g reports peter rojas peter rojas thursday august 29 2002 the guardian imagine being able to surf the net at speeds faster than dsl from anywhere at any time you could watch a live video webcast while waiting for the bus email photos to your friends while sitting in the park or download the mp3 of the song that s playing in the pub befo...</td>\n",
       "      <td>1</td>\n",
       "    </tr>\n",
       "    <tr>\n",
       "      <th>2</th>\n",
       "      <td>you re probably running exmh on a local machine i m running it on a very remote machine in this scenario the mime handling is weak nope i run exmh on my desktops at home and at work with the resulting exmh windows being displayed on both my work and home desktops gratis ssh x11 forwarding i run exmh routinely from home broadband using an xwindows client tunneled through ssh under winxp it works very well in this fashion fwiw i use eudora under winder because it s less of a virus magnet ther...</td>\n",
       "      <td>1</td>\n",
       "    </tr>\n",
       "    <tr>\n",
       "      <th>3</th>\n",
       "      <td>on sun 1 sep 2002 reza b far ebuilt wrote 2 c and c forces the developer to solve problems such as memory management over and over again imho java is superior because the problem of programming in the future is not about 0 s and 1 s making the compiler 2 faster or making your code take 5 less memory it s about design patterns architecture high level stuff considering 90 of the fake job posting i see are for embedded systems or device drivers c still rules the world 3 java is not just a progr...</td>\n",
       "      <td>1</td>\n",
       "    </tr>\n",
       "    <tr>\n",
       "      <th>4</th>\n",
       "      <td>url http www newsisfree com click 5 8296987 1717 date 2002 09 27t02 45 51 01 00 dekalb daily chronicle</td>\n",
       "      <td>1</td>\n",
       "    </tr>\n",
       "  </tbody>\n",
       "</table>\n",
       "</div>"
      ],
      "text/plain": [
       "                                                                                                                                                                                                                                                                                                                                                                                                                                                                                                               Content  \\\n",
       "0                                                                                                                                                                                                                                                                                                                             url http www newsisfree com click 1 8381145 215 date 2002 09 30t03 04 58 01 00 arts fourth art raid on philanthropist s home once targeted by the ira and dublin gangster martin cahill    \n",
       "1   http www guardian co uk print 0 2c3858 2c4489999 2c00 html making a mesh on the move a new way to give us fast mobile net access spells further trouble for 3g reports peter rojas peter rojas thursday august 29 2002 the guardian imagine being able to surf the net at speeds faster than dsl from anywhere at any time you could watch a live video webcast while waiting for the bus email photos to your friends while sitting in the park or download the mp3 of the song that s playing in the pub befo...   \n",
       "2   you re probably running exmh on a local machine i m running it on a very remote machine in this scenario the mime handling is weak nope i run exmh on my desktops at home and at work with the resulting exmh windows being displayed on both my work and home desktops gratis ssh x11 forwarding i run exmh routinely from home broadband using an xwindows client tunneled through ssh under winxp it works very well in this fashion fwiw i use eudora under winder because it s less of a virus magnet ther...   \n",
       "3  on sun 1 sep 2002 reza b far ebuilt wrote 2 c and c forces the developer to solve problems such as memory management over and over again imho java is superior because the problem of programming in the future is not about 0 s and 1 s making the compiler 2 faster or making your code take 5 less memory it s about design patterns architecture high level stuff considering 90 of the fake job posting i see are for embedded systems or device drivers c still rules the world 3 java is not just a progr...   \n",
       "4                                                                                                                                                                                                                                                                                                                                                                                                              url http www newsisfree com click 5 8296987 1717 date 2002 09 27t02 45 51 01 00 dekalb daily chronicle    \n",
       "\n",
       "   Label  \n",
       "0      1  \n",
       "1      1  \n",
       "2      1  \n",
       "3      1  \n",
       "4      1  "
      ]
     },
     "execution_count": 98,
     "metadata": {},
     "output_type": "execute_result"
    }
   ],
   "source": [
    "ham_df = []\n",
    "for email in ham_emails:\n",
    "    try:\n",
    "        if email.get_content_type() == 'text/plain' or email.get_content_type() == 'text/html' :\n",
    "            l = email.get_content()\n",
    "            l = cleanhtml(l)\n",
    "            l = l.replace('\\n',' ')\n",
    "            s = re.sub(r\"[^a-zA-Z0-9]+\", ' ', l)\n",
    "            ham_df.append(s.lower())      \n",
    "    except LookupError: pass\n",
    "ham_df = pd.DataFrame(ham_df, columns = ['Content'])\n",
    "ham_df['Label'] = 1\n",
    "ham_df.head()"
   ]
  },
  {
   "cell_type": "code",
   "execution_count": 102,
   "metadata": {},
   "outputs": [
    {
     "data": {
      "text/html": [
       "<div>\n",
       "<style scoped>\n",
       "    .dataframe tbody tr th:only-of-type {\n",
       "        vertical-align: middle;\n",
       "    }\n",
       "\n",
       "    .dataframe tbody tr th {\n",
       "        vertical-align: top;\n",
       "    }\n",
       "\n",
       "    .dataframe thead th {\n",
       "        text-align: right;\n",
       "    }\n",
       "</style>\n",
       "<table border=\"1\" class=\"dataframe\">\n",
       "  <thead>\n",
       "    <tr style=\"text-align: right;\">\n",
       "      <th></th>\n",
       "      <th>Content</th>\n",
       "      <th>Label</th>\n",
       "    </tr>\n",
       "  </thead>\n",
       "  <tbody>\n",
       "    <tr>\n",
       "      <th>266</th>\n",
       "      <td>mr martin francis abidjan cote d ivoire west africa tel 225 05775748 urgent and noble proposal attn director dear i wish to extend my greeting to you and your entire family i got your contact from the ivoirian chamber of commerce i prayed over it and selected your name among other names because of its esteeming nature morever after my strong prayers and fasting god reveals to me that you are straight forward honest and god s person this is the reason i never waste time to propose you this bu...</td>\n",
       "      <td>0</td>\n",
       "    </tr>\n",
       "    <tr>\n",
       "      <th>2212</th>\n",
       "      <td>url http boingboing net 85535421 date not supplied a nintendo newsletter from 1987 is going for ober 700 on ebay link 1 discuss 2 thanks billy hayes 1 http cgi ebay com ws ebayisapi dll viewitem item 1566539449 rd 1 2 http www quicktopic com 16 h wuzqzdx42az</td>\n",
       "      <td>1</td>\n",
       "    </tr>\n",
       "    <tr>\n",
       "      <th>152</th>\n",
       "      <td>on thu sep 05 2002 at 06 16 57pm 0500 mike burger wrote you might be better asking this on the spamassassin talk list the folks there will almost definitely have an answer for this thanks i just posted a similar message there dave this sf net email is sponsored by osdn tired of that same old cell phone get a new here for free https www inphonic com r asp r sourceforge1 refcode1 vs3390 razor users mailing list razor users lists sourceforge net https lists sourceforge net lists listinfo razor ...</td>\n",
       "      <td>1</td>\n",
       "    </tr>\n",
       "    <tr>\n",
       "      <th>699</th>\n",
       "      <td>anyone heard of this law before back when i was running the wsmf shoutcast server these restrictions were just being placed on netcasters most folks laughed it off now with the license fees its not laughable anymore if you pay the fee you are bound to the restrictions if you dont your running the criminal line i still run a stream up on live365 its been playing the same 10 hour block of jean shepard shows for the last year i really should change them up if i were going to do the old wsmf sh...</td>\n",
       "      <td>1</td>\n",
       "    </tr>\n",
       "    <tr>\n",
       "      <th>191</th>\n",
       "      <td>i don t understand how does sorting one folder add messages to other folders what do you use to sort sorry i wasn t clear i am transferring messages from my inbox to other folders and since i am doing it from most recent to oldest they appear in those folders in the wrong order and need re sorting rick exmh users mailing list exmh users redhat com https listman redhat com mailman listinfo exmh users</td>\n",
       "      <td>1</td>\n",
       "    </tr>\n",
       "    <tr>\n",
       "      <th>1216</th>\n",
       "      <td>r a hettinga wrote begin pgp signed message hash sha1 at 11 15 am 0400 on 9 22 02 geege schuman wrote most of them seem to have ivy league educations or are ivy league dropouts suggesting to me that they weren t exactly poor to start with actually if i remember correctly from discussion of the list s composition in forbes about five or six years ago the best way to get on the forbes 400 is to have no college at all can you say bootstraps boys and girls i knew you could sure discussion in for...</td>\n",
       "      <td>1</td>\n",
       "    </tr>\n",
       "    <tr>\n",
       "      <th>1282</th>\n",
       "      <td>mike bostock said received from tracking2 tracking2 roving com 10 20 40 142 by ccm01 roving com postfix with esmtp id 4696633ed4 for sun 22 sep 2002 17 57 03 0400 edt x mailer roving constant contact 5 0 patch121c p121c schedenhancement 09 05 02 http www constantcontact com is worthy of attention and a rule if you go to their web site it would appear that they are in the business of email mass marketing unfortunately their mailing to me got through spamassassin interesting i haven t seen an...</td>\n",
       "      <td>1</td>\n",
       "    </tr>\n",
       "    <tr>\n",
       "      <th>2354</th>\n",
       "      <td>from steve speer subject http english pravda ru main 2002 10 05 37771 html not sure what the rules for crossposting between the two groups is my reasoning is that it s a major newspaper reporting evidence of alien life so t http loopny com an open loop shows every saturday http extremeny com submit submit to the calendar yahoo groups sponsor sell a home with ease http us click yahoo com srpzmc ktmeaa mvfiaa 7gsolb tm to unsubscribe from this group send an email to forteana unsubscribe egroup...</td>\n",
       "      <td>1</td>\n",
       "    </tr>\n",
       "    <tr>\n",
       "      <th>2322</th>\n",
       "      <td>url http scriptingnews userland com backissues 2002 09 23 when 8 30 51am date mon 23 sep 2002 15 30 51 gmt slashdot reports 1 that amazon still wants to patent the web 1 http slashdot org article pl sid 02 09 23 1156216 mode thread tid 155</td>\n",
       "      <td>1</td>\n",
       "    </tr>\n",
       "    <tr>\n",
       "      <th>1252</th>\n",
       "      <td>proving once again that aviators get all the chicks just as long as they have the wherewithal for avgas anyway i think turpin once calculated that one could do a decent amount of messing about for about 30k of boat and 12k year in living expenses what are the equivalent figures for live aboard aircraft dave how difficult would it be to find the harbormaster after mooring to the top of the empire state building</td>\n",
       "      <td>1</td>\n",
       "    </tr>\n",
       "  </tbody>\n",
       "</table>\n",
       "</div>"
      ],
      "text/plain": [
       "                                                                                                                                                                                                                                                                                                                                                                                                                                                                                                                  Content  \\\n",
       "266   mr martin francis abidjan cote d ivoire west africa tel 225 05775748 urgent and noble proposal attn director dear i wish to extend my greeting to you and your entire family i got your contact from the ivoirian chamber of commerce i prayed over it and selected your name among other names because of its esteeming nature morever after my strong prayers and fasting god reveals to me that you are straight forward honest and god s person this is the reason i never waste time to propose you this bu...   \n",
       "2212                                                                                                                                                                                                                                                  url http boingboing net 85535421 date not supplied a nintendo newsletter from 1987 is going for ober 700 on ebay link 1 discuss 2 thanks billy hayes 1 http cgi ebay com ws ebayisapi dll viewitem item 1566539449 rd 1 2 http www quicktopic com 16 h wuzqzdx42az    \n",
       "152   on thu sep 05 2002 at 06 16 57pm 0500 mike burger wrote you might be better asking this on the spamassassin talk list the folks there will almost definitely have an answer for this thanks i just posted a similar message there dave this sf net email is sponsored by osdn tired of that same old cell phone get a new here for free https www inphonic com r asp r sourceforge1 refcode1 vs3390 razor users mailing list razor users lists sourceforge net https lists sourceforge net lists listinfo razor ...   \n",
       "699    anyone heard of this law before back when i was running the wsmf shoutcast server these restrictions were just being placed on netcasters most folks laughed it off now with the license fees its not laughable anymore if you pay the fee you are bound to the restrictions if you dont your running the criminal line i still run a stream up on live365 its been playing the same 10 hour block of jean shepard shows for the last year i really should change them up if i were going to do the old wsmf sh...   \n",
       "191                                                                                                   i don t understand how does sorting one folder add messages to other folders what do you use to sort sorry i wasn t clear i am transferring messages from my inbox to other folders and since i am doing it from most recent to oldest they appear in those folders in the wrong order and need re sorting rick exmh users mailing list exmh users redhat com https listman redhat com mailman listinfo exmh users    \n",
       "1216  r a hettinga wrote begin pgp signed message hash sha1 at 11 15 am 0400 on 9 22 02 geege schuman wrote most of them seem to have ivy league educations or are ivy league dropouts suggesting to me that they weren t exactly poor to start with actually if i remember correctly from discussion of the list s composition in forbes about five or six years ago the best way to get on the forbes 400 is to have no college at all can you say bootstraps boys and girls i knew you could sure discussion in for...   \n",
       "1282   mike bostock said received from tracking2 tracking2 roving com 10 20 40 142 by ccm01 roving com postfix with esmtp id 4696633ed4 for sun 22 sep 2002 17 57 03 0400 edt x mailer roving constant contact 5 0 patch121c p121c schedenhancement 09 05 02 http www constantcontact com is worthy of attention and a rule if you go to their web site it would appear that they are in the business of email mass marketing unfortunately their mailing to me got through spamassassin interesting i haven t seen an...   \n",
       "2354  from steve speer subject http english pravda ru main 2002 10 05 37771 html not sure what the rules for crossposting between the two groups is my reasoning is that it s a major newspaper reporting evidence of alien life so t http loopny com an open loop shows every saturday http extremeny com submit submit to the calendar yahoo groups sponsor sell a home with ease http us click yahoo com srpzmc ktmeaa mvfiaa 7gsolb tm to unsubscribe from this group send an email to forteana unsubscribe egroup...   \n",
       "2322                                                                                                                                                                                                                                                                     url http scriptingnews userland com backissues 2002 09 23 when 8 30 51am date mon 23 sep 2002 15 30 51 gmt slashdot reports 1 that amazon still wants to patent the web 1 http slashdot org article pl sid 02 09 23 1156216 mode thread tid 155    \n",
       "1252                                                                                       proving once again that aviators get all the chicks just as long as they have the wherewithal for avgas anyway i think turpin once calculated that one could do a decent amount of messing about for about 30k of boat and 12k year in living expenses what are the equivalent figures for live aboard aircraft dave how difficult would it be to find the harbormaster after mooring to the top of the empire state building    \n",
       "\n",
       "      Label  \n",
       "266       0  \n",
       "2212      1  \n",
       "152       1  \n",
       "699       1  \n",
       "191       1  \n",
       "1216      1  \n",
       "1282      1  \n",
       "2354      1  \n",
       "2322      1  \n",
       "1252      1  "
      ]
     },
     "execution_count": 102,
     "metadata": {},
     "output_type": "execute_result"
    }
   ],
   "source": [
    "data = pd.concat([ham_df,spam_df], axis=0)\n",
    "data = df.sample(frac=1)\n",
    "data.head(10)"
   ]
  },
  {
   "cell_type": "code",
   "execution_count": 103,
   "metadata": {},
   "outputs": [],
   "source": [
    "for i in df['Content']:\n",
    "    if type(i) != str:\n",
    "        print(type(i),end = ',')"
   ]
  },
  {
   "cell_type": "code",
   "execution_count": 104,
   "metadata": {},
   "outputs": [],
   "source": [
    "stop_words = nltk.corpus.stopwords.words('english')\n",
    "ps = nltk.PorterStemmer()"
   ]
  },
  {
   "cell_type": "code",
   "execution_count": 105,
   "metadata": {},
   "outputs": [
    {
     "name": "stdout",
     "output_type": "stream",
     "text": [
      "Examples for stemming: \n",
      "learn\n",
      "learn\n",
      "school\n",
      "school\n"
     ]
    }
   ],
   "source": [
    "print(\"Examples for stemming: \")\n",
    "print(ps.stem(\"Learning\"))\n",
    "print(ps.stem(\"Learn\"))\n",
    "\n",
    "print(ps.stem(\"SCHOOLING\"))\n",
    "print(ps.stem(\"SCHOOL\"))"
   ]
  },
  {
   "cell_type": "code",
   "execution_count": 106,
   "metadata": {},
   "outputs": [],
   "source": [
    "data.columns = ['body_text', 'label']"
   ]
  },
  {
   "cell_type": "code",
   "execution_count": 107,
   "metadata": {},
   "outputs": [
    {
     "data": {
      "text/html": [
       "<div>\n",
       "<style scoped>\n",
       "    .dataframe tbody tr th:only-of-type {\n",
       "        vertical-align: middle;\n",
       "    }\n",
       "\n",
       "    .dataframe tbody tr th {\n",
       "        vertical-align: top;\n",
       "    }\n",
       "\n",
       "    .dataframe thead th {\n",
       "        text-align: right;\n",
       "    }\n",
       "</style>\n",
       "<table border=\"1\" class=\"dataframe\">\n",
       "  <thead>\n",
       "    <tr style=\"text-align: right;\">\n",
       "      <th></th>\n",
       "      <th>body_text</th>\n",
       "      <th>label</th>\n",
       "    </tr>\n",
       "  </thead>\n",
       "  <tbody>\n",
       "    <tr>\n",
       "      <th>266</th>\n",
       "      <td>mr martin francis abidjan cote d ivoire west africa tel 225 05775748 urgent and noble proposal attn director dear i wish to extend my greeting to you and your entire family i got your contact from the ivoirian chamber of commerce i prayed over it and selected your name among other names because of its esteeming nature morever after my strong prayers and fasting god reveals to me that you are straight forward honest and god s person this is the reason i never waste time to propose you this bu...</td>\n",
       "      <td>0</td>\n",
       "    </tr>\n",
       "    <tr>\n",
       "      <th>2212</th>\n",
       "      <td>url http boingboing net 85535421 date not supplied a nintendo newsletter from 1987 is going for ober 700 on ebay link 1 discuss 2 thanks billy hayes 1 http cgi ebay com ws ebayisapi dll viewitem item 1566539449 rd 1 2 http www quicktopic com 16 h wuzqzdx42az</td>\n",
       "      <td>1</td>\n",
       "    </tr>\n",
       "    <tr>\n",
       "      <th>152</th>\n",
       "      <td>on thu sep 05 2002 at 06 16 57pm 0500 mike burger wrote you might be better asking this on the spamassassin talk list the folks there will almost definitely have an answer for this thanks i just posted a similar message there dave this sf net email is sponsored by osdn tired of that same old cell phone get a new here for free https www inphonic com r asp r sourceforge1 refcode1 vs3390 razor users mailing list razor users lists sourceforge net https lists sourceforge net lists listinfo razor ...</td>\n",
       "      <td>1</td>\n",
       "    </tr>\n",
       "    <tr>\n",
       "      <th>699</th>\n",
       "      <td>anyone heard of this law before back when i was running the wsmf shoutcast server these restrictions were just being placed on netcasters most folks laughed it off now with the license fees its not laughable anymore if you pay the fee you are bound to the restrictions if you dont your running the criminal line i still run a stream up on live365 its been playing the same 10 hour block of jean shepard shows for the last year i really should change them up if i were going to do the old wsmf sh...</td>\n",
       "      <td>1</td>\n",
       "    </tr>\n",
       "    <tr>\n",
       "      <th>191</th>\n",
       "      <td>i don t understand how does sorting one folder add messages to other folders what do you use to sort sorry i wasn t clear i am transferring messages from my inbox to other folders and since i am doing it from most recent to oldest they appear in those folders in the wrong order and need re sorting rick exmh users mailing list exmh users redhat com https listman redhat com mailman listinfo exmh users</td>\n",
       "      <td>1</td>\n",
       "    </tr>\n",
       "  </tbody>\n",
       "</table>\n",
       "</div>"
      ],
      "text/plain": [
       "                                                                                                                                                                                                                                                                                                                                                                                                                                                                                                                body_text  \\\n",
       "266   mr martin francis abidjan cote d ivoire west africa tel 225 05775748 urgent and noble proposal attn director dear i wish to extend my greeting to you and your entire family i got your contact from the ivoirian chamber of commerce i prayed over it and selected your name among other names because of its esteeming nature morever after my strong prayers and fasting god reveals to me that you are straight forward honest and god s person this is the reason i never waste time to propose you this bu...   \n",
       "2212                                                                                                                                                                                                                                                  url http boingboing net 85535421 date not supplied a nintendo newsletter from 1987 is going for ober 700 on ebay link 1 discuss 2 thanks billy hayes 1 http cgi ebay com ws ebayisapi dll viewitem item 1566539449 rd 1 2 http www quicktopic com 16 h wuzqzdx42az    \n",
       "152   on thu sep 05 2002 at 06 16 57pm 0500 mike burger wrote you might be better asking this on the spamassassin talk list the folks there will almost definitely have an answer for this thanks i just posted a similar message there dave this sf net email is sponsored by osdn tired of that same old cell phone get a new here for free https www inphonic com r asp r sourceforge1 refcode1 vs3390 razor users mailing list razor users lists sourceforge net https lists sourceforge net lists listinfo razor ...   \n",
       "699    anyone heard of this law before back when i was running the wsmf shoutcast server these restrictions were just being placed on netcasters most folks laughed it off now with the license fees its not laughable anymore if you pay the fee you are bound to the restrictions if you dont your running the criminal line i still run a stream up on live365 its been playing the same 10 hour block of jean shepard shows for the last year i really should change them up if i were going to do the old wsmf sh...   \n",
       "191                                                                                                   i don t understand how does sorting one folder add messages to other folders what do you use to sort sorry i wasn t clear i am transferring messages from my inbox to other folders and since i am doing it from most recent to oldest they appear in those folders in the wrong order and need re sorting rick exmh users mailing list exmh users redhat com https listman redhat com mailman listinfo exmh users    \n",
       "\n",
       "      label  \n",
       "266       0  \n",
       "2212      1  \n",
       "152       1  \n",
       "699       1  \n",
       "191       1  "
      ]
     },
     "execution_count": 107,
     "metadata": {},
     "output_type": "execute_result"
    }
   ],
   "source": [
    "data.head()"
   ]
  },
  {
   "cell_type": "code",
   "execution_count": 108,
   "metadata": {},
   "outputs": [
    {
     "data": {
      "text/plain": [
       "'!\"#$%&\\'()*+,-./:;<=>?@[\\\\]^_`{|}~'"
      ]
     },
     "execution_count": 108,
     "metadata": {},
     "output_type": "execute_result"
    }
   ],
   "source": [
    "string.punctuation"
   ]
  },
  {
   "cell_type": "code",
   "execution_count": 23,
   "metadata": {},
   "outputs": [
    {
     "data": {
      "text/plain": [
       "['Hai', 'I', 'am', 'deepak']"
      ]
     },
     "execution_count": 23,
     "metadata": {},
     "output_type": "execute_result"
    }
   ],
   "source": [
    "sentence = \"Hai I am deepak\"\n",
    "re.split('\\W+', sentence)"
   ]
  },
  {
   "cell_type": "code",
   "execution_count": 109,
   "metadata": {},
   "outputs": [],
   "source": [
    "def clean_text(text):\n",
    "    text = \"\".join([word.lower() for word in text if text not in string.punctuation])\n",
    "    tokens = re.split('\\W+', text)\n",
    "    text = [ps.stem(word) for word in tokens if word not in stop_words]\n",
    "    return text"
   ]
  },
  {
   "cell_type": "markdown",
   "metadata": {},
   "source": [
    "<b>Count Vectorization</b>"
   ]
  },
  {
   "cell_type": "code",
   "execution_count": 110,
   "metadata": {},
   "outputs": [
    {
     "name": "stdout",
     "output_type": "stream",
     "text": [
      "(2853, 29380)\n"
     ]
    }
   ],
   "source": [
    "from sklearn.feature_extraction.text import CountVectorizer\n",
    "\n",
    "count_vect = CountVectorizer(analyzer=clean_text)\n",
    "x_counts = count_vect.fit_transform(data['body_text'])\n",
    "print(x_counts.shape)"
   ]
  },
  {
   "cell_type": "code",
   "execution_count": 111,
   "metadata": {},
   "outputs": [
    {
     "data": {
      "text/html": [
       "<div>\n",
       "<style scoped>\n",
       "    .dataframe tbody tr th:only-of-type {\n",
       "        vertical-align: middle;\n",
       "    }\n",
       "\n",
       "    .dataframe tbody tr th {\n",
       "        vertical-align: top;\n",
       "    }\n",
       "\n",
       "    .dataframe thead th {\n",
       "        text-align: right;\n",
       "    }\n",
       "</style>\n",
       "<table border=\"1\" class=\"dataframe\">\n",
       "  <thead>\n",
       "    <tr style=\"text-align: right;\">\n",
       "      <th></th>\n",
       "      <th></th>\n",
       "      <th>0</th>\n",
       "      <th>00</th>\n",
       "      <th>000</th>\n",
       "      <th>0000</th>\n",
       "      <th>00000</th>\n",
       "      <th>000000</th>\n",
       "      <th>000000000</th>\n",
       "      <th>00000254</th>\n",
       "      <th>00001</th>\n",
       "      <th>...</th>\n",
       "      <th>zzjbgsasir5ebhipcln3midcbpswccmr7ctvlw75nku00lxyri7knjwz4lwt9wl9p9y2uunaagsj</th>\n",
       "      <th>zzmp3</th>\n",
       "      <th>zzr5xu2rtijnpzcej6jarj10vkyml5n4jdxq</th>\n",
       "      <th>zzvrulbbwiprjx5</th>\n",
       "      <th>zzzlist</th>\n",
       "      <th>zzzz</th>\n",
       "      <th>zzzzason</th>\n",
       "      <th>zzzzcard</th>\n",
       "      <th>zzzzcc</th>\n",
       "      <th>zzzzteana</th>\n",
       "    </tr>\n",
       "  </thead>\n",
       "  <tbody>\n",
       "    <tr>\n",
       "      <th>0</th>\n",
       "      <td>1</td>\n",
       "      <td>0</td>\n",
       "      <td>1</td>\n",
       "      <td>2</td>\n",
       "      <td>0</td>\n",
       "      <td>0</td>\n",
       "      <td>0</td>\n",
       "      <td>0</td>\n",
       "      <td>0</td>\n",
       "      <td>0</td>\n",
       "      <td>...</td>\n",
       "      <td>0</td>\n",
       "      <td>0</td>\n",
       "      <td>0</td>\n",
       "      <td>0</td>\n",
       "      <td>0</td>\n",
       "      <td>0</td>\n",
       "      <td>0</td>\n",
       "      <td>0</td>\n",
       "      <td>0</td>\n",
       "      <td>0</td>\n",
       "    </tr>\n",
       "    <tr>\n",
       "      <th>1</th>\n",
       "      <td>1</td>\n",
       "      <td>0</td>\n",
       "      <td>0</td>\n",
       "      <td>0</td>\n",
       "      <td>0</td>\n",
       "      <td>0</td>\n",
       "      <td>0</td>\n",
       "      <td>0</td>\n",
       "      <td>0</td>\n",
       "      <td>0</td>\n",
       "      <td>...</td>\n",
       "      <td>0</td>\n",
       "      <td>0</td>\n",
       "      <td>0</td>\n",
       "      <td>0</td>\n",
       "      <td>0</td>\n",
       "      <td>0</td>\n",
       "      <td>0</td>\n",
       "      <td>0</td>\n",
       "      <td>0</td>\n",
       "      <td>0</td>\n",
       "    </tr>\n",
       "    <tr>\n",
       "      <th>2</th>\n",
       "      <td>1</td>\n",
       "      <td>0</td>\n",
       "      <td>0</td>\n",
       "      <td>0</td>\n",
       "      <td>0</td>\n",
       "      <td>0</td>\n",
       "      <td>0</td>\n",
       "      <td>0</td>\n",
       "      <td>0</td>\n",
       "      <td>0</td>\n",
       "      <td>...</td>\n",
       "      <td>0</td>\n",
       "      <td>0</td>\n",
       "      <td>0</td>\n",
       "      <td>0</td>\n",
       "      <td>0</td>\n",
       "      <td>0</td>\n",
       "      <td>0</td>\n",
       "      <td>0</td>\n",
       "      <td>0</td>\n",
       "      <td>0</td>\n",
       "    </tr>\n",
       "    <tr>\n",
       "      <th>3</th>\n",
       "      <td>2</td>\n",
       "      <td>0</td>\n",
       "      <td>0</td>\n",
       "      <td>0</td>\n",
       "      <td>0</td>\n",
       "      <td>0</td>\n",
       "      <td>0</td>\n",
       "      <td>0</td>\n",
       "      <td>0</td>\n",
       "      <td>0</td>\n",
       "      <td>...</td>\n",
       "      <td>0</td>\n",
       "      <td>0</td>\n",
       "      <td>0</td>\n",
       "      <td>0</td>\n",
       "      <td>0</td>\n",
       "      <td>0</td>\n",
       "      <td>0</td>\n",
       "      <td>0</td>\n",
       "      <td>0</td>\n",
       "      <td>0</td>\n",
       "    </tr>\n",
       "    <tr>\n",
       "      <th>4</th>\n",
       "      <td>2</td>\n",
       "      <td>0</td>\n",
       "      <td>0</td>\n",
       "      <td>0</td>\n",
       "      <td>0</td>\n",
       "      <td>0</td>\n",
       "      <td>0</td>\n",
       "      <td>0</td>\n",
       "      <td>0</td>\n",
       "      <td>0</td>\n",
       "      <td>...</td>\n",
       "      <td>0</td>\n",
       "      <td>0</td>\n",
       "      <td>0</td>\n",
       "      <td>0</td>\n",
       "      <td>0</td>\n",
       "      <td>0</td>\n",
       "      <td>0</td>\n",
       "      <td>0</td>\n",
       "      <td>0</td>\n",
       "      <td>0</td>\n",
       "    </tr>\n",
       "  </tbody>\n",
       "</table>\n",
       "<p>5 rows × 29380 columns</p>\n",
       "</div>"
      ],
      "text/plain": [
       "      0  00  000  0000  00000  000000  000000000  00000254  00001  ...  \\\n",
       "0  1  0   1    2     0      0       0          0         0      0  ...   \n",
       "1  1  0   0    0     0      0       0          0         0      0  ...   \n",
       "2  1  0   0    0     0      0       0          0         0      0  ...   \n",
       "3  2  0   0    0     0      0       0          0         0      0  ...   \n",
       "4  2  0   0    0     0      0       0          0         0      0  ...   \n",
       "\n",
       "   zzjbgsasir5ebhipcln3midcbpswccmr7ctvlw75nku00lxyri7knjwz4lwt9wl9p9y2uunaagsj  \\\n",
       "0                                                                             0   \n",
       "1                                                                             0   \n",
       "2                                                                             0   \n",
       "3                                                                             0   \n",
       "4                                                                             0   \n",
       "\n",
       "   zzmp3  zzr5xu2rtijnpzcej6jarj10vkyml5n4jdxq  zzvrulbbwiprjx5  zzzlist  \\\n",
       "0      0                                     0                0        0   \n",
       "1      0                                     0                0        0   \n",
       "2      0                                     0                0        0   \n",
       "3      0                                     0                0        0   \n",
       "4      0                                     0                0        0   \n",
       "\n",
       "   zzzz  zzzzason  zzzzcard  zzzzcc  zzzzteana  \n",
       "0     0         0         0       0          0  \n",
       "1     0         0         0       0          0  \n",
       "2     0         0         0       0          0  \n",
       "3     0         0         0       0          0  \n",
       "4     0         0         0       0          0  \n",
       "\n",
       "[5 rows x 29380 columns]"
      ]
     },
     "execution_count": 111,
     "metadata": {},
     "output_type": "execute_result"
    }
   ],
   "source": [
    "data_counts = pd.DataFrame(x_counts.toarray())\n",
    "data_counts.columns = count_vect.get_feature_names()\n",
    "data_counts.head()"
   ]
  },
  {
   "cell_type": "code",
   "execution_count": 113,
   "metadata": {},
   "outputs": [],
   "source": [
    "X = x_counts.toarray()\n",
    "y = data.iloc[:, 1].values"
   ]
  },
  {
   "cell_type": "code",
   "execution_count": 114,
   "metadata": {},
   "outputs": [],
   "source": [
    "from sklearn.model_selection import train_test_split\n",
    "\n",
    "X_full, X_test, y_full, y_test = train_test_split(X, y, test_size = 0.1, random_state = 42)\n",
    "X_train, X_valid, y_train, y_valid = train_test_split(X_full, y_full, test_size = 0.1, random_state = 42)"
   ]
  },
  {
   "cell_type": "code",
   "execution_count": 115,
   "metadata": {},
   "outputs": [
    {
     "name": "stdout",
     "output_type": "stream",
     "text": [
      "X_train data:  (2310, 29380)\n",
      "y_train data:  (2310,)\n",
      "X_test data:  (286, 29380)\n",
      "y_test data:  (286,)\n",
      "X_valid data:  (257, 29380)\n",
      "y_valid data:  (257,)\n"
     ]
    }
   ],
   "source": [
    "print(\"X_train data: \", X_train.shape)\n",
    "print(\"y_train data: \", y_train.shape)\n",
    "print(\"X_test data: \", X_test.shape)\n",
    "print(\"y_test data: \", y_test.shape)\n",
    "print(\"X_valid data: \", X_valid.shape)\n",
    "print(\"y_valid data: \", y_valid.shape)"
   ]
  },
  {
   "cell_type": "code",
   "execution_count": 116,
   "metadata": {},
   "outputs": [
    {
     "data": {
      "text/plain": [
       "RandomForestClassifier(criterion='entropy')"
      ]
     },
     "execution_count": 116,
     "metadata": {},
     "output_type": "execute_result"
    }
   ],
   "source": [
    "from sklearn.ensemble import RandomForestClassifier\n",
    "\n",
    "classifier = RandomForestClassifier(criterion='entropy')\n",
    "classifier.fit(X_train, y_train)"
   ]
  },
  {
   "cell_type": "code",
   "execution_count": 117,
   "metadata": {},
   "outputs": [],
   "source": [
    "y_pred = classifier.predict(X_test)"
   ]
  },
  {
   "cell_type": "code",
   "execution_count": 122,
   "metadata": {},
   "outputs": [
    {
     "name": "stdout",
     "output_type": "stream",
     "text": [
      "Cconfusion Marix\n",
      "[[ 36   8]\n",
      " [  1 241]]\n",
      "\n",
      "Classification report:\n",
      "              precision    recall  f1-score   support\n",
      "\n",
      "         ham       0.97      0.82      0.89        44\n",
      "        spam       0.97      1.00      0.98       242\n",
      "\n",
      "    accuracy                           0.97       286\n",
      "   macro avg       0.97      0.91      0.94       286\n",
      "weighted avg       0.97      0.97      0.97       286\n",
      "\n"
     ]
    }
   ],
   "source": [
    "from sklearn.metrics import confusion_matrix\n",
    "from sklearn.metrics import classification_report\n",
    "\n",
    "print(\"Cconfusion Marix\")\n",
    "print(confusion_matrix(y_test, y_pred))\n",
    "print(\"\\nClassification report:\")\n",
    "report = classification_report(y_test, y_pred, target_names=encoder.classes_)\n",
    "print(report)"
   ]
  },
  {
   "cell_type": "code",
   "execution_count": 36,
   "metadata": {},
   "outputs": [
    {
     "data": {
      "text/plain": [
       "GaussianNB()"
      ]
     },
     "execution_count": 36,
     "metadata": {},
     "output_type": "execute_result"
    }
   ],
   "source": [
    "from sklearn.naive_bayes import GaussianNB\n",
    "\n",
    "nb = GaussianNB()\n",
    "nb.fit(X_train, y_train)"
   ]
  },
  {
   "cell_type": "code",
   "execution_count": 37,
   "metadata": {},
   "outputs": [],
   "source": [
    "y_pred = nb.predict(X_valid)\n",
    "confusion_matrix(y_valid, y_pred)\n",
    "report = classification_report(y_valid, y_pred, target_names=encoder.classes_)\n",
    "print(report)"
   ]
  },
  {
   "cell_type": "code",
   "execution_count": 49,
   "metadata": {},
   "outputs": [
    {
     "data": {
      "text/plain": [
       "SVC()"
      ]
     },
     "execution_count": 49,
     "metadata": {},
     "output_type": "execute_result"
    }
   ],
   "source": [
    "from sklearn.svm import SVC\n",
    "\n",
    "svm_classifier = SVC()\n",
    "svm_classifier.fit(X_train, y_train)"
   ]
  },
  {
   "cell_type": "code",
   "execution_count": 52,
   "metadata": {},
   "outputs": [],
   "source": [
    "y_pred = svm_classifier.predict(X_test)\n",
    "confusion_matrix(y_pred, y_test)\n",
    "print(classification_report(y_pred, y_test, target_names = encoder.classes_))"
   ]
  },
  {
   "cell_type": "markdown",
   "metadata": {},
   "source": [
    "<b>TF-IDF Vectorization</b>"
   ]
  },
  {
   "cell_type": "code",
   "execution_count": 41,
   "metadata": {},
   "outputs": [],
   "source": [
    "from sklearn.feature_extraction.text import TfidfVectorizer\n",
    "\n",
    "tf_vector = TfidfVectorizer(analyzer=clean_text)\n",
    "X_ft_counts = tf_vector.fit_transform(data['body_text'])"
   ]
  },
  {
   "cell_type": "code",
   "execution_count": 42,
   "metadata": {},
   "outputs": [
    {
     "data": {
      "text/html": [
       "<div>\n",
       "<style scoped>\n",
       "    .dataframe tbody tr th:only-of-type {\n",
       "        vertical-align: middle;\n",
       "    }\n",
       "\n",
       "    .dataframe tbody tr th {\n",
       "        vertical-align: top;\n",
       "    }\n",
       "\n",
       "    .dataframe thead th {\n",
       "        text-align: right;\n",
       "    }\n",
       "</style>\n",
       "<table border=\"1\" class=\"dataframe\">\n",
       "  <thead>\n",
       "    <tr style=\"text-align: right;\">\n",
       "      <th></th>\n",
       "      <th></th>\n",
       "      <th>0</th>\n",
       "      <th>00</th>\n",
       "      <th>000</th>\n",
       "      <th>000pe</th>\n",
       "      <th>008704050406</th>\n",
       "      <th>0089</th>\n",
       "      <th>0121</th>\n",
       "      <th>01223585236</th>\n",
       "      <th>01223585334</th>\n",
       "      <th>...</th>\n",
       "      <th>zebra</th>\n",
       "      <th>zed</th>\n",
       "      <th>zero</th>\n",
       "      <th>zhong</th>\n",
       "      <th>zindgi</th>\n",
       "      <th>zoe</th>\n",
       "      <th>zogtoriu</th>\n",
       "      <th>zoom</th>\n",
       "      <th>zouk</th>\n",
       "      <th>zyada</th>\n",
       "    </tr>\n",
       "  </thead>\n",
       "  <tbody>\n",
       "    <tr>\n",
       "      <th>0</th>\n",
       "      <td>0.056405</td>\n",
       "      <td>0.0</td>\n",
       "      <td>0.0</td>\n",
       "      <td>0.0</td>\n",
       "      <td>0.0</td>\n",
       "      <td>0.0</td>\n",
       "      <td>0.0</td>\n",
       "      <td>0.0</td>\n",
       "      <td>0.0</td>\n",
       "      <td>0.0</td>\n",
       "      <td>...</td>\n",
       "      <td>0.0</td>\n",
       "      <td>0.0</td>\n",
       "      <td>0.0</td>\n",
       "      <td>0.0</td>\n",
       "      <td>0.0</td>\n",
       "      <td>0.0</td>\n",
       "      <td>0.0</td>\n",
       "      <td>0.0</td>\n",
       "      <td>0.0</td>\n",
       "      <td>0.0</td>\n",
       "    </tr>\n",
       "    <tr>\n",
       "      <th>1</th>\n",
       "      <td>0.102420</td>\n",
       "      <td>0.0</td>\n",
       "      <td>0.0</td>\n",
       "      <td>0.0</td>\n",
       "      <td>0.0</td>\n",
       "      <td>0.0</td>\n",
       "      <td>0.0</td>\n",
       "      <td>0.0</td>\n",
       "      <td>0.0</td>\n",
       "      <td>0.0</td>\n",
       "      <td>...</td>\n",
       "      <td>0.0</td>\n",
       "      <td>0.0</td>\n",
       "      <td>0.0</td>\n",
       "      <td>0.0</td>\n",
       "      <td>0.0</td>\n",
       "      <td>0.0</td>\n",
       "      <td>0.0</td>\n",
       "      <td>0.0</td>\n",
       "      <td>0.0</td>\n",
       "      <td>0.0</td>\n",
       "    </tr>\n",
       "    <tr>\n",
       "      <th>2</th>\n",
       "      <td>0.000000</td>\n",
       "      <td>0.0</td>\n",
       "      <td>0.0</td>\n",
       "      <td>0.0</td>\n",
       "      <td>0.0</td>\n",
       "      <td>0.0</td>\n",
       "      <td>0.0</td>\n",
       "      <td>0.0</td>\n",
       "      <td>0.0</td>\n",
       "      <td>0.0</td>\n",
       "      <td>...</td>\n",
       "      <td>0.0</td>\n",
       "      <td>0.0</td>\n",
       "      <td>0.0</td>\n",
       "      <td>0.0</td>\n",
       "      <td>0.0</td>\n",
       "      <td>0.0</td>\n",
       "      <td>0.0</td>\n",
       "      <td>0.0</td>\n",
       "      <td>0.0</td>\n",
       "      <td>0.0</td>\n",
       "    </tr>\n",
       "    <tr>\n",
       "      <th>3</th>\n",
       "      <td>0.083505</td>\n",
       "      <td>0.0</td>\n",
       "      <td>0.0</td>\n",
       "      <td>0.0</td>\n",
       "      <td>0.0</td>\n",
       "      <td>0.0</td>\n",
       "      <td>0.0</td>\n",
       "      <td>0.0</td>\n",
       "      <td>0.0</td>\n",
       "      <td>0.0</td>\n",
       "      <td>...</td>\n",
       "      <td>0.0</td>\n",
       "      <td>0.0</td>\n",
       "      <td>0.0</td>\n",
       "      <td>0.0</td>\n",
       "      <td>0.0</td>\n",
       "      <td>0.0</td>\n",
       "      <td>0.0</td>\n",
       "      <td>0.0</td>\n",
       "      <td>0.0</td>\n",
       "      <td>0.0</td>\n",
       "    </tr>\n",
       "    <tr>\n",
       "      <th>4</th>\n",
       "      <td>0.000000</td>\n",
       "      <td>0.0</td>\n",
       "      <td>0.0</td>\n",
       "      <td>0.0</td>\n",
       "      <td>0.0</td>\n",
       "      <td>0.0</td>\n",
       "      <td>0.0</td>\n",
       "      <td>0.0</td>\n",
       "      <td>0.0</td>\n",
       "      <td>0.0</td>\n",
       "      <td>...</td>\n",
       "      <td>0.0</td>\n",
       "      <td>0.0</td>\n",
       "      <td>0.0</td>\n",
       "      <td>0.0</td>\n",
       "      <td>0.0</td>\n",
       "      <td>0.0</td>\n",
       "      <td>0.0</td>\n",
       "      <td>0.0</td>\n",
       "      <td>0.0</td>\n",
       "      <td>0.0</td>\n",
       "    </tr>\n",
       "  </tbody>\n",
       "</table>\n",
       "<p>5 rows × 7196 columns</p>\n",
       "</div>"
      ],
      "text/plain": [
       "               0   00  000  000pe  008704050406  0089  0121  01223585236  \\\n",
       "0  0.056405  0.0  0.0  0.0    0.0           0.0   0.0   0.0          0.0   \n",
       "1  0.102420  0.0  0.0  0.0    0.0           0.0   0.0   0.0          0.0   \n",
       "2  0.000000  0.0  0.0  0.0    0.0           0.0   0.0   0.0          0.0   \n",
       "3  0.083505  0.0  0.0  0.0    0.0           0.0   0.0   0.0          0.0   \n",
       "4  0.000000  0.0  0.0  0.0    0.0           0.0   0.0   0.0          0.0   \n",
       "\n",
       "   01223585334  ...  zebra  zed  zero  zhong  zindgi  zoe  zogtoriu  zoom  \\\n",
       "0          0.0  ...    0.0  0.0   0.0    0.0     0.0  0.0       0.0   0.0   \n",
       "1          0.0  ...    0.0  0.0   0.0    0.0     0.0  0.0       0.0   0.0   \n",
       "2          0.0  ...    0.0  0.0   0.0    0.0     0.0  0.0       0.0   0.0   \n",
       "3          0.0  ...    0.0  0.0   0.0    0.0     0.0  0.0       0.0   0.0   \n",
       "4          0.0  ...    0.0  0.0   0.0    0.0     0.0  0.0       0.0   0.0   \n",
       "\n",
       "   zouk  zyada  \n",
       "0   0.0    0.0  \n",
       "1   0.0    0.0  \n",
       "2   0.0    0.0  \n",
       "3   0.0    0.0  \n",
       "4   0.0    0.0  \n",
       "\n",
       "[5 rows x 7196 columns]"
      ]
     },
     "execution_count": 42,
     "metadata": {},
     "output_type": "execute_result"
    }
   ],
   "source": [
    "data_tf_vector = pd.DataFrame(X_ft_counts.toarray())\n",
    "data_tf_vector.columns = tf_vector.get_feature_names()\n",
    "data_tf_vector.head()"
   ]
  },
  {
   "cell_type": "code",
   "execution_count": 43,
   "metadata": {},
   "outputs": [],
   "source": [
    "X_tf = X_ft_counts.toarray()\n",
    "\n",
    "X_tf_full, X_tf_test, y_tf_full, y_tf_test = train_test_split(X_tf, y, test_size = 0.1, random_state = 42)\n",
    "X_tf_train, X_tf_valid, y_tf_train, y_tf_valid = train_test_split(X_tf_full, y_tf_full, test_size = 0.1, random_state = 42)"
   ]
  },
  {
   "cell_type": "code",
   "execution_count": 44,
   "metadata": {},
   "outputs": [
    {
     "data": {
      "text/plain": [
       "RandomForestClassifier()"
      ]
     },
     "execution_count": 44,
     "metadata": {},
     "output_type": "execute_result"
    }
   ],
   "source": [
    "tf_classifier = RandomForestClassifier(criterion='gini')\n",
    "tf_classifier.fit(X_tf_train, y_tf_train)"
   ]
  },
  {
   "cell_type": "code",
   "execution_count": 45,
   "metadata": {},
   "outputs": [],
   "source": [
    "y_tf_pred = classifier.predict(X_tf_test)\n",
    "print(confusion_matrix(y_tf_test, y_tf_pred))"
   ]
  },
  {
   "cell_type": "markdown",
   "metadata": {},
   "source": [
    "<strong>Predictions</strong>"
   ]
  },
  {
   "cell_type": "code",
   "execution_count": 148,
   "metadata": {},
   "outputs": [],
   "source": [
    "y_pred = classifier.predict(X_test)"
   ]
  },
  {
   "cell_type": "code",
   "execution_count": 149,
   "metadata": {},
   "outputs": [],
   "source": [
    "pred_data = pd.DataFrame({\"Predicted values\": y_pred, \"Actual values\": y_test})"
   ]
  },
  {
   "cell_type": "code",
   "execution_count": 150,
   "metadata": {},
   "outputs": [],
   "source": [
    "pred_data[\"Predicted values\"] = encoder.inverse_transform(pred_data[\"Predicted values\"])\n",
    "pred_data[\"Actual values\"] = encoder.inverse_transform(pred_data[\"Actual values\"])"
   ]
  },
  {
   "cell_type": "code",
   "execution_count": 151,
   "metadata": {},
   "outputs": [
    {
     "data": {
      "text/html": [
       "<div>\n",
       "<style scoped>\n",
       "    .dataframe tbody tr th:only-of-type {\n",
       "        vertical-align: middle;\n",
       "    }\n",
       "\n",
       "    .dataframe tbody tr th {\n",
       "        vertical-align: top;\n",
       "    }\n",
       "\n",
       "    .dataframe thead th {\n",
       "        text-align: right;\n",
       "    }\n",
       "</style>\n",
       "<table border=\"1\" class=\"dataframe\">\n",
       "  <thead>\n",
       "    <tr style=\"text-align: right;\">\n",
       "      <th></th>\n",
       "      <th>Predicted values</th>\n",
       "      <th>Actual values</th>\n",
       "    </tr>\n",
       "  </thead>\n",
       "  <tbody>\n",
       "    <tr>\n",
       "      <th>0</th>\n",
       "      <td>spam</td>\n",
       "      <td>spam</td>\n",
       "    </tr>\n",
       "    <tr>\n",
       "      <th>1</th>\n",
       "      <td>spam</td>\n",
       "      <td>spam</td>\n",
       "    </tr>\n",
       "    <tr>\n",
       "      <th>2</th>\n",
       "      <td>spam</td>\n",
       "      <td>spam</td>\n",
       "    </tr>\n",
       "    <tr>\n",
       "      <th>3</th>\n",
       "      <td>spam</td>\n",
       "      <td>spam</td>\n",
       "    </tr>\n",
       "    <tr>\n",
       "      <th>4</th>\n",
       "      <td>spam</td>\n",
       "      <td>spam</td>\n",
       "    </tr>\n",
       "    <tr>\n",
       "      <th>...</th>\n",
       "      <td>...</td>\n",
       "      <td>...</td>\n",
       "    </tr>\n",
       "    <tr>\n",
       "      <th>281</th>\n",
       "      <td>spam</td>\n",
       "      <td>spam</td>\n",
       "    </tr>\n",
       "    <tr>\n",
       "      <th>282</th>\n",
       "      <td>spam</td>\n",
       "      <td>spam</td>\n",
       "    </tr>\n",
       "    <tr>\n",
       "      <th>283</th>\n",
       "      <td>ham</td>\n",
       "      <td>ham</td>\n",
       "    </tr>\n",
       "    <tr>\n",
       "      <th>284</th>\n",
       "      <td>spam</td>\n",
       "      <td>spam</td>\n",
       "    </tr>\n",
       "    <tr>\n",
       "      <th>285</th>\n",
       "      <td>spam</td>\n",
       "      <td>spam</td>\n",
       "    </tr>\n",
       "  </tbody>\n",
       "</table>\n",
       "<p>286 rows × 2 columns</p>\n",
       "</div>"
      ],
      "text/plain": [
       "    Predicted values Actual values\n",
       "0               spam          spam\n",
       "1               spam          spam\n",
       "2               spam          spam\n",
       "3               spam          spam\n",
       "4               spam          spam\n",
       "..               ...           ...\n",
       "281             spam          spam\n",
       "282             spam          spam\n",
       "283              ham           ham\n",
       "284             spam          spam\n",
       "285             spam          spam\n",
       "\n",
       "[286 rows x 2 columns]"
      ]
     },
     "execution_count": 151,
     "metadata": {},
     "output_type": "execute_result"
    }
   ],
   "source": [
    "pred_data"
   ]
  },
  {
   "cell_type": "markdown",
   "metadata": {},
   "source": [
    "<b>Real time Predictions</b>"
   ]
  },
  {
   "cell_type": "code",
   "execution_count": 126,
   "metadata": {},
   "outputs": [],
   "source": [
    "with open(\"sample.txt\", \"r\") as file:\n",
    "    message = file.read()"
   ]
  },
  {
   "cell_type": "code",
   "execution_count": 143,
   "metadata": {},
   "outputs": [],
   "source": [
    "message_clean_html = cleanhtml(message)\n",
    "message_data = pd.DataFrame({\"message\": [message_clean_html]})"
   ]
  },
  {
   "cell_type": "code",
   "execution_count": 146,
   "metadata": {},
   "outputs": [],
   "source": [
    "message_vect = count_vect.transform(message_data[\"message\"]).toarray()"
   ]
  },
  {
   "cell_type": "code",
   "execution_count": 147,
   "metadata": {},
   "outputs": [
    {
     "data": {
      "text/plain": [
       "array([1])"
      ]
     },
     "execution_count": 147,
     "metadata": {},
     "output_type": "execute_result"
    }
   ],
   "source": [
    "classifier.predict(message_vect)"
   ]
  },
  {
   "cell_type": "code",
   "execution_count": null,
   "metadata": {},
   "outputs": [],
   "source": []
  }
 ],
 "metadata": {
  "kernelspec": {
   "display_name": "Python 3",
   "language": "python",
   "name": "python3"
  },
  "language_info": {
   "codemirror_mode": {
    "name": "ipython",
    "version": 3
   },
   "file_extension": ".py",
   "mimetype": "text/x-python",
   "name": "python",
   "nbconvert_exporter": "python",
   "pygments_lexer": "ipython3",
   "version": "3.8.5"
  }
 },
 "nbformat": 4,
 "nbformat_minor": 4
}
