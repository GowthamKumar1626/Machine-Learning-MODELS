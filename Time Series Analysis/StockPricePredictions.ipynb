{
  "nbformat": 4,
  "nbformat_minor": 0,
  "metadata": {
    "colab": {
      "name": "StockPricePredictions.ipynb",
      "provenance": [],
      "collapsed_sections": []
    },
    "kernelspec": {
      "name": "python3",
      "display_name": "Python 3"
    }
  },
  "cells": [
    {
      "cell_type": "code",
      "metadata": {
        "id": "O81UwDCySbDD"
      },
      "source": [
        "import tensorflow as tf\n",
        "import numpy as np\n",
        "import pandas as pd\n",
        "import matplotlib.pyplot as plt"
      ],
      "execution_count": null,
      "outputs": []
    },
    {
      "cell_type": "code",
      "metadata": {
        "colab": {
          "resources": {
            "http://localhost:8080/nbextensions/google.colab/files.js": {
              "data": "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",
              "ok": true,
              "headers": [
                [
                  "content-type",
                  "application/javascript"
                ]
              ],
              "status": 200,
              "status_text": ""
            }
          },
          "base_uri": "https://localhost:8080/",
          "height": 89
        },
        "id": "GL4Q280RTGU8",
        "outputId": "efd07cdd-74f3-4b55-a3e1-e94a346bcf5a"
      },
      "source": [
        "from google.colab import files\n",
        "files.upload()"
      ],
      "execution_count": null,
      "outputs": [
        {
          "output_type": "display_data",
          "data": {
            "text/html": [
              "\n",
              "     <input type=\"file\" id=\"files-31815a95-f26c-4e07-9d94-965c5faf2651\" name=\"files[]\" multiple disabled\n",
              "        style=\"border:none\" />\n",
              "     <output id=\"result-31815a95-f26c-4e07-9d94-965c5faf2651\">\n",
              "      Upload widget is only available when the cell has been executed in the\n",
              "      current browser session. Please rerun this cell to enable.\n",
              "      </output>\n",
              "      <script src=\"/nbextensions/google.colab/files.js\"></script> "
            ],
            "text/plain": [
              "<IPython.core.display.HTML object>"
            ]
          },
          "metadata": {
            "tags": []
          }
        },
        {
          "output_type": "stream",
          "text": [
            "Saving kaggle.json to kaggle.json\n"
          ],
          "name": "stdout"
        },
        {
          "output_type": "execute_result",
          "data": {
            "text/plain": [
              "{'kaggle.json': b'{\"username\":\"suryadeepak9444\",\"key\":\"51df0b2d47c5a4b3c2eb32017964e6ef\"}'}"
            ]
          },
          "metadata": {
            "tags": []
          },
          "execution_count": 5
        }
      ]
    },
    {
      "cell_type": "markdown",
      "metadata": {
        "id": "SmJF6CwPx9CC"
      },
      "source": [
        "# New Section"
      ]
    },
    {
      "cell_type": "code",
      "metadata": {
        "id": "spAjX46-TXEn"
      },
      "source": [
        "!mkdir ~/.kaggle\n",
        "!cp kaggle.json ~/.kaggle/\n",
        "!chmod 600 ~/.kaggle/kaggle.json"
      ],
      "execution_count": null,
      "outputs": []
    },
    {
      "cell_type": "code",
      "metadata": {
        "colab": {
          "base_uri": "https://localhost:8080/"
        },
        "id": "3Tw-G9k0T-Qc",
        "outputId": "08a3ddf7-9cbc-491e-dc4a-5884bd45c0d0"
      },
      "source": [
        "!kaggle datasets download -d medharawat/google-stock-price"
      ],
      "execution_count": null,
      "outputs": [
        {
          "output_type": "stream",
          "text": [
            "Downloading google-stock-price.zip to /content\n",
            "\r  0% 0.00/23.4k [00:00<?, ?B/s]\n",
            "\r100% 23.4k/23.4k [00:00<00:00, 20.5MB/s]\n"
          ],
          "name": "stdout"
        }
      ]
    },
    {
      "cell_type": "code",
      "metadata": {
        "colab": {
          "base_uri": "https://localhost:8080/"
        },
        "id": "42JWsdbOUQP8",
        "outputId": "9ed78a62-0ad2-462e-8ac8-c9d5cf692735"
      },
      "source": [
        "!unzip /content/google-stock-price.zip"
      ],
      "execution_count": null,
      "outputs": [
        {
          "output_type": "stream",
          "text": [
            "Archive:  /content/google-stock-price.zip\n",
            "  inflating: Google_Stock_Price_Test.csv  \n",
            "  inflating: Google_Stock_Price_Train.csv  \n"
          ],
          "name": "stdout"
        }
      ]
    },
    {
      "cell_type": "code",
      "metadata": {
        "id": "2my94AXKUbEZ"
      },
      "source": [
        "dataframe = pd.read_csv(\"/content/Google_Stock_Price_Train.csv\")"
      ],
      "execution_count": null,
      "outputs": []
    },
    {
      "cell_type": "code",
      "metadata": {
        "colab": {
          "base_uri": "https://localhost:8080/",
          "height": 196
        },
        "id": "zoVOuasEUr8L",
        "outputId": "1cce32a1-af7c-41b8-811e-451de8e42911"
      },
      "source": [
        "dataframe.head()"
      ],
      "execution_count": null,
      "outputs": [
        {
          "output_type": "execute_result",
          "data": {
            "text/html": [
              "<div>\n",
              "<style scoped>\n",
              "    .dataframe tbody tr th:only-of-type {\n",
              "        vertical-align: middle;\n",
              "    }\n",
              "\n",
              "    .dataframe tbody tr th {\n",
              "        vertical-align: top;\n",
              "    }\n",
              "\n",
              "    .dataframe thead th {\n",
              "        text-align: right;\n",
              "    }\n",
              "</style>\n",
              "<table border=\"1\" class=\"dataframe\">\n",
              "  <thead>\n",
              "    <tr style=\"text-align: right;\">\n",
              "      <th></th>\n",
              "      <th>Date</th>\n",
              "      <th>Open</th>\n",
              "      <th>High</th>\n",
              "      <th>Low</th>\n",
              "      <th>Close</th>\n",
              "      <th>Volume</th>\n",
              "    </tr>\n",
              "  </thead>\n",
              "  <tbody>\n",
              "    <tr>\n",
              "      <th>0</th>\n",
              "      <td>1/3/2012</td>\n",
              "      <td>325.25</td>\n",
              "      <td>332.83</td>\n",
              "      <td>324.97</td>\n",
              "      <td>663.59</td>\n",
              "      <td>7,380,500</td>\n",
              "    </tr>\n",
              "    <tr>\n",
              "      <th>1</th>\n",
              "      <td>1/4/2012</td>\n",
              "      <td>331.27</td>\n",
              "      <td>333.87</td>\n",
              "      <td>329.08</td>\n",
              "      <td>666.45</td>\n",
              "      <td>5,749,400</td>\n",
              "    </tr>\n",
              "    <tr>\n",
              "      <th>2</th>\n",
              "      <td>1/5/2012</td>\n",
              "      <td>329.83</td>\n",
              "      <td>330.75</td>\n",
              "      <td>326.89</td>\n",
              "      <td>657.21</td>\n",
              "      <td>6,590,300</td>\n",
              "    </tr>\n",
              "    <tr>\n",
              "      <th>3</th>\n",
              "      <td>1/6/2012</td>\n",
              "      <td>328.34</td>\n",
              "      <td>328.77</td>\n",
              "      <td>323.68</td>\n",
              "      <td>648.24</td>\n",
              "      <td>5,405,900</td>\n",
              "    </tr>\n",
              "    <tr>\n",
              "      <th>4</th>\n",
              "      <td>1/9/2012</td>\n",
              "      <td>322.04</td>\n",
              "      <td>322.29</td>\n",
              "      <td>309.46</td>\n",
              "      <td>620.76</td>\n",
              "      <td>11,688,800</td>\n",
              "    </tr>\n",
              "  </tbody>\n",
              "</table>\n",
              "</div>"
            ],
            "text/plain": [
              "       Date    Open    High     Low   Close      Volume\n",
              "0  1/3/2012  325.25  332.83  324.97  663.59   7,380,500\n",
              "1  1/4/2012  331.27  333.87  329.08  666.45   5,749,400\n",
              "2  1/5/2012  329.83  330.75  326.89  657.21   6,590,300\n",
              "3  1/6/2012  328.34  328.77  323.68  648.24   5,405,900\n",
              "4  1/9/2012  322.04  322.29  309.46  620.76  11,688,800"
            ]
          },
          "metadata": {
            "tags": []
          },
          "execution_count": 10
        }
      ]
    },
    {
      "cell_type": "code",
      "metadata": {
        "colab": {
          "base_uri": "https://localhost:8080/"
        },
        "id": "bbgneIN4UuCh",
        "outputId": "1b4e7abd-286c-429c-9045-ef5727065a55"
      },
      "source": [
        "dataframe.info()"
      ],
      "execution_count": null,
      "outputs": [
        {
          "output_type": "stream",
          "text": [
            "<class 'pandas.core.frame.DataFrame'>\n",
            "RangeIndex: 1258 entries, 0 to 1257\n",
            "Data columns (total 6 columns):\n",
            " #   Column  Non-Null Count  Dtype  \n",
            "---  ------  --------------  -----  \n",
            " 0   Date    1258 non-null   object \n",
            " 1   Open    1258 non-null   float64\n",
            " 2   High    1258 non-null   float64\n",
            " 3   Low     1258 non-null   float64\n",
            " 4   Close   1258 non-null   object \n",
            " 5   Volume  1258 non-null   object \n",
            "dtypes: float64(3), object(3)\n",
            "memory usage: 59.1+ KB\n"
          ],
          "name": "stdout"
        }
      ]
    },
    {
      "cell_type": "code",
      "metadata": {
        "colab": {
          "base_uri": "https://localhost:8080/"
        },
        "id": "WX7MvBsMU1Hh",
        "outputId": "c2ff2329-2fa5-4201-95e2-6086270166ba"
      },
      "source": [
        "dataframe.isna().value_counts()"
      ],
      "execution_count": null,
      "outputs": [
        {
          "output_type": "execute_result",
          "data": {
            "text/plain": [
              "Date   Open   High   Low    Close  Volume\n",
              "False  False  False  False  False  False     1258\n",
              "dtype: int64"
            ]
          },
          "metadata": {
            "tags": []
          },
          "execution_count": 16
        }
      ]
    },
    {
      "cell_type": "code",
      "metadata": {
        "colab": {
          "base_uri": "https://localhost:8080/"
        },
        "id": "_5_mQzmBLTMY",
        "outputId": "bdbe289b-1daa-4006-ae34-7b7a155d43df"
      },
      "source": [
        "dataframe['Close']"
      ],
      "execution_count": null,
      "outputs": [
        {
          "output_type": "execute_result",
          "data": {
            "text/plain": [
              "0       663.59\n",
              "1       666.45\n",
              "2       657.21\n",
              "3       648.24\n",
              "4       620.76\n",
              "         ...  \n",
              "1253    789.91\n",
              "1254    791.55\n",
              "1255    785.05\n",
              "1256    782.79\n",
              "1257    771.82\n",
              "Name: Close, Length: 1258, dtype: object"
            ]
          },
          "metadata": {
            "tags": []
          },
          "execution_count": 17
        }
      ]
    },
    {
      "cell_type": "code",
      "metadata": {
        "id": "1EoIGkr5U5Aa"
      },
      "source": [
        "open_list = dataframe.iloc[:, 1].values\n",
        "open_list = np.reshape(open_list, (open_list.shape[0], 1))"
      ],
      "execution_count": null,
      "outputs": []
    },
    {
      "cell_type": "code",
      "metadata": {
        "id": "xUkOqPjpFw60"
      },
      "source": [
        "closed_list = dataframe.iloc[:, 4].values\n",
        "closed_list = np.array([float(i.replace(\",\",\"\")) for i in closed_list])\n",
        "closed_list = np.reshape(closed_list, (closed_list.shape[0], 1))"
      ],
      "execution_count": null,
      "outputs": []
    },
    {
      "cell_type": "code",
      "metadata": {
        "colab": {
          "base_uri": "https://localhost:8080/"
        },
        "id": "wc62-J3ZGPwi",
        "outputId": "6e7f19d3-d424-4e44-e684-4e9802cd19f5"
      },
      "source": [
        "print(open_list.shape, closed_list.shape)"
      ],
      "execution_count": null,
      "outputs": [
        {
          "output_type": "stream",
          "text": [
            "(1258, 1) (1258, 1)\n"
          ],
          "name": "stdout"
        }
      ]
    },
    {
      "cell_type": "code",
      "metadata": {
        "colab": {
          "base_uri": "https://localhost:8080/",
          "height": 374
        },
        "id": "Ir9zeaFtVS9p",
        "outputId": "32684dea-7723-4550-fc14-e11ff31a7c3e"
      },
      "source": [
        "plt.figure(figsize=(10, 6))\n",
        "plt.plot(open_list)\n",
        "plt.grid()\n",
        "plt.show()"
      ],
      "execution_count": null,
      "outputs": [
        {
          "output_type": "display_data",
          "data": {
            "image/png": "[encoded data removed]",
            "text/plain": [
              "<Figure size 720x432 with 1 Axes>"
            ]
          },
          "metadata": {
            "tags": [],
            "needs_background": "light"
          }
        }
      ]
    },
    {
      "cell_type": "code",
      "metadata": {
        "colab": {
          "base_uri": "https://localhost:8080/",
          "height": 374
        },
        "id": "1f43a7jGMVt7",
        "outputId": "3cf672cb-c3aa-4e71-a1a8-70f2db9fe78e"
      },
      "source": [
        "plt.figure(figsize=(10, 6))\n",
        "plt.plot(closed_list)\n",
        "plt.grid()\n",
        "plt.show()"
      ],
      "execution_count": null,
      "outputs": [
        {
          "output_type": "display_data",
          "data": {
            "image/png": "[encoded data removed]",
            "text/plain": [
              "<Figure size 720x432 with 1 Axes>"
            ]
          },
          "metadata": {
            "tags": [],
            "needs_background": "light"
          }
        }
      ]
    },
    {
      "cell_type": "code",
      "metadata": {
        "id": "d7cou9rMWX_2"
      },
      "source": [
        "from sklearn.preprocessing import MinMaxScaler\n",
        "\n",
        "sc = MinMaxScaler()\n",
        "open_scaled = sc.fit_transform(open_list)"
      ],
      "execution_count": null,
      "outputs": []
    },
    {
      "cell_type": "code",
      "metadata": {
        "id": "F1GhVsykXkW4"
      },
      "source": [
        "X_train = []\n",
        "y_train = []\n",
        "for i in range(60, len(open_scaled)):\n",
        "  X_train.append(open_scaled[i-60:i, 0])\n",
        "  y_train.append(open_scaled[i, 0])\n",
        "X_train, y_train = np.array(X_train), np.array(y_train)"
      ],
      "execution_count": null,
      "outputs": []
    },
    {
      "cell_type": "code",
      "metadata": {
        "colab": {
          "base_uri": "https://localhost:8080/"
        },
        "id": "bP4mDSqcYX1-",
        "outputId": "2b479430-913c-4787-e3c4-2bf6efe0bdd9"
      },
      "source": [
        "X_train[0]"
      ],
      "execution_count": null,
      "outputs": [
        {
          "output_type": "execute_result",
          "data": {
            "text/plain": [
              "array([0.08581368, 0.09701243, 0.09433366, 0.09156187, 0.07984225,\n",
              "       0.0643277 , 0.0585423 , 0.06568569, 0.06109085, 0.06639259,\n",
              "       0.0614257 , 0.07474514, 0.02797827, 0.02379269, 0.02409033,\n",
              "       0.0159238 , 0.01078949, 0.00967334, 0.01642607, 0.02100231,\n",
              "       0.02280676, 0.02273235, 0.02810849, 0.03212665, 0.0433812 ,\n",
              "       0.04475779, 0.04790163, 0.0440695 , 0.04648783, 0.04745517,\n",
              "       0.04873875, 0.03936305, 0.04137213, 0.04034898, 0.04784582,\n",
              "       0.04325099, 0.04356723, 0.04286033, 0.04602277, 0.05398467,\n",
              "       0.05738894, 0.05714711, 0.05569611, 0.04421832, 0.04514845,\n",
              "       0.04605997, 0.04412531, 0.03675869, 0.04486941, 0.05065481,\n",
              "       0.05214302, 0.05612397, 0.05818885, 0.06540665, 0.06882953,\n",
              "       0.07243843, 0.07993526, 0.07846566, 0.08034452, 0.08497656])"
            ]
          },
          "metadata": {
            "tags": []
          },
          "execution_count": 25
        }
      ]
    },
    {
      "cell_type": "code",
      "metadata": {
        "colab": {
          "base_uri": "https://localhost:8080/"
        },
        "id": "-nukA2WUYb0R",
        "outputId": "2a050902-81a5-420a-be09-9453ec928da8"
      },
      "source": [
        "y_train[0]"
      ],
      "execution_count": null,
      "outputs": [
        {
          "output_type": "execute_result",
          "data": {
            "text/plain": [
              "0.08627874097775134"
            ]
          },
          "metadata": {
            "tags": []
          },
          "execution_count": 26
        }
      ]
    },
    {
      "cell_type": "code",
      "metadata": {
        "colab": {
          "base_uri": "https://localhost:8080/"
        },
        "id": "XKo3kq8LYdhe",
        "outputId": "7fe0ae45-4df6-41f2-b781-b3ae00a82da5"
      },
      "source": [
        "X_train[1]"
      ],
      "execution_count": null,
      "outputs": [
        {
          "output_type": "execute_result",
          "data": {
            "text/plain": [
              "array([0.09701243, 0.09433366, 0.09156187, 0.07984225, 0.0643277 ,\n",
              "       0.0585423 , 0.06568569, 0.06109085, 0.06639259, 0.0614257 ,\n",
              "       0.07474514, 0.02797827, 0.02379269, 0.02409033, 0.0159238 ,\n",
              "       0.01078949, 0.00967334, 0.01642607, 0.02100231, 0.02280676,\n",
              "       0.02273235, 0.02810849, 0.03212665, 0.0433812 , 0.04475779,\n",
              "       0.04790163, 0.0440695 , 0.04648783, 0.04745517, 0.04873875,\n",
              "       0.03936305, 0.04137213, 0.04034898, 0.04784582, 0.04325099,\n",
              "       0.04356723, 0.04286033, 0.04602277, 0.05398467, 0.05738894,\n",
              "       0.05714711, 0.05569611, 0.04421832, 0.04514845, 0.04605997,\n",
              "       0.04412531, 0.03675869, 0.04486941, 0.05065481, 0.05214302,\n",
              "       0.05612397, 0.05818885, 0.06540665, 0.06882953, 0.07243843,\n",
              "       0.07993526, 0.07846566, 0.08034452, 0.08497656, 0.08627874])"
            ]
          },
          "metadata": {
            "tags": []
          },
          "execution_count": 28
        }
      ]
    },
    {
      "cell_type": "code",
      "metadata": {
        "colab": {
          "base_uri": "https://localhost:8080/"
        },
        "id": "W591heYgYqGP",
        "outputId": "cf435ad5-1791-4a30-9977-0d76a07d007b"
      },
      "source": [
        "y_train[1]"
      ],
      "execution_count": null,
      "outputs": [
        {
          "output_type": "execute_result",
          "data": {
            "text/plain": [
              "0.08471612471166012"
            ]
          },
          "metadata": {
            "tags": []
          },
          "execution_count": 29
        }
      ]
    },
    {
      "cell_type": "code",
      "metadata": {
        "colab": {
          "base_uri": "https://localhost:8080/"
        },
        "id": "tWmrILivY1td",
        "outputId": "1f68162c-8f43-4bc1-8d13-3bee2e8bd4cb"
      },
      "source": [
        "X_train.shape"
      ],
      "execution_count": null,
      "outputs": [
        {
          "output_type": "execute_result",
          "data": {
            "text/plain": [
              "(1198, 60)"
            ]
          },
          "metadata": {
            "tags": []
          },
          "execution_count": 30
        }
      ]
    },
    {
      "cell_type": "code",
      "metadata": {
        "id": "PisEFRZeY7ZC"
      },
      "source": [
        "X_train = np.reshape(X_train, (X_train.shape[0], X_train.shape[1], 1))"
      ],
      "execution_count": null,
      "outputs": []
    },
    {
      "cell_type": "code",
      "metadata": {
        "colab": {
          "base_uri": "https://localhost:8080/"
        },
        "id": "b59xaqaCZVCN",
        "outputId": "5eb881ed-6d18-4e74-cd79-6266dc6c5c4d"
      },
      "source": [
        "X_train[0]"
      ],
      "execution_count": null,
      "outputs": [
        {
          "output_type": "execute_result",
          "data": {
            "text/plain": [
              "array([[0.08581368],\n",
              "       [0.09701243],\n",
              "       [0.09433366],\n",
              "       [0.09156187],\n",
              "       [0.07984225],\n",
              "       [0.0643277 ],\n",
              "       [0.0585423 ],\n",
              "       [0.06568569],\n",
              "       [0.06109085],\n",
              "       [0.06639259],\n",
              "       [0.0614257 ],\n",
              "       [0.07474514],\n",
              "       [0.02797827],\n",
              "       [0.02379269],\n",
              "       [0.02409033],\n",
              "       [0.0159238 ],\n",
              "       [0.01078949],\n",
              "       [0.00967334],\n",
              "       [0.01642607],\n",
              "       [0.02100231],\n",
              "       [0.02280676],\n",
              "       [0.02273235],\n",
              "       [0.02810849],\n",
              "       [0.03212665],\n",
              "       [0.0433812 ],\n",
              "       [0.04475779],\n",
              "       [0.04790163],\n",
              "       [0.0440695 ],\n",
              "       [0.04648783],\n",
              "       [0.04745517],\n",
              "       [0.04873875],\n",
              "       [0.03936305],\n",
              "       [0.04137213],\n",
              "       [0.04034898],\n",
              "       [0.04784582],\n",
              "       [0.04325099],\n",
              "       [0.04356723],\n",
              "       [0.04286033],\n",
              "       [0.04602277],\n",
              "       [0.05398467],\n",
              "       [0.05738894],\n",
              "       [0.05714711],\n",
              "       [0.05569611],\n",
              "       [0.04421832],\n",
              "       [0.04514845],\n",
              "       [0.04605997],\n",
              "       [0.04412531],\n",
              "       [0.03675869],\n",
              "       [0.04486941],\n",
              "       [0.05065481],\n",
              "       [0.05214302],\n",
              "       [0.05612397],\n",
              "       [0.05818885],\n",
              "       [0.06540665],\n",
              "       [0.06882953],\n",
              "       [0.07243843],\n",
              "       [0.07993526],\n",
              "       [0.07846566],\n",
              "       [0.08034452],\n",
              "       [0.08497656]])"
            ]
          },
          "metadata": {
            "tags": []
          },
          "execution_count": 32
        }
      ]
    },
    {
      "cell_type": "code",
      "metadata": {
        "colab": {
          "base_uri": "https://localhost:8080/"
        },
        "id": "Omh02QlwZXRx",
        "outputId": "9899c890-6680-4a3a-94fa-7964fcb0a9ac"
      },
      "source": [
        "X_train.shape"
      ],
      "execution_count": null,
      "outputs": [
        {
          "output_type": "execute_result",
          "data": {
            "text/plain": [
              "(1198, 60, 1)"
            ]
          },
          "metadata": {
            "tags": []
          },
          "execution_count": 33
        }
      ]
    },
    {
      "cell_type": "code",
      "metadata": {
        "colab": {
          "base_uri": "https://localhost:8080/"
        },
        "id": "kKGTkew7Zbrw",
        "outputId": "f5db4fee-00f8-4b07-9e95-45e4d8acfe1a"
      },
      "source": [
        "model1 = tf.keras.models.Sequential([\n",
        "      tf.keras.layers.LSTM(50, return_sequences=True, input_shape=(X_train.shape[1], 1)),\n",
        "      tf.keras.layers.Dropout(0.2),\n",
        "      tf.keras.layers.LSTM(50, return_sequences=True),\n",
        "      tf.keras.layers.Dropout(0.2),\n",
        "      tf.keras.layers.LSTM(50, return_sequences=True),\n",
        "      tf.keras.layers.Dropout(0.2),\n",
        "      tf.keras.layers.LSTM(50),\n",
        "      tf.keras.layers.Dropout(0.2),\n",
        "      tf.keras.layers.Dense(1)\n",
        "])\n",
        "\n",
        "model1.compile(optimizer='adam', loss='mse')\n",
        "history = model1.fit(X_train, y_train, epochs=100, batch_size=32)"
      ],
      "execution_count": null,
      "outputs": [
        {
          "output_type": "stream",
          "text": [
            "Epoch 1/100\n",
            "38/38 [==============================] - 4s 100ms/step - loss: 0.0335\n",
            "Epoch 2/100\n",
            "38/38 [==============================] - 4s 102ms/step - loss: 0.0061\n",
            "Epoch 3/100\n",
            "38/38 [==============================] - 4s 101ms/step - loss: 0.0061\n",
            "Epoch 4/100\n",
            "38/38 [==============================] - 4s 101ms/step - loss: 0.0051\n",
            "Epoch 5/100\n",
            "38/38 [==============================] - 4s 103ms/step - loss: 0.0052\n",
            "Epoch 6/100\n",
            "38/38 [==============================] - 4s 103ms/step - loss: 0.0047\n",
            "Epoch 7/100\n",
            "38/38 [==============================] - 4s 102ms/step - loss: 0.0047\n",
            "Epoch 8/100\n",
            "38/38 [==============================] - 4s 102ms/step - loss: 0.0044\n",
            "Epoch 9/100\n",
            "38/38 [==============================] - 4s 103ms/step - loss: 0.0042\n",
            "Epoch 10/100\n",
            "38/38 [==============================] - 4s 102ms/step - loss: 0.0044\n",
            "Epoch 11/100\n",
            "38/38 [==============================] - 4s 103ms/step - loss: 0.0039\n",
            "Epoch 12/100\n",
            "38/38 [==============================] - 4s 102ms/step - loss: 0.0039\n",
            "Epoch 13/100\n",
            "38/38 [==============================] - 4s 104ms/step - loss: 0.0042\n",
            "Epoch 14/100\n",
            "38/38 [==============================] - 4s 104ms/step - loss: 0.0035\n",
            "Epoch 15/100\n",
            "38/38 [==============================] - 4s 103ms/step - loss: 0.0042\n",
            "Epoch 16/100\n",
            "38/38 [==============================] - 4s 104ms/step - loss: 0.0040\n",
            "Epoch 17/100\n",
            "38/38 [==============================] - 4s 103ms/step - loss: 0.0036\n",
            "Epoch 18/100\n",
            "38/38 [==============================] - 4s 103ms/step - loss: 0.0037\n",
            "Epoch 19/100\n",
            "38/38 [==============================] - 4s 104ms/step - loss: 0.0037\n",
            "Epoch 20/100\n",
            "38/38 [==============================] - 4s 103ms/step - loss: 0.0034\n",
            "Epoch 21/100\n",
            "38/38 [==============================] - 4s 104ms/step - loss: 0.0035\n",
            "Epoch 22/100\n",
            "38/38 [==============================] - 4s 103ms/step - loss: 0.0035\n",
            "Epoch 23/100\n",
            "38/38 [==============================] - 4s 103ms/step - loss: 0.0032\n",
            "Epoch 24/100\n",
            "38/38 [==============================] - 4s 104ms/step - loss: 0.0034\n",
            "Epoch 25/100\n",
            "38/38 [==============================] - 4s 102ms/step - loss: 0.0032\n",
            "Epoch 26/100\n",
            "38/38 [==============================] - 4s 102ms/step - loss: 0.0035\n",
            "Epoch 27/100\n",
            "38/38 [==============================] - 6s 153ms/step - loss: 0.0031\n",
            "Epoch 28/100\n",
            "38/38 [==============================] - 6s 154ms/step - loss: 0.0029\n",
            "Epoch 29/100\n",
            "38/38 [==============================] - 4s 105ms/step - loss: 0.0029\n",
            "Epoch 30/100\n",
            "38/38 [==============================] - 4s 104ms/step - loss: 0.0029\n",
            "Epoch 31/100\n",
            "38/38 [==============================] - 4s 105ms/step - loss: 0.0029\n",
            "Epoch 32/100\n",
            "38/38 [==============================] - 4s 103ms/step - loss: 0.0031\n",
            "Epoch 33/100\n",
            "38/38 [==============================] - 4s 105ms/step - loss: 0.0029\n",
            "Epoch 34/100\n",
            "38/38 [==============================] - 4s 106ms/step - loss: 0.0029\n",
            "Epoch 35/100\n",
            "38/38 [==============================] - 4s 107ms/step - loss: 0.0029\n",
            "Epoch 36/100\n",
            "38/38 [==============================] - 4s 108ms/step - loss: 0.0029\n",
            "Epoch 37/100\n",
            "38/38 [==============================] - 4s 105ms/step - loss: 0.0028\n",
            "Epoch 38/100\n",
            "38/38 [==============================] - 4s 104ms/step - loss: 0.0027\n",
            "Epoch 39/100\n",
            "38/38 [==============================] - 4s 104ms/step - loss: 0.0029\n",
            "Epoch 40/100\n",
            "38/38 [==============================] - 4s 104ms/step - loss: 0.0027\n",
            "Epoch 41/100\n",
            "38/38 [==============================] - 4s 105ms/step - loss: 0.0029\n",
            "Epoch 42/100\n",
            "38/38 [==============================] - 4s 105ms/step - loss: 0.0027\n",
            "Epoch 43/100\n",
            "38/38 [==============================] - 4s 105ms/step - loss: 0.0026\n",
            "Epoch 44/100\n",
            "38/38 [==============================] - 4s 105ms/step - loss: 0.0028\n",
            "Epoch 45/100\n",
            "38/38 [==============================] - 4s 105ms/step - loss: 0.0025\n",
            "Epoch 46/100\n",
            "38/38 [==============================] - 4s 106ms/step - loss: 0.0024\n",
            "Epoch 47/100\n",
            "38/38 [==============================] - 4s 105ms/step - loss: 0.0025\n",
            "Epoch 48/100\n",
            "38/38 [==============================] - 4s 104ms/step - loss: 0.0022\n",
            "Epoch 49/100\n",
            "38/38 [==============================] - 4s 104ms/step - loss: 0.0024\n",
            "Epoch 50/100\n",
            "38/38 [==============================] - 4s 104ms/step - loss: 0.0023\n",
            "Epoch 51/100\n",
            "38/38 [==============================] - 4s 106ms/step - loss: 0.0022\n",
            "Epoch 52/100\n",
            "38/38 [==============================] - 4s 104ms/step - loss: 0.0024\n",
            "Epoch 53/100\n",
            "38/38 [==============================] - 4s 104ms/step - loss: 0.0022\n",
            "Epoch 54/100\n",
            "38/38 [==============================] - 4s 104ms/step - loss: 0.0021\n",
            "Epoch 55/100\n",
            "38/38 [==============================] - 4s 105ms/step - loss: 0.0021\n",
            "Epoch 56/100\n",
            "38/38 [==============================] - 4s 105ms/step - loss: 0.0021\n",
            "Epoch 57/100\n",
            "38/38 [==============================] - 4s 105ms/step - loss: 0.0020\n",
            "Epoch 58/100\n",
            "38/38 [==============================] - 4s 106ms/step - loss: 0.0021\n",
            "Epoch 59/100\n",
            "38/38 [==============================] - 4s 106ms/step - loss: 0.0024\n",
            "Epoch 60/100\n",
            "38/38 [==============================] - 4s 107ms/step - loss: 0.0021\n",
            "Epoch 61/100\n",
            "38/38 [==============================] - 4s 104ms/step - loss: 0.0019\n",
            "Epoch 62/100\n",
            "38/38 [==============================] - 4s 105ms/step - loss: 0.0019\n",
            "Epoch 63/100\n",
            "38/38 [==============================] - 4s 106ms/step - loss: 0.0019\n",
            "Epoch 64/100\n",
            "38/38 [==============================] - 4s 106ms/step - loss: 0.0018\n",
            "Epoch 65/100\n",
            "38/38 [==============================] - 4s 106ms/step - loss: 0.0019\n",
            "Epoch 66/100\n",
            "38/38 [==============================] - 4s 106ms/step - loss: 0.0018\n",
            "Epoch 67/100\n",
            "38/38 [==============================] - 4s 105ms/step - loss: 0.0018\n",
            "Epoch 68/100\n",
            "38/38 [==============================] - 4s 105ms/step - loss: 0.0019\n",
            "Epoch 69/100\n",
            "38/38 [==============================] - 4s 105ms/step - loss: 0.0020\n",
            "Epoch 70/100\n",
            "38/38 [==============================] - 4s 107ms/step - loss: 0.0018\n",
            "Epoch 71/100\n",
            "38/38 [==============================] - 4s 106ms/step - loss: 0.0018\n",
            "Epoch 72/100\n",
            "38/38 [==============================] - 4s 105ms/step - loss: 0.0017\n",
            "Epoch 73/100\n",
            "38/38 [==============================] - 4s 105ms/step - loss: 0.0016\n",
            "Epoch 74/100\n",
            "38/38 [==============================] - 4s 104ms/step - loss: 0.0016\n",
            "Epoch 75/100\n",
            "38/38 [==============================] - 4s 105ms/step - loss: 0.0018\n",
            "Epoch 76/100\n",
            "38/38 [==============================] - 4s 105ms/step - loss: 0.0019\n",
            "Epoch 77/100\n",
            "38/38 [==============================] - 4s 106ms/step - loss: 0.0020\n",
            "Epoch 78/100\n",
            "38/38 [==============================] - 4s 105ms/step - loss: 0.0017\n",
            "Epoch 79/100\n",
            "38/38 [==============================] - 4s 107ms/step - loss: 0.0017\n",
            "Epoch 80/100\n",
            "38/38 [==============================] - 4s 109ms/step - loss: 0.0016\n",
            "Epoch 81/100\n",
            "38/38 [==============================] - 4s 105ms/step - loss: 0.0016\n",
            "Epoch 82/100\n",
            "38/38 [==============================] - 4s 106ms/step - loss: 0.0015\n",
            "Epoch 83/100\n",
            "38/38 [==============================] - 4s 106ms/step - loss: 0.0021\n",
            "Epoch 84/100\n",
            "38/38 [==============================] - 4s 107ms/step - loss: 0.0016\n",
            "Epoch 85/100\n",
            "38/38 [==============================] - 4s 106ms/step - loss: 0.0015\n",
            "Epoch 86/100\n",
            "38/38 [==============================] - 4s 105ms/step - loss: 0.0016\n",
            "Epoch 87/100\n",
            "38/38 [==============================] - 4s 106ms/step - loss: 0.0017\n",
            "Epoch 88/100\n",
            "38/38 [==============================] - 4s 105ms/step - loss: 0.0016\n",
            "Epoch 89/100\n",
            "38/38 [==============================] - 4s 105ms/step - loss: 0.0015\n",
            "Epoch 90/100\n",
            "38/38 [==============================] - 4s 106ms/step - loss: 0.0014\n",
            "Epoch 91/100\n",
            "38/38 [==============================] - 4s 106ms/step - loss: 0.0015\n",
            "Epoch 92/100\n",
            "38/38 [==============================] - 4s 106ms/step - loss: 0.0015\n",
            "Epoch 93/100\n",
            "38/38 [==============================] - 4s 106ms/step - loss: 0.0015\n",
            "Epoch 94/100\n",
            "38/38 [==============================] - 4s 105ms/step - loss: 0.0015\n",
            "Epoch 95/100\n",
            "38/38 [==============================] - 4s 106ms/step - loss: 0.0015\n",
            "Epoch 96/100\n",
            "38/38 [==============================] - 4s 105ms/step - loss: 0.0015\n",
            "Epoch 97/100\n",
            "38/38 [==============================] - 4s 106ms/step - loss: 0.0015\n",
            "Epoch 98/100\n",
            "38/38 [==============================] - 4s 106ms/step - loss: 0.0016\n",
            "Epoch 99/100\n",
            "38/38 [==============================] - 4s 106ms/step - loss: 0.0015\n",
            "Epoch 100/100\n",
            "38/38 [==============================] - 4s 107ms/step - loss: 0.0014\n"
          ],
          "name": "stdout"
        }
      ]
    },
    {
      "cell_type": "code",
      "metadata": {
        "id": "2kyR0ClZwz1M",
        "colab": {
          "base_uri": "https://localhost:8080/"
        },
        "outputId": "f24a8942-4320-4bc1-cce3-aca1173db8a6"
      },
      "source": [
        "print(\"Mean loss of LSTM\", np.mean(history.history['loss']))"
      ],
      "execution_count": null,
      "outputs": [
        {
          "output_type": "stream",
          "text": [
            "Mean loss of LSTM 0.0029167639941442757\n"
          ],
          "name": "stdout"
        }
      ]
    },
    {
      "cell_type": "code",
      "metadata": {
        "colab": {
          "base_uri": "https://localhost:8080/",
          "height": 286
        },
        "id": "SDkf_Ma-dkZ5",
        "outputId": "43c5c441-a2b8-4d38-930f-8a7725fc3e61"
      },
      "source": [
        "pd.DataFrame(history.history).plot()"
      ],
      "execution_count": null,
      "outputs": [
        {
          "output_type": "execute_result",
          "data": {
            "text/plain": [
              "<matplotlib.axes._subplots.AxesSubplot at 0x7fb3c135f940>"
            ]
          },
          "metadata": {
            "tags": []
          },
          "execution_count": 38
        },
        {
          "output_type": "display_data",
          "data": {
            "image/png": "[encoded data removed]",
            "text/plain": [
              "<Figure size 432x288 with 1 Axes>"
            ]
          },
          "metadata": {
            "tags": [],
            "needs_background": "light"
          }
        }
      ]
    },
    {
      "cell_type": "code",
      "metadata": {
        "id": "J9U_4fZJbVCB"
      },
      "source": [
        "forecast = []\n",
        "results = []\n",
        "for time in range(len(open_scaled) - 60):\n",
        "  forecast.append(model1.predict(open_scaled[time:time + 60][np.newaxis]))"
      ],
      "execution_count": null,
      "outputs": []
    },
    {
      "cell_type": "code",
      "metadata": {
        "colab": {
          "base_uri": "https://localhost:8080/",
          "height": 374
        },
        "id": "S8GoUxr_dIl1",
        "outputId": "cfc14486-cae4-45f1-fbc3-7e0eea8d1cf4"
      },
      "source": [
        "res = np.zeros(len(open_scaled))\n",
        "results = np.array(forecast)[:, 0, 0]\n",
        "for i in range(len(res)):\n",
        "  if i<60:\n",
        "    pass\n",
        "  elif i>=60:\n",
        "    res[i] = results[i-60]\n",
        "     \n",
        "plt.figure(figsize=(10, 6))\n",
        "plt.plot(open_scaled)\n",
        "plt.plot(res)\n",
        "plt.grid()"
      ],
      "execution_count": null,
      "outputs": [
        {
          "output_type": "display_data",
          "data": {
            "image/png": "[encoded data removed]",
            "text/plain": [
              "<Figure size 720x432 with 1 Axes>"
            ]
          },
          "metadata": {
            "tags": [],
            "needs_background": "light"
          }
        }
      ]
    },
    {
      "cell_type": "code",
      "metadata": {
        "colab": {
          "base_uri": "https://localhost:8080/"
        },
        "id": "fs-LmLVpLgPy",
        "outputId": "8235bf06-0b7d-449f-dbdf-d593457610ce"
      },
      "source": [
        "model2 = tf.keras.models.Sequential([\n",
        "      tf.keras.layers.GRU(50, return_sequences=True, input_shape=(X_train.shape[1], 1)),\n",
        "      tf.keras.layers.Dropout(0.2),\n",
        "      tf.keras.layers.GRU(50, return_sequences=True),\n",
        "      tf.keras.layers.Dropout(0.2),\n",
        "      tf.keras.layers.GRU(50, return_sequences=True),\n",
        "      tf.keras.layers.Dropout(0.2),\n",
        "      tf.keras.layers.GRU(50),\n",
        "      tf.keras.layers.Dropout(0.2),\n",
        "      tf.keras.layers.Dense(1)\n",
        "])\n",
        "\n",
        "model2.compile(optimizer='adam', loss='mse')\n",
        "history = model2.fit(X_train, y_train, epochs=100, batch_size=32)"
      ],
      "execution_count": null,
      "outputs": [
        {
          "output_type": "stream",
          "text": [
            "Epoch 1/100\n",
            "38/38 [==============================] - 4s 101ms/step - loss: 0.0441\n",
            "Epoch 2/100\n",
            "38/38 [==============================] - 4s 104ms/step - loss: 0.0060\n",
            "Epoch 3/100\n",
            "38/38 [==============================] - 4s 104ms/step - loss: 0.0051\n",
            "Epoch 4/100\n",
            "38/38 [==============================] - 4s 105ms/step - loss: 0.0043\n",
            "Epoch 5/100\n",
            "38/38 [==============================] - 4s 104ms/step - loss: 0.0042\n",
            "Epoch 6/100\n",
            "38/38 [==============================] - 4s 106ms/step - loss: 0.0047\n",
            "Epoch 7/100\n",
            "38/38 [==============================] - 4s 104ms/step - loss: 0.0038\n",
            "Epoch 8/100\n",
            "38/38 [==============================] - 4s 104ms/step - loss: 0.0035\n",
            "Epoch 9/100\n",
            "38/38 [==============================] - 4s 105ms/step - loss: 0.0036\n",
            "Epoch 10/100\n",
            "38/38 [==============================] - 4s 105ms/step - loss: 0.0033\n",
            "Epoch 11/100\n",
            "38/38 [==============================] - 4s 104ms/step - loss: 0.0037\n",
            "Epoch 12/100\n",
            "38/38 [==============================] - 4s 105ms/step - loss: 0.0033\n",
            "Epoch 13/100\n",
            "38/38 [==============================] - 4s 105ms/step - loss: 0.0036\n",
            "Epoch 14/100\n",
            "38/38 [==============================] - 4s 105ms/step - loss: 0.0029\n",
            "Epoch 15/100\n",
            "38/38 [==============================] - 4s 105ms/step - loss: 0.0027\n",
            "Epoch 16/100\n",
            "38/38 [==============================] - 4s 105ms/step - loss: 0.0031\n",
            "Epoch 17/100\n",
            "38/38 [==============================] - 4s 105ms/step - loss: 0.0027\n",
            "Epoch 18/100\n",
            "38/38 [==============================] - 4s 105ms/step - loss: 0.0029\n",
            "Epoch 19/100\n",
            "38/38 [==============================] - 4s 106ms/step - loss: 0.0028\n",
            "Epoch 20/100\n",
            "38/38 [==============================] - 4s 106ms/step - loss: 0.0025\n",
            "Epoch 21/100\n",
            "38/38 [==============================] - 4s 105ms/step - loss: 0.0030\n",
            "Epoch 22/100\n",
            "38/38 [==============================] - 4s 106ms/step - loss: 0.0027\n",
            "Epoch 23/100\n",
            "38/38 [==============================] - 4s 105ms/step - loss: 0.0028\n",
            "Epoch 24/100\n",
            "38/38 [==============================] - 4s 105ms/step - loss: 0.0029\n",
            "Epoch 25/100\n",
            "38/38 [==============================] - 4s 107ms/step - loss: 0.0031\n",
            "Epoch 26/100\n",
            "38/38 [==============================] - 4s 105ms/step - loss: 0.0028\n",
            "Epoch 27/100\n",
            "38/38 [==============================] - 4s 105ms/step - loss: 0.0029\n",
            "Epoch 28/100\n",
            "38/38 [==============================] - 4s 105ms/step - loss: 0.0023\n",
            "Epoch 29/100\n",
            "38/38 [==============================] - 4s 105ms/step - loss: 0.0027\n",
            "Epoch 30/100\n",
            "38/38 [==============================] - 4s 106ms/step - loss: 0.0025\n",
            "Epoch 31/100\n",
            "38/38 [==============================] - 4s 107ms/step - loss: 0.0024\n",
            "Epoch 32/100\n",
            "38/38 [==============================] - 4s 106ms/step - loss: 0.0023\n",
            "Epoch 33/100\n",
            "38/38 [==============================] - 4s 105ms/step - loss: 0.0026\n",
            "Epoch 34/100\n",
            "38/38 [==============================] - 4s 106ms/step - loss: 0.0024\n",
            "Epoch 35/100\n",
            "38/38 [==============================] - 4s 106ms/step - loss: 0.0025\n",
            "Epoch 36/100\n",
            "38/38 [==============================] - 4s 105ms/step - loss: 0.0025\n",
            "Epoch 37/100\n",
            "38/38 [==============================] - 4s 105ms/step - loss: 0.0020\n",
            "Epoch 38/100\n",
            "38/38 [==============================] - 4s 106ms/step - loss: 0.0023\n",
            "Epoch 39/100\n",
            "38/38 [==============================] - 4s 106ms/step - loss: 0.0023\n",
            "Epoch 40/100\n",
            "38/38 [==============================] - 4s 106ms/step - loss: 0.0022\n",
            "Epoch 41/100\n",
            "38/38 [==============================] - 4s 106ms/step - loss: 0.0024\n",
            "Epoch 42/100\n",
            "38/38 [==============================] - 4s 106ms/step - loss: 0.0021\n",
            "Epoch 43/100\n",
            "38/38 [==============================] - 4s 107ms/step - loss: 0.0019\n",
            "Epoch 44/100\n",
            "38/38 [==============================] - 4s 106ms/step - loss: 0.0020\n",
            "Epoch 45/100\n",
            "38/38 [==============================] - 4s 106ms/step - loss: 0.0020\n",
            "Epoch 46/100\n",
            "38/38 [==============================] - 4s 105ms/step - loss: 0.0019\n",
            "Epoch 47/100\n",
            "38/38 [==============================] - 4s 105ms/step - loss: 0.0020\n",
            "Epoch 48/100\n",
            "38/38 [==============================] - 4s 106ms/step - loss: 0.0024\n",
            "Epoch 49/100\n",
            "38/38 [==============================] - 4s 106ms/step - loss: 0.0019\n",
            "Epoch 50/100\n",
            "38/38 [==============================] - 4s 106ms/step - loss: 0.0018\n",
            "Epoch 51/100\n",
            "38/38 [==============================] - 4s 105ms/step - loss: 0.0019\n",
            "Epoch 52/100\n",
            "38/38 [==============================] - 4s 106ms/step - loss: 0.0020\n",
            "Epoch 53/100\n",
            "38/38 [==============================] - 4s 105ms/step - loss: 0.0019\n",
            "Epoch 54/100\n",
            "38/38 [==============================] - 4s 106ms/step - loss: 0.0020\n",
            "Epoch 55/100\n",
            "38/38 [==============================] - 4s 105ms/step - loss: 0.0022\n",
            "Epoch 56/100\n",
            "38/38 [==============================] - 4s 106ms/step - loss: 0.0020\n",
            "Epoch 57/100\n",
            "38/38 [==============================] - 4s 106ms/step - loss: 0.0018\n",
            "Epoch 58/100\n",
            "38/38 [==============================] - 4s 106ms/step - loss: 0.0019\n",
            "Epoch 59/100\n",
            "38/38 [==============================] - 4s 105ms/step - loss: 0.0017\n",
            "Epoch 60/100\n",
            "38/38 [==============================] - 4s 106ms/step - loss: 0.0017\n",
            "Epoch 61/100\n",
            "38/38 [==============================] - 4s 106ms/step - loss: 0.0018\n",
            "Epoch 62/100\n",
            "38/38 [==============================] - 4s 106ms/step - loss: 0.0016\n",
            "Epoch 63/100\n",
            "38/38 [==============================] - 4s 109ms/step - loss: 0.0019\n",
            "Epoch 64/100\n",
            "38/38 [==============================] - 4s 110ms/step - loss: 0.0018\n",
            "Epoch 65/100\n",
            "38/38 [==============================] - 4s 107ms/step - loss: 0.0018\n",
            "Epoch 66/100\n",
            "38/38 [==============================] - 4s 106ms/step - loss: 0.0018\n",
            "Epoch 67/100\n",
            "38/38 [==============================] - 4s 105ms/step - loss: 0.0020\n",
            "Epoch 68/100\n",
            "38/38 [==============================] - 4s 104ms/step - loss: 0.0018\n",
            "Epoch 69/100\n",
            "38/38 [==============================] - 4s 105ms/step - loss: 0.0016\n",
            "Epoch 70/100\n",
            "38/38 [==============================] - 4s 105ms/step - loss: 0.0019\n",
            "Epoch 71/100\n",
            "38/38 [==============================] - 4s 105ms/step - loss: 0.0017\n",
            "Epoch 72/100\n",
            "38/38 [==============================] - 4s 104ms/step - loss: 0.0015\n",
            "Epoch 73/100\n",
            "38/38 [==============================] - 4s 105ms/step - loss: 0.0014\n",
            "Epoch 74/100\n",
            "38/38 [==============================] - 4s 106ms/step - loss: 0.0016\n",
            "Epoch 75/100\n",
            "38/38 [==============================] - 4s 105ms/step - loss: 0.0015\n",
            "Epoch 76/100\n",
            "38/38 [==============================] - 4s 106ms/step - loss: 0.0016\n",
            "Epoch 77/100\n",
            "38/38 [==============================] - 4s 105ms/step - loss: 0.0018\n",
            "Epoch 78/100\n",
            "38/38 [==============================] - 4s 105ms/step - loss: 0.0013\n",
            "Epoch 79/100\n",
            "38/38 [==============================] - 4s 106ms/step - loss: 0.0016\n",
            "Epoch 80/100\n",
            "38/38 [==============================] - 4s 105ms/step - loss: 0.0015\n",
            "Epoch 81/100\n",
            "38/38 [==============================] - 4s 104ms/step - loss: 0.0016\n",
            "Epoch 82/100\n",
            "38/38 [==============================] - 4s 106ms/step - loss: 0.0015\n",
            "Epoch 83/100\n",
            "38/38 [==============================] - 4s 106ms/step - loss: 0.0013\n",
            "Epoch 84/100\n",
            "38/38 [==============================] - 4s 107ms/step - loss: 0.0015\n",
            "Epoch 85/100\n",
            "38/38 [==============================] - 4s 106ms/step - loss: 0.0016\n",
            "Epoch 86/100\n",
            "38/38 [==============================] - 4s 106ms/step - loss: 0.0016\n",
            "Epoch 87/100\n",
            "38/38 [==============================] - 4s 106ms/step - loss: 0.0015\n",
            "Epoch 88/100\n",
            "38/38 [==============================] - 4s 106ms/step - loss: 0.0014\n",
            "Epoch 89/100\n",
            "38/38 [==============================] - 4s 106ms/step - loss: 0.0014\n",
            "Epoch 90/100\n",
            "38/38 [==============================] - 4s 105ms/step - loss: 0.0014\n",
            "Epoch 91/100\n",
            "38/38 [==============================] - 4s 106ms/step - loss: 0.0013\n",
            "Epoch 92/100\n",
            "38/38 [==============================] - 4s 107ms/step - loss: 0.0014\n",
            "Epoch 93/100\n",
            "38/38 [==============================] - 4s 105ms/step - loss: 0.0017\n",
            "Epoch 94/100\n",
            "38/38 [==============================] - 4s 105ms/step - loss: 0.0015\n",
            "Epoch 95/100\n",
            "38/38 [==============================] - 4s 105ms/step - loss: 0.0013\n",
            "Epoch 96/100\n",
            "38/38 [==============================] - 4s 106ms/step - loss: 0.0015\n",
            "Epoch 97/100\n",
            "38/38 [==============================] - 4s 105ms/step - loss: 0.0012\n",
            "Epoch 98/100\n",
            "38/38 [==============================] - 4s 105ms/step - loss: 0.0013\n",
            "Epoch 99/100\n",
            "38/38 [==============================] - 4s 105ms/step - loss: 0.0015\n",
            "Epoch 100/100\n",
            "38/38 [==============================] - 4s 106ms/step - loss: 0.0013\n"
          ],
          "name": "stdout"
        }
      ]
    },
    {
      "cell_type": "code",
      "metadata": {
        "id": "-N-2vq8lwxRW",
        "colab": {
          "base_uri": "https://localhost:8080/"
        },
        "outputId": "e4c5a710-67aa-42d4-98f2-202a10a921ca"
      },
      "source": [
        "print(\"Mean loss of GRU\", np.mean(history.history['loss']))"
      ],
      "execution_count": null,
      "outputs": [
        {
          "output_type": "stream",
          "text": [
            "Mean loss of GRU 0.002655531286727637\n"
          ],
          "name": "stdout"
        }
      ]
    },
    {
      "cell_type": "code",
      "metadata": {
        "id": "o7TbDQHSPyQ5"
      },
      "source": [
        "forecast = []\n",
        "results = []\n",
        "for time in range(len(open_scaled) - 60):\n",
        "  forecast.append(model2.predict(open_scaled[time:time + 60][np.newaxis]))\n",
        "\n",
        "results = np.array(forecast)[:, 0, 0]\n",
        "res = np.zeros(len(open_scaled))\n",
        "\n",
        "for i in range(len(res)):\n",
        "  if i<60:\n",
        "    pass\n",
        "  elif i>=60:\n",
        "    res[i] = results[i-60]"
      ],
      "execution_count": null,
      "outputs": []
    },
    {
      "cell_type": "code",
      "metadata": {
        "colab": {
          "base_uri": "https://localhost:8080/",
          "height": 374
        },
        "id": "nMkgzkClSJqv",
        "outputId": "f8b35996-f4c7-43b5-e4f5-b01ba94bb6e3"
      },
      "source": [
        "plt.figure(figsize=(10, 6))\n",
        "plt.plot(open_scaled)\n",
        "plt.plot(res)\n",
        "plt.grid()"
      ],
      "execution_count": null,
      "outputs": [
        {
          "output_type": "display_data",
          "data": {
            "image/png": "[encoded data removed]",
            "text/plain": [
              "<Figure size 720x432 with 1 Axes>"
            ]
          },
          "metadata": {
            "tags": [],
            "needs_background": "light"
          }
        }
      ]
    },
    {
      "cell_type": "code",
      "metadata": {
        "colab": {
          "base_uri": "https://localhost:8080/"
        },
        "id": "8F5MpnheXwFy",
        "outputId": "99e28004-a927-4b2a-fe69-ca03388b6875"
      },
      "source": [
        "model3 = tf.keras.models.Sequential([\n",
        "      tf.keras.layers.Bidirectional(tf.keras.layers.LSTM(50, return_sequences=True, input_shape=(X_train.shape[1], 1))),\n",
        "      tf.keras.layers.Dropout(0.2),\n",
        "      tf.keras.layers.Bidirectional(tf.keras.layers.LSTM(50, return_sequences=True)),\n",
        "      tf.keras.layers.Dropout(0.2),\n",
        "      tf.keras.layers.Bidirectional(tf.keras.layers.LSTM(50, return_sequences=True)),\n",
        "      tf.keras.layers.Dropout(0.2),\n",
        "      tf.keras.layers.Bidirectional(tf.keras.layers.LSTM(50)),\n",
        "      tf.keras.layers.Dropout(0.2),\n",
        "      tf.keras.layers.Dense(1)\n",
        "])\n",
        "\n",
        "model3.compile(optimizer='adam', loss='mse')\n",
        "history = model3.fit(X_train, y_train, epochs=100, batch_size=32)"
      ],
      "execution_count": null,
      "outputs": [
        {
          "output_type": "stream",
          "text": [
            "Epoch 1/100\n",
            "38/38 [==============================] - 7s 184ms/step - loss: 0.0311\n",
            "Epoch 2/100\n",
            "38/38 [==============================] - 7s 185ms/step - loss: 0.0049\n",
            "Epoch 3/100\n",
            "38/38 [==============================] - 7s 186ms/step - loss: 0.0041\n",
            "Epoch 4/100\n",
            "38/38 [==============================] - 7s 185ms/step - loss: 0.0049\n",
            "Epoch 5/100\n",
            "38/38 [==============================] - 7s 184ms/step - loss: 0.0035\n",
            "Epoch 6/100\n",
            "38/38 [==============================] - 7s 186ms/step - loss: 0.0033\n",
            "Epoch 7/100\n",
            "38/38 [==============================] - 7s 185ms/step - loss: 0.0030\n",
            "Epoch 8/100\n",
            "38/38 [==============================] - 7s 187ms/step - loss: 0.0034\n",
            "Epoch 9/100\n",
            "38/38 [==============================] - 7s 186ms/step - loss: 0.0029\n",
            "Epoch 10/100\n",
            "38/38 [==============================] - 7s 185ms/step - loss: 0.0026\n",
            "Epoch 11/100\n",
            "38/38 [==============================] - 7s 186ms/step - loss: 0.0026\n",
            "Epoch 12/100\n",
            "38/38 [==============================] - 7s 185ms/step - loss: 0.0026\n",
            "Epoch 13/100\n",
            "38/38 [==============================] - 7s 184ms/step - loss: 0.0029\n",
            "Epoch 14/100\n",
            "38/38 [==============================] - 7s 185ms/step - loss: 0.0026\n",
            "Epoch 15/100\n",
            "38/38 [==============================] - 7s 185ms/step - loss: 0.0038\n",
            "Epoch 16/100\n",
            "38/38 [==============================] - 7s 185ms/step - loss: 0.0031\n",
            "Epoch 17/100\n",
            "38/38 [==============================] - 7s 185ms/step - loss: 0.0023\n",
            "Epoch 18/100\n",
            "38/38 [==============================] - 7s 185ms/step - loss: 0.0025\n",
            "Epoch 19/100\n",
            "38/38 [==============================] - 7s 185ms/step - loss: 0.0023\n",
            "Epoch 20/100\n",
            "38/38 [==============================] - 7s 185ms/step - loss: 0.0021\n",
            "Epoch 21/100\n",
            "38/38 [==============================] - 7s 186ms/step - loss: 0.0021\n",
            "Epoch 22/100\n",
            "38/38 [==============================] - 7s 185ms/step - loss: 0.0021\n",
            "Epoch 23/100\n",
            "38/38 [==============================] - 7s 185ms/step - loss: 0.0021\n",
            "Epoch 24/100\n",
            "38/38 [==============================] - 7s 184ms/step - loss: 0.0022\n",
            "Epoch 25/100\n",
            "38/38 [==============================] - 7s 185ms/step - loss: 0.0021\n",
            "Epoch 26/100\n",
            "38/38 [==============================] - 7s 186ms/step - loss: 0.0020\n",
            "Epoch 27/100\n",
            "38/38 [==============================] - 7s 186ms/step - loss: 0.0018\n",
            "Epoch 28/100\n",
            "38/38 [==============================] - 7s 186ms/step - loss: 0.0020\n",
            "Epoch 29/100\n",
            "38/38 [==============================] - 7s 185ms/step - loss: 0.0019\n",
            "Epoch 30/100\n",
            "38/38 [==============================] - 7s 185ms/step - loss: 0.0020\n",
            "Epoch 31/100\n",
            "38/38 [==============================] - 7s 187ms/step - loss: 0.0021\n",
            "Epoch 32/100\n",
            "38/38 [==============================] - 7s 185ms/step - loss: 0.0020\n",
            "Epoch 33/100\n",
            "38/38 [==============================] - 7s 185ms/step - loss: 0.0020\n",
            "Epoch 34/100\n",
            "38/38 [==============================] - 7s 186ms/step - loss: 0.0020\n",
            "Epoch 35/100\n",
            "38/38 [==============================] - 7s 184ms/step - loss: 0.0019\n",
            "Epoch 36/100\n",
            "38/38 [==============================] - 7s 185ms/step - loss: 0.0019\n",
            "Epoch 37/100\n",
            "38/38 [==============================] - 7s 187ms/step - loss: 0.0022\n",
            "Epoch 38/100\n",
            "38/38 [==============================] - 7s 185ms/step - loss: 0.0019\n",
            "Epoch 39/100\n",
            "38/38 [==============================] - 7s 185ms/step - loss: 0.0016\n",
            "Epoch 40/100\n",
            "38/38 [==============================] - 7s 186ms/step - loss: 0.0019\n",
            "Epoch 41/100\n",
            "38/38 [==============================] - 7s 187ms/step - loss: 0.0019\n",
            "Epoch 42/100\n",
            "38/38 [==============================] - 7s 185ms/step - loss: 0.0017\n",
            "Epoch 43/100\n",
            "38/38 [==============================] - 7s 187ms/step - loss: 0.0017\n",
            "Epoch 44/100\n",
            "38/38 [==============================] - 7s 185ms/step - loss: 0.0016\n",
            "Epoch 45/100\n",
            "38/38 [==============================] - 7s 185ms/step - loss: 0.0019\n",
            "Epoch 46/100\n",
            "38/38 [==============================] - 7s 185ms/step - loss: 0.0016\n",
            "Epoch 47/100\n",
            "38/38 [==============================] - 7s 185ms/step - loss: 0.0015\n",
            "Epoch 48/100\n",
            "38/38 [==============================] - 7s 185ms/step - loss: 0.0017\n",
            "Epoch 49/100\n",
            "38/38 [==============================] - 7s 186ms/step - loss: 0.0013\n",
            "Epoch 50/100\n",
            "38/38 [==============================] - 7s 186ms/step - loss: 0.0017\n",
            "Epoch 51/100\n",
            "38/38 [==============================] - 7s 187ms/step - loss: 0.0017\n",
            "Epoch 52/100\n",
            "38/38 [==============================] - 7s 186ms/step - loss: 0.0015\n",
            "Epoch 53/100\n",
            "38/38 [==============================] - 7s 187ms/step - loss: 0.0014\n",
            "Epoch 54/100\n",
            "38/38 [==============================] - 7s 185ms/step - loss: 0.0016\n",
            "Epoch 55/100\n",
            "38/38 [==============================] - 7s 186ms/step - loss: 0.0014\n",
            "Epoch 56/100\n",
            "38/38 [==============================] - 7s 185ms/step - loss: 0.0015\n",
            "Epoch 57/100\n",
            "38/38 [==============================] - 7s 185ms/step - loss: 0.0015\n",
            "Epoch 58/100\n",
            "38/38 [==============================] - 7s 185ms/step - loss: 0.0016\n",
            "Epoch 59/100\n",
            "38/38 [==============================] - 7s 186ms/step - loss: 0.0014\n",
            "Epoch 60/100\n",
            "38/38 [==============================] - 7s 184ms/step - loss: 0.0015\n",
            "Epoch 61/100\n",
            "38/38 [==============================] - 7s 186ms/step - loss: 0.0014\n",
            "Epoch 62/100\n",
            "38/38 [==============================] - 7s 186ms/step - loss: 0.0014\n",
            "Epoch 63/100\n",
            "38/38 [==============================] - 7s 186ms/step - loss: 0.0014\n",
            "Epoch 64/100\n",
            "38/38 [==============================] - 7s 184ms/step - loss: 0.0014\n",
            "Epoch 65/100\n",
            "38/38 [==============================] - 7s 185ms/step - loss: 0.0014\n",
            "Epoch 66/100\n",
            "38/38 [==============================] - 7s 185ms/step - loss: 0.0014\n",
            "Epoch 67/100\n",
            "38/38 [==============================] - 7s 184ms/step - loss: 0.0015\n",
            "Epoch 68/100\n",
            "38/38 [==============================] - 7s 185ms/step - loss: 0.0021\n",
            "Epoch 69/100\n",
            "38/38 [==============================] - 7s 186ms/step - loss: 0.0019\n",
            "Epoch 70/100\n",
            "38/38 [==============================] - 7s 186ms/step - loss: 0.0015\n",
            "Epoch 71/100\n",
            "38/38 [==============================] - 7s 186ms/step - loss: 0.0015\n",
            "Epoch 72/100\n",
            "38/38 [==============================] - 7s 185ms/step - loss: 0.0017\n",
            "Epoch 73/100\n",
            "38/38 [==============================] - 7s 187ms/step - loss: 0.0013\n",
            "Epoch 74/100\n",
            "38/38 [==============================] - 7s 185ms/step - loss: 0.0015\n",
            "Epoch 75/100\n",
            "38/38 [==============================] - 7s 186ms/step - loss: 0.0015\n",
            "Epoch 76/100\n",
            "38/38 [==============================] - 7s 187ms/step - loss: 0.0016\n",
            "Epoch 77/100\n",
            "38/38 [==============================] - 7s 187ms/step - loss: 0.0013\n",
            "Epoch 78/100\n",
            "38/38 [==============================] - 7s 186ms/step - loss: 0.0013\n",
            "Epoch 79/100\n",
            "38/38 [==============================] - 7s 186ms/step - loss: 0.0012\n",
            "Epoch 80/100\n",
            "38/38 [==============================] - 7s 185ms/step - loss: 0.0013\n",
            "Epoch 81/100\n",
            "38/38 [==============================] - 7s 187ms/step - loss: 0.0014\n",
            "Epoch 82/100\n",
            "38/38 [==============================] - 7s 187ms/step - loss: 0.0013\n",
            "Epoch 83/100\n",
            "38/38 [==============================] - 7s 186ms/step - loss: 0.0013\n",
            "Epoch 84/100\n",
            "38/38 [==============================] - 7s 186ms/step - loss: 0.0012\n",
            "Epoch 85/100\n",
            "38/38 [==============================] - 7s 186ms/step - loss: 0.0013\n",
            "Epoch 86/100\n",
            "38/38 [==============================] - 7s 186ms/step - loss: 0.0016\n",
            "Epoch 87/100\n",
            "38/38 [==============================] - 7s 187ms/step - loss: 0.0014\n",
            "Epoch 88/100\n",
            "38/38 [==============================] - 7s 186ms/step - loss: 0.0015\n",
            "Epoch 89/100\n",
            "38/38 [==============================] - 7s 185ms/step - loss: 0.0014\n",
            "Epoch 90/100\n",
            "38/38 [==============================] - 7s 187ms/step - loss: 0.0016\n",
            "Epoch 91/100\n",
            "38/38 [==============================] - 7s 186ms/step - loss: 0.0015\n",
            "Epoch 92/100\n",
            "38/38 [==============================] - 7s 186ms/step - loss: 0.0014\n",
            "Epoch 93/100\n",
            "38/38 [==============================] - 7s 188ms/step - loss: 0.0012\n",
            "Epoch 94/100\n",
            "38/38 [==============================] - 7s 189ms/step - loss: 0.0011\n",
            "Epoch 95/100\n",
            "38/38 [==============================] - 7s 186ms/step - loss: 0.0014\n",
            "Epoch 96/100\n",
            "38/38 [==============================] - 7s 187ms/step - loss: 0.0013\n",
            "Epoch 97/100\n",
            "38/38 [==============================] - 7s 188ms/step - loss: 0.0014\n",
            "Epoch 98/100\n",
            "38/38 [==============================] - 7s 189ms/step - loss: 0.0014\n",
            "Epoch 99/100\n",
            "38/38 [==============================] - 7s 188ms/step - loss: 0.0013\n",
            "Epoch 100/100\n",
            "38/38 [==============================] - 7s 188ms/step - loss: 0.0011\n"
          ],
          "name": "stdout"
        }
      ]
    },
    {
      "cell_type": "code",
      "metadata": {
        "id": "qQJAmottqjOe"
      },
      "source": [
        "forecast = []\n",
        "results = []\n",
        "for time in range(len(open_scaled) - 60):\n",
        "  forecast.append(model3.predict(open_scaled[time:time + 60][np.newaxis]))\n",
        "\n",
        "results = np.array(forecast)[:, 0, 0]\n",
        "res = np.zeros(len(open_scaled))\n",
        "\n",
        "for i in range(len(res)):\n",
        "  if i<60:\n",
        "    pass\n",
        "  elif i>=60:\n",
        "    res[i] = results[i-60]"
      ],
      "execution_count": null,
      "outputs": []
    },
    {
      "cell_type": "code",
      "metadata": {
        "colab": {
          "base_uri": "https://localhost:8080/",
          "height": 374
        },
        "id": "HRqCMhqdtkcV",
        "outputId": "d4c4f98b-e0a9-4361-9898-21550bcea0e5"
      },
      "source": [
        "plt.figure(figsize=(10, 6))\n",
        "plt.plot(open_scaled)\n",
        "plt.plot(res)\n",
        "plt.grid()"
      ],
      "execution_count": null,
      "outputs": [
        {
          "output_type": "display_data",
          "data": {
            "image/png": "[encoded data removed]",
            "text/plain": [
              "<Figure size 720x432 with 1 Axes>"
            ]
          },
          "metadata": {
            "tags": [],
            "needs_background": "light"
          }
        }
      ]
    },
    {
      "cell_type": "code",
      "metadata": {
        "colab": {
          "base_uri": "https://localhost:8080/"
        },
        "id": "-rvZ-roGt1q5",
        "outputId": "05d4b389-ccb2-4d6c-bee3-15bb8f4de72f"
      },
      "source": [
        "print(\"Mean loss of LSTM with Bidirectional\", np.mean(history.history['loss']))"
      ],
      "execution_count": null,
      "outputs": [
        {
          "output_type": "stream",
          "text": [
            "Mean loss of LSTM with Bidirectional 0.002188499146141112\n"
          ],
          "name": "stdout"
        }
      ]
    },
    {
      "cell_type": "code",
      "metadata": {
        "id": "bkqWZyIyuKuL"
      },
      "source": [
        "dataframe_test = pd.read_csv(\"/content/Google_Stock_Price_Test.csv\")"
      ],
      "execution_count": null,
      "outputs": []
    },
    {
      "cell_type": "code",
      "metadata": {
        "id": "e8r4aKYOulbv"
      },
      "source": [
        "dataframe_total = pd.concat((dataframe['Open'], dataframe_test['Open']), axis=0)"
      ],
      "execution_count": null,
      "outputs": []
    },
    {
      "cell_type": "code",
      "metadata": {
        "id": "uXPHfDiIuwm7"
      },
      "source": [
        "inputs = dataframe_total[len(dataframe_total)-len(dataframe_test)-60:].values"
      ],
      "execution_count": null,
      "outputs": []
    },
    {
      "cell_type": "code",
      "metadata": {
        "id": "m3VJ5x54vITr"
      },
      "source": [
        "inputs = inputs.reshape(-1, 1)"
      ],
      "execution_count": null,
      "outputs": []
    },
    {
      "cell_type": "code",
      "metadata": {
        "id": "Ys-4wq57vOv6"
      },
      "source": [
        "inputs = sc.transform(inputs)"
      ],
      "execution_count": null,
      "outputs": []
    },
    {
      "cell_type": "code",
      "metadata": {
        "id": "n3sB67srvQPH"
      },
      "source": [
        "X_test = []\n",
        "for i in range(60, 80):\n",
        "  X_test.append(inputs[i-60:i, 0])\n",
        "X_test = np.array(X_test)\n",
        "X_test = np.reshape(X_test, (X_test.shape[0], X_test.shape[1], 1))"
      ],
      "execution_count": null,
      "outputs": []
    },
    {
      "cell_type": "code",
      "metadata": {
        "id": "Tb5O1VWKvnka"
      },
      "source": [
        "predicted_stock_price = model3.predict(X_test)"
      ],
      "execution_count": null,
      "outputs": []
    },
    {
      "cell_type": "code",
      "metadata": {
        "id": "I-FK2usBvthT"
      },
      "source": [
        "predicted_stock_price = sc.inverse_transform(predicted_stock_price)"
      ],
      "execution_count": null,
      "outputs": []
    },
    {
      "cell_type": "code",
      "metadata": {
        "id": "YFIyz8GJwAjE"
      },
      "source": [
        "real_stock_price = dataframe_test.iloc[:, 1:2].values"
      ],
      "execution_count": null,
      "outputs": []
    },
    {
      "cell_type": "code",
      "metadata": {
        "colab": {
          "base_uri": "https://localhost:8080/",
          "height": 295
        },
        "id": "y6I4z7PJv2Yz",
        "outputId": "419d0e10-80df-417a-8e71-5125087829af"
      },
      "source": [
        "plt.plot(real_stock_price, color = 'red', label = 'Real Google Stock Price')\n",
        "plt.plot(predicted_stock_price, color = 'blue', label = 'Predicted Google Stock Price')\n",
        "plt.title('Google Stock Price Prediction')\n",
        "plt.xlabel('Time')\n",
        "plt.ylabel('Google Stock Price')\n",
        "plt.legend()\n",
        "plt.show()"
      ],
      "execution_count": null,
      "outputs": [
        {
          "output_type": "display_data",
          "data": {
            "image/png": "[encoded data removed]",
            "text/plain": [
              "<Figure size 432x288 with 1 Axes>"
            ]
          },
          "metadata": {
            "tags": [],
            "needs_background": "light"
          }
        }
      ]
    },
    {
      "cell_type": "code",
      "metadata": {
        "id": "OpxDkfOxwLjP"
      },
      "source": [
        "from sklearn.preprocessing import MinMaxScaler\n",
        "\n",
        "sc = MinMaxScaler()\n",
        "closed_scaled = sc.fit_transform(closed_list)\n"
      ],
      "execution_count": null,
      "outputs": []
    },
    {
      "cell_type": "code",
      "metadata": {
        "id": "R9CRNYHz1kRj"
      },
      "source": [
        "X_train = []\n",
        "y_train = []\n",
        "for i in range(60, len(closed_scaled)):\n",
        "  X_train.append(closed_scaled[i-60:i, 0])\n",
        "  y_train.append(closed_scaled[i, 0])\n",
        "X_train, y_train = np.array(X_train), np.array(y_train)"
      ],
      "execution_count": null,
      "outputs": []
    },
    {
      "cell_type": "code",
      "metadata": {
        "colab": {
          "base_uri": "https://localhost:8080/"
        },
        "id": "tTImKMff2B5w",
        "outputId": "2eb5640a-8bd6-49d8-ce0d-678b38ebb867"
      },
      "source": [
        "X_train[0]"
      ],
      "execution_count": null,
      "outputs": [
        {
          "output_type": "execute_result",
          "data": {
            "text/plain": [
              "array([0.23757287, 0.24151427, 0.22878051, 0.21641884, 0.1785483 ,\n",
              "       0.17947163, 0.18335791, 0.18841558, 0.18202114, 0.18695478,\n",
              "       0.19290823, 0.2020589 , 0.12842633, 0.12777862, 0.12146686,\n",
              "       0.1057426 , 0.10382702, 0.12015766, 0.11701556, 0.12033681,\n",
              "       0.12132905, 0.12721359, 0.14263468, 0.16016427, 0.15698083,\n",
              "       0.16121164, 0.1634304 , 0.15579565, 0.16443642, 0.16108761,\n",
              "       0.15531331, 0.1566363 , 0.15404545, 0.16691702, 0.15859322,\n",
              "       0.15607128, 0.16128054, 0.16046746, 0.17295316, 0.17276022,\n",
              "       0.17846561, 0.17688078, 0.16726155, 0.15448645, 0.15702217,\n",
              "       0.15749073, 0.1480231 , 0.15474829, 0.17211251, 0.16964569,\n",
              "       0.17671541, 0.18209005, 0.19436903, 0.19370754, 0.20262393,\n",
              "       0.21096151, 0.20620702, 0.21546794, 0.21229828, 0.22430164])"
            ]
          },
          "metadata": {
            "tags": []
          },
          "execution_count": 61
        }
      ]
    },
    {
      "cell_type": "code",
      "metadata": {
        "colab": {
          "base_uri": "https://localhost:8080/"
        },
        "id": "kgDUYArg2P3X",
        "outputId": "0b8af8f0-b101-4869-8b7a-af321681dbc9"
      },
      "source": [
        "y_train[0]\n"
      ],
      "execution_count": null,
      "outputs": [
        {
          "output_type": "execute_result",
          "data": {
            "text/plain": [
              "0.21420007441809186"
            ]
          },
          "metadata": {
            "tags": []
          },
          "execution_count": 62
        }
      ]
    },
    {
      "cell_type": "code",
      "metadata": {
        "colab": {
          "base_uri": "https://localhost:8080/"
        },
        "id": "TNRuK-Gc2J15",
        "outputId": "dd016207-4248-47e0-c619-13f36e6b76e0"
      },
      "source": [
        "X_train[1]\n"
      ],
      "execution_count": null,
      "outputs": [
        {
          "output_type": "execute_result",
          "data": {
            "text/plain": [
              "array([0.24151427, 0.22878051, 0.21641884, 0.1785483 , 0.17947163,\n",
              "       0.18335791, 0.18841558, 0.18202114, 0.18695478, 0.19290823,\n",
              "       0.2020589 , 0.12842633, 0.12777862, 0.12146686, 0.1057426 ,\n",
              "       0.10382702, 0.12015766, 0.11701556, 0.12033681, 0.12132905,\n",
              "       0.12721359, 0.14263468, 0.16016427, 0.15698083, 0.16121164,\n",
              "       0.1634304 , 0.15579565, 0.16443642, 0.16108761, 0.15531331,\n",
              "       0.1566363 , 0.15404545, 0.16691702, 0.15859322, 0.15607128,\n",
              "       0.16128054, 0.16046746, 0.17295316, 0.17276022, 0.17846561,\n",
              "       0.17688078, 0.16726155, 0.15448645, 0.15702217, 0.15749073,\n",
              "       0.1480231 , 0.15474829, 0.17211251, 0.16964569, 0.17671541,\n",
              "       0.18209005, 0.19436903, 0.19370754, 0.20262393, 0.21096151,\n",
              "       0.20620702, 0.21546794, 0.21229828, 0.22430164, 0.21420007])"
            ]
          },
          "metadata": {
            "tags": []
          },
          "execution_count": 63
        }
      ]
    },
    {
      "cell_type": "code",
      "metadata": {
        "colab": {
          "base_uri": "https://localhost:8080/"
        },
        "id": "2V1mB1ZO2OkG",
        "outputId": "e4ca6a3c-108f-4ad3-abc3-5824edd41873"
      },
      "source": [
        "X_train.shape"
      ],
      "execution_count": null,
      "outputs": [
        {
          "output_type": "execute_result",
          "data": {
            "text/plain": [
              "(1198, 60)"
            ]
          },
          "metadata": {
            "tags": []
          },
          "execution_count": 64
        }
      ]
    },
    {
      "cell_type": "code",
      "metadata": {
        "id": "FlD8HSt82kNY"
      },
      "source": [
        "X_train = np.reshape(X_train, (X_train.shape[0], X_train.shape[1], 1))"
      ],
      "execution_count": null,
      "outputs": []
    },
    {
      "cell_type": "code",
      "metadata": {
        "colab": {
          "base_uri": "https://localhost:8080/"
        },
        "id": "bJDZTAjr2q4I",
        "outputId": "05c03dbb-1a7b-4cf8-90e0-e41562876c52"
      },
      "source": [
        "X_train[0]\n"
      ],
      "execution_count": null,
      "outputs": [
        {
          "output_type": "execute_result",
          "data": {
            "text/plain": [
              "array([[0.23757287],\n",
              "       [0.24151427],\n",
              "       [0.22878051],\n",
              "       [0.21641884],\n",
              "       [0.1785483 ],\n",
              "       [0.17947163],\n",
              "       [0.18335791],\n",
              "       [0.18841558],\n",
              "       [0.18202114],\n",
              "       [0.18695478],\n",
              "       [0.19290823],\n",
              "       [0.2020589 ],\n",
              "       [0.12842633],\n",
              "       [0.12777862],\n",
              "       [0.12146686],\n",
              "       [0.1057426 ],\n",
              "       [0.10382702],\n",
              "       [0.12015766],\n",
              "       [0.11701556],\n",
              "       [0.12033681],\n",
              "       [0.12132905],\n",
              "       [0.12721359],\n",
              "       [0.14263468],\n",
              "       [0.16016427],\n",
              "       [0.15698083],\n",
              "       [0.16121164],\n",
              "       [0.1634304 ],\n",
              "       [0.15579565],\n",
              "       [0.16443642],\n",
              "       [0.16108761],\n",
              "       [0.15531331],\n",
              "       [0.1566363 ],\n",
              "       [0.15404545],\n",
              "       [0.16691702],\n",
              "       [0.15859322],\n",
              "       [0.15607128],\n",
              "       [0.16128054],\n",
              "       [0.16046746],\n",
              "       [0.17295316],\n",
              "       [0.17276022],\n",
              "       [0.17846561],\n",
              "       [0.17688078],\n",
              "       [0.16726155],\n",
              "       [0.15448645],\n",
              "       [0.15702217],\n",
              "       [0.15749073],\n",
              "       [0.1480231 ],\n",
              "       [0.15474829],\n",
              "       [0.17211251],\n",
              "       [0.16964569],\n",
              "       [0.17671541],\n",
              "       [0.18209005],\n",
              "       [0.19436903],\n",
              "       [0.19370754],\n",
              "       [0.20262393],\n",
              "       [0.21096151],\n",
              "       [0.20620702],\n",
              "       [0.21546794],\n",
              "       [0.21229828],\n",
              "       [0.22430164]])"
            ]
          },
          "metadata": {
            "tags": []
          },
          "execution_count": 66
        }
      ]
    },
    {
      "cell_type": "code",
      "metadata": {
        "colab": {
          "base_uri": "https://localhost:8080/"
        },
        "id": "dO9uj7S327D4",
        "outputId": "084e7e48-bc15-45ef-d32b-63bc16387de8"
      },
      "source": [
        "X_train.shape"
      ],
      "execution_count": null,
      "outputs": [
        {
          "output_type": "execute_result",
          "data": {
            "text/plain": [
              "(1198, 60, 1)"
            ]
          },
          "metadata": {
            "tags": []
          },
          "execution_count": 67
        }
      ]
    },
    {
      "cell_type": "code",
      "metadata": {
        "colab": {
          "base_uri": "https://localhost:8080/"
        },
        "id": "Ej5pdve12-Tr",
        "outputId": "fab0d521-fdfb-477d-9429-e8d431a7cbcc"
      },
      "source": [
        "model4 = tf.keras.models.Sequential([\n",
        "      tf.keras.layers.LSTM(50, return_sequences=True, input_shape=(X_train.shape[1], 1)),\n",
        "      tf.keras.layers.Dropout(0.2),\n",
        "      tf.keras.layers.LSTM(50, return_sequences=True),\n",
        "      tf.keras.layers.Dropout(0.2),\n",
        "      tf.keras.layers.LSTM(50, return_sequences=True),\n",
        "      tf.keras.layers.Dropout(0.2),\n",
        "      tf.keras.layers.LSTM(50),\n",
        "      tf.keras.layers.Dropout(0.2),\n",
        "      tf.keras.layers.Dense(1)\n",
        "])\n",
        "\n",
        "model4.compile(optimizer='adam', loss='mse')\n",
        "history = model4.fit(X_train, y_train, epochs=100, batch_size=32)"
      ],
      "execution_count": null,
      "outputs": [
        {
          "output_type": "stream",
          "text": [
            "Epoch 1/100\n",
            "38/38 [==============================] - 4s 100ms/step - loss: 0.0267\n",
            "Epoch 2/100\n",
            "38/38 [==============================] - 4s 104ms/step - loss: 0.0111\n",
            "Epoch 3/100\n",
            "38/38 [==============================] - 4s 104ms/step - loss: 0.0084\n",
            "Epoch 4/100\n",
            "38/38 [==============================] - 4s 104ms/step - loss: 0.0075\n",
            "Epoch 5/100\n",
            "38/38 [==============================] - 4s 104ms/step - loss: 0.0077\n",
            "Epoch 6/100\n",
            "38/38 [==============================] - 4s 105ms/step - loss: 0.0095\n",
            "Epoch 7/100\n",
            "38/38 [==============================] - 4s 104ms/step - loss: 0.0054\n",
            "Epoch 8/100\n",
            "38/38 [==============================] - 4s 105ms/step - loss: 0.0056\n",
            "Epoch 9/100\n",
            "38/38 [==============================] - 4s 104ms/step - loss: 0.0073\n",
            "Epoch 10/100\n",
            "38/38 [==============================] - 4s 103ms/step - loss: 0.0065\n",
            "Epoch 11/100\n",
            "38/38 [==============================] - 4s 104ms/step - loss: 0.0056\n",
            "Epoch 12/100\n",
            "38/38 [==============================] - 4s 104ms/step - loss: 0.0056\n",
            "Epoch 13/100\n",
            "38/38 [==============================] - 4s 104ms/step - loss: 0.0050\n",
            "Epoch 14/100\n",
            "38/38 [==============================] - 4s 104ms/step - loss: 0.0047\n",
            "Epoch 15/100\n",
            "38/38 [==============================] - 4s 102ms/step - loss: 0.0044\n",
            "Epoch 16/100\n",
            "38/38 [==============================] - 4s 104ms/step - loss: 0.0052\n",
            "Epoch 17/100\n",
            "38/38 [==============================] - 4s 104ms/step - loss: 0.0044\n",
            "Epoch 18/100\n",
            "38/38 [==============================] - 4s 103ms/step - loss: 0.0042\n",
            "Epoch 19/100\n",
            "38/38 [==============================] - 4s 103ms/step - loss: 0.0036\n",
            "Epoch 20/100\n",
            "38/38 [==============================] - 4s 103ms/step - loss: 0.0036\n",
            "Epoch 21/100\n",
            "38/38 [==============================] - 4s 103ms/step - loss: 0.0048\n",
            "Epoch 22/100\n",
            "38/38 [==============================] - 4s 102ms/step - loss: 0.0036\n",
            "Epoch 23/100\n",
            "38/38 [==============================] - 4s 103ms/step - loss: 0.0040\n",
            "Epoch 24/100\n",
            "38/38 [==============================] - 4s 103ms/step - loss: 0.0037\n",
            "Epoch 25/100\n",
            "38/38 [==============================] - 4s 104ms/step - loss: 0.0034\n",
            "Epoch 26/100\n",
            "38/38 [==============================] - 4s 103ms/step - loss: 0.0034\n",
            "Epoch 27/100\n",
            "38/38 [==============================] - 4s 103ms/step - loss: 0.0035\n",
            "Epoch 28/100\n",
            "38/38 [==============================] - 4s 103ms/step - loss: 0.0038\n",
            "Epoch 29/100\n",
            "38/38 [==============================] - 4s 101ms/step - loss: 0.0035\n",
            "Epoch 30/100\n",
            "38/38 [==============================] - 4s 104ms/step - loss: 0.0031\n",
            "Epoch 31/100\n",
            "38/38 [==============================] - 4s 103ms/step - loss: 0.0029\n",
            "Epoch 32/100\n",
            "38/38 [==============================] - 4s 104ms/step - loss: 0.0031\n",
            "Epoch 33/100\n",
            "38/38 [==============================] - 4s 105ms/step - loss: 0.0029\n",
            "Epoch 34/100\n",
            "38/38 [==============================] - 4s 102ms/step - loss: 0.0034\n",
            "Epoch 35/100\n",
            "38/38 [==============================] - 4s 103ms/step - loss: 0.0033\n",
            "Epoch 36/100\n",
            "38/38 [==============================] - 4s 102ms/step - loss: 0.0028\n",
            "Epoch 37/100\n",
            "38/38 [==============================] - 4s 102ms/step - loss: 0.0027\n",
            "Epoch 38/100\n",
            "38/38 [==============================] - 4s 104ms/step - loss: 0.0028\n",
            "Epoch 39/100\n",
            "38/38 [==============================] - 4s 103ms/step - loss: 0.0025\n",
            "Epoch 40/100\n",
            "38/38 [==============================] - 4s 103ms/step - loss: 0.0028\n",
            "Epoch 41/100\n",
            "38/38 [==============================] - 4s 103ms/step - loss: 0.0026\n",
            "Epoch 42/100\n",
            "38/38 [==============================] - 4s 104ms/step - loss: 0.0036\n",
            "Epoch 43/100\n",
            "38/38 [==============================] - 4s 104ms/step - loss: 0.0027\n",
            "Epoch 44/100\n",
            "38/38 [==============================] - 4s 103ms/step - loss: 0.0027\n",
            "Epoch 45/100\n",
            "38/38 [==============================] - 4s 102ms/step - loss: 0.0023\n",
            "Epoch 46/100\n",
            "38/38 [==============================] - 4s 104ms/step - loss: 0.0027\n",
            "Epoch 47/100\n",
            "38/38 [==============================] - 4s 104ms/step - loss: 0.0033\n",
            "Epoch 48/100\n",
            "38/38 [==============================] - 4s 104ms/step - loss: 0.0023\n",
            "Epoch 49/100\n",
            "38/38 [==============================] - 4s 103ms/step - loss: 0.0029\n",
            "Epoch 50/100\n",
            "38/38 [==============================] - 4s 103ms/step - loss: 0.0023\n",
            "Epoch 51/100\n",
            "38/38 [==============================] - 4s 103ms/step - loss: 0.0021\n",
            "Epoch 52/100\n",
            "38/38 [==============================] - 4s 104ms/step - loss: 0.0022\n",
            "Epoch 53/100\n",
            "38/38 [==============================] - 4s 104ms/step - loss: 0.0023\n",
            "Epoch 54/100\n",
            "38/38 [==============================] - 4s 103ms/step - loss: 0.0021\n",
            "Epoch 55/100\n",
            "38/38 [==============================] - 4s 102ms/step - loss: 0.0020\n",
            "Epoch 56/100\n",
            "38/38 [==============================] - 4s 104ms/step - loss: 0.0020\n",
            "Epoch 57/100\n",
            "38/38 [==============================] - 4s 103ms/step - loss: 0.0020\n",
            "Epoch 58/100\n",
            "38/38 [==============================] - 4s 102ms/step - loss: 0.0023\n",
            "Epoch 59/100\n",
            "38/38 [==============================] - 4s 102ms/step - loss: 0.0021\n",
            "Epoch 60/100\n",
            "38/38 [==============================] - 4s 102ms/step - loss: 0.0019\n",
            "Epoch 61/100\n",
            "38/38 [==============================] - 4s 103ms/step - loss: 0.0025\n",
            "Epoch 62/100\n",
            "38/38 [==============================] - 4s 103ms/step - loss: 0.0024\n",
            "Epoch 63/100\n",
            "38/38 [==============================] - 4s 102ms/step - loss: 0.0019\n",
            "Epoch 64/100\n",
            "38/38 [==============================] - 4s 103ms/step - loss: 0.0023\n",
            "Epoch 65/100\n",
            "38/38 [==============================] - 4s 104ms/step - loss: 0.0019\n",
            "Epoch 66/100\n",
            "38/38 [==============================] - 4s 104ms/step - loss: 0.0017\n",
            "Epoch 67/100\n",
            "38/38 [==============================] - 4s 104ms/step - loss: 0.0022\n",
            "Epoch 68/100\n",
            "38/38 [==============================] - 4s 105ms/step - loss: 0.0018\n",
            "Epoch 69/100\n",
            "38/38 [==============================] - 4s 105ms/step - loss: 0.0018\n",
            "Epoch 70/100\n",
            "38/38 [==============================] - 4s 105ms/step - loss: 0.0030\n",
            "Epoch 71/100\n",
            "38/38 [==============================] - 4s 104ms/step - loss: 0.0024\n",
            "Epoch 72/100\n",
            "38/38 [==============================] - 4s 107ms/step - loss: 0.0019\n",
            "Epoch 73/100\n",
            "38/38 [==============================] - 4s 107ms/step - loss: 0.0019\n",
            "Epoch 74/100\n",
            "38/38 [==============================] - 4s 107ms/step - loss: 0.0018\n",
            "Epoch 75/100\n",
            "38/38 [==============================] - 4s 104ms/step - loss: 0.0022\n",
            "Epoch 76/100\n",
            "38/38 [==============================] - 4s 106ms/step - loss: 0.0021\n",
            "Epoch 77/100\n",
            "38/38 [==============================] - 4s 105ms/step - loss: 0.0021\n",
            "Epoch 78/100\n",
            "38/38 [==============================] - 4s 105ms/step - loss: 0.0018\n",
            "Epoch 79/100\n",
            "38/38 [==============================] - 4s 106ms/step - loss: 0.0020\n",
            "Epoch 80/100\n",
            "38/38 [==============================] - 4s 105ms/step - loss: 0.0017\n",
            "Epoch 81/100\n",
            "38/38 [==============================] - 4s 105ms/step - loss: 0.0022\n",
            "Epoch 82/100\n",
            "38/38 [==============================] - 4s 106ms/step - loss: 0.0017\n",
            "Epoch 83/100\n",
            "38/38 [==============================] - 4s 106ms/step - loss: 0.0015\n",
            "Epoch 84/100\n",
            "38/38 [==============================] - 4s 106ms/step - loss: 0.0018\n",
            "Epoch 85/100\n",
            "38/38 [==============================] - 4s 105ms/step - loss: 0.0017\n",
            "Epoch 86/100\n",
            "38/38 [==============================] - 4s 105ms/step - loss: 0.0018\n",
            "Epoch 87/100\n",
            "38/38 [==============================] - 4s 106ms/step - loss: 0.0020\n",
            "Epoch 88/100\n",
            "38/38 [==============================] - 4s 106ms/step - loss: 0.0017\n",
            "Epoch 89/100\n",
            "38/38 [==============================] - 4s 106ms/step - loss: 0.0018\n",
            "Epoch 90/100\n",
            "38/38 [==============================] - 4s 107ms/step - loss: 0.0020\n",
            "Epoch 91/100\n",
            "38/38 [==============================] - 4s 105ms/step - loss: 0.0020\n",
            "Epoch 92/100\n",
            "38/38 [==============================] - 4s 106ms/step - loss: 0.0018\n",
            "Epoch 93/100\n",
            "38/38 [==============================] - 4s 104ms/step - loss: 0.0019\n",
            "Epoch 94/100\n",
            "38/38 [==============================] - 4s 105ms/step - loss: 0.0016\n",
            "Epoch 95/100\n",
            "38/38 [==============================] - 4s 106ms/step - loss: 0.0017\n",
            "Epoch 96/100\n",
            "38/38 [==============================] - 4s 106ms/step - loss: 0.0018\n",
            "Epoch 97/100\n",
            "38/38 [==============================] - 4s 107ms/step - loss: 0.0016\n",
            "Epoch 98/100\n",
            "38/38 [==============================] - 4s 106ms/step - loss: 0.0016\n",
            "Epoch 99/100\n",
            "38/38 [==============================] - 4s 106ms/step - loss: 0.0018\n",
            "Epoch 100/100\n",
            "38/38 [==============================] - 4s 107ms/step - loss: 0.0016\n"
          ],
          "name": "stdout"
        }
      ]
    },
    {
      "cell_type": "code",
      "metadata": {
        "colab": {
          "base_uri": "https://localhost:8080/"
        },
        "id": "PJvRB4iY435I",
        "outputId": "7b051be6-e290-4d77-f00c-069fab344457"
      },
      "source": [
        "print(\"Mean loss of LSTM\", np.mean(history.history['loss']))"
      ],
      "execution_count": null,
      "outputs": [
        {
          "output_type": "stream",
          "text": [
            "Mean loss of LSTM 0.0033314520691055806\n"
          ],
          "name": "stdout"
        }
      ]
    },
    {
      "cell_type": "code",
      "metadata": {
        "colab": {
          "base_uri": "https://localhost:8080/",
          "height": 281
        },
        "id": "c7vUSuKF5AQ3",
        "outputId": "84e8fca7-3e56-4644-9497-d09e40a35ed8"
      },
      "source": [
        "pd.DataFrame(history.history).plot()"
      ],
      "execution_count": null,
      "outputs": [
        {
          "output_type": "execute_result",
          "data": {
            "text/plain": [
              "<matplotlib.axes._subplots.AxesSubplot at 0x7fb3b9d78908>"
            ]
          },
          "metadata": {
            "tags": []
          },
          "execution_count": 71
        },
        {
          "output_type": "display_data",
          "data": {
            "image/png": "[encoded data removed]",
            "text/plain": [
              "<Figure size 432x288 with 1 Axes>"
            ]
          },
          "metadata": {
            "tags": [],
            "needs_background": "light"
          }
        }
      ]
    },
    {
      "cell_type": "code",
      "metadata": {
        "id": "FVv_6iXZ5Ca9"
      },
      "source": [
        "forecast = []\n",
        "results = []\n",
        "for time in range(len(closed_scaled) - 60):\n",
        "  forecast.append(model4.predict(closed_scaled[time:time + 60][np.newaxis]))"
      ],
      "execution_count": null,
      "outputs": []
    },
    {
      "cell_type": "code",
      "metadata": {
        "colab": {
          "base_uri": "https://localhost:8080/",
          "height": 374
        },
        "id": "yfj2pjFN5gPw",
        "outputId": "222af74e-1c79-4374-cb0e-09be68824c7c"
      },
      "source": [
        "res = np.zeros(len(closed_scaled))\n",
        "results = np.array(forecast)[:, 0, 0]\n",
        "for i in range(len(res)):\n",
        "  if i<60:\n",
        "    pass\n",
        "  elif i>=60:\n",
        "    res[i] = results[i-60]\n",
        "     \n",
        "plt.figure(figsize=(10, 6))\n",
        "plt.plot(closed_scaled)\n",
        "plt.plot(res)\n",
        "plt.grid()"
      ],
      "execution_count": null,
      "outputs": [
        {
          "output_type": "display_data",
          "data": {
            "image/png": "[encoded data removed]",
            "text/plain": [
              "<Figure size 720x432 with 1 Axes>"
            ]
          },
          "metadata": {
            "tags": [],
            "needs_background": "light"
          }
        }
      ]
    },
    {
      "cell_type": "code",
      "metadata": {
        "colab": {
          "base_uri": "https://localhost:8080/"
        },
        "id": "-A18m1yv5ulE",
        "outputId": "94f92423-a02d-49de-f1de-460b0b2d95bf"
      },
      "source": [
        "model5 = tf.keras.models.Sequential([\n",
        "      tf.keras.layers.GRU(50, return_sequences=True, input_shape=(X_train.shape[1], 1)),\n",
        "      tf.keras.layers.Dropout(0.2),\n",
        "      tf.keras.layers.GRU(50, return_sequences=True),\n",
        "      tf.keras.layers.Dropout(0.2),\n",
        "      tf.keras.layers.GRU(50, return_sequences=True),\n",
        "      tf.keras.layers.Dropout(0.2),\n",
        "      tf.keras.layers.GRU(50),\n",
        "      tf.keras.layers.Dropout(0.2),\n",
        "      tf.keras.layers.Dense(1)\n",
        "])\n",
        "\n",
        "model5.compile(optimizer='adam', loss='mse')\n",
        "history = model5.fit(X_train, y_train, epochs=100, batch_size=32)"
      ],
      "execution_count": null,
      "outputs": [
        {
          "output_type": "stream",
          "text": [
            "Epoch 1/100\n",
            "38/38 [==============================] - 4s 100ms/step - loss: 0.0237\n",
            "Epoch 2/100\n",
            "38/38 [==============================] - 4s 104ms/step - loss: 0.0052\n",
            "Epoch 3/100\n",
            "38/38 [==============================] - 4s 103ms/step - loss: 0.0058\n",
            "Epoch 4/100\n",
            "38/38 [==============================] - 4s 104ms/step - loss: 0.0049\n",
            "Epoch 5/100\n",
            "38/38 [==============================] - 4s 104ms/step - loss: 0.0041\n",
            "Epoch 6/100\n",
            "38/38 [==============================] - 4s 104ms/step - loss: 0.0044\n",
            "Epoch 7/100\n",
            "38/38 [==============================] - 4s 104ms/step - loss: 0.0042\n",
            "Epoch 8/100\n",
            "38/38 [==============================] - 4s 105ms/step - loss: 0.0046\n",
            "Epoch 9/100\n",
            "38/38 [==============================] - 4s 104ms/step - loss: 0.0038\n",
            "Epoch 10/100\n",
            "38/38 [==============================] - 4s 104ms/step - loss: 0.0035\n",
            "Epoch 11/100\n",
            "38/38 [==============================] - 4s 104ms/step - loss: 0.0035\n",
            "Epoch 12/100\n",
            "38/38 [==============================] - 4s 104ms/step - loss: 0.0033\n",
            "Epoch 13/100\n",
            "38/38 [==============================] - 4s 105ms/step - loss: 0.0033\n",
            "Epoch 14/100\n",
            "38/38 [==============================] - 4s 104ms/step - loss: 0.0031\n",
            "Epoch 15/100\n",
            "38/38 [==============================] - 4s 107ms/step - loss: 0.0027\n",
            "Epoch 16/100\n",
            "38/38 [==============================] - 4s 104ms/step - loss: 0.0029\n",
            "Epoch 17/100\n",
            "38/38 [==============================] - 4s 104ms/step - loss: 0.0028\n",
            "Epoch 18/100\n",
            "38/38 [==============================] - 4s 104ms/step - loss: 0.0025\n",
            "Epoch 19/100\n",
            "38/38 [==============================] - 4s 105ms/step - loss: 0.0028\n",
            "Epoch 20/100\n",
            "38/38 [==============================] - 4s 104ms/step - loss: 0.0025\n",
            "Epoch 21/100\n",
            "38/38 [==============================] - 4s 105ms/step - loss: 0.0025\n",
            "Epoch 22/100\n",
            "38/38 [==============================] - 4s 105ms/step - loss: 0.0022\n",
            "Epoch 23/100\n",
            "38/38 [==============================] - 4s 107ms/step - loss: 0.0023\n",
            "Epoch 24/100\n",
            "38/38 [==============================] - 4s 105ms/step - loss: 0.0024\n",
            "Epoch 25/100\n",
            "38/38 [==============================] - 4s 105ms/step - loss: 0.0023\n",
            "Epoch 26/100\n",
            "38/38 [==============================] - 4s 106ms/step - loss: 0.0022\n",
            "Epoch 27/100\n",
            "38/38 [==============================] - 4s 105ms/step - loss: 0.0022\n",
            "Epoch 28/100\n",
            "38/38 [==============================] - 4s 105ms/step - loss: 0.0023\n",
            "Epoch 29/100\n",
            "38/38 [==============================] - 4s 106ms/step - loss: 0.0023\n",
            "Epoch 30/100\n",
            "38/38 [==============================] - 4s 106ms/step - loss: 0.0021\n",
            "Epoch 31/100\n",
            "38/38 [==============================] - 4s 106ms/step - loss: 0.0021\n",
            "Epoch 32/100\n",
            "38/38 [==============================] - 4s 106ms/step - loss: 0.0021\n",
            "Epoch 33/100\n",
            "38/38 [==============================] - 4s 106ms/step - loss: 0.0018\n",
            "Epoch 34/100\n",
            "38/38 [==============================] - 4s 106ms/step - loss: 0.0022\n",
            "Epoch 35/100\n",
            "38/38 [==============================] - 4s 106ms/step - loss: 0.0020\n",
            "Epoch 36/100\n",
            "38/38 [==============================] - 4s 106ms/step - loss: 0.0018\n",
            "Epoch 37/100\n",
            "38/38 [==============================] - 4s 106ms/step - loss: 0.0017\n",
            "Epoch 38/100\n",
            "38/38 [==============================] - 4s 105ms/step - loss: 0.0019\n",
            "Epoch 39/100\n",
            "38/38 [==============================] - 4s 105ms/step - loss: 0.0018\n",
            "Epoch 40/100\n",
            "38/38 [==============================] - 4s 105ms/step - loss: 0.0021\n",
            "Epoch 41/100\n",
            "38/38 [==============================] - 4s 107ms/step - loss: 0.0018\n",
            "Epoch 42/100\n",
            "38/38 [==============================] - 4s 106ms/step - loss: 0.0019\n",
            "Epoch 43/100\n",
            "38/38 [==============================] - 4s 105ms/step - loss: 0.0020\n",
            "Epoch 44/100\n",
            "38/38 [==============================] - 4s 105ms/step - loss: 0.0019\n",
            "Epoch 45/100\n",
            "38/38 [==============================] - 4s 105ms/step - loss: 0.0019\n",
            "Epoch 46/100\n",
            "38/38 [==============================] - 4s 106ms/step - loss: 0.0019\n",
            "Epoch 47/100\n",
            "38/38 [==============================] - 4s 105ms/step - loss: 0.0018\n",
            "Epoch 48/100\n",
            "38/38 [==============================] - 4s 106ms/step - loss: 0.0021\n",
            "Epoch 49/100\n",
            "38/38 [==============================] - 4s 106ms/step - loss: 0.0019\n",
            "Epoch 50/100\n",
            "38/38 [==============================] - 4s 105ms/step - loss: 0.0018\n",
            "Epoch 51/100\n",
            "38/38 [==============================] - 4s 106ms/step - loss: 0.0019\n",
            "Epoch 52/100\n",
            "38/38 [==============================] - 4s 105ms/step - loss: 0.0019\n",
            "Epoch 53/100\n",
            "38/38 [==============================] - 4s 105ms/step - loss: 0.0018\n",
            "Epoch 54/100\n",
            "38/38 [==============================] - 4s 106ms/step - loss: 0.0016\n",
            "Epoch 55/100\n",
            "38/38 [==============================] - 4s 105ms/step - loss: 0.0016\n",
            "Epoch 56/100\n",
            "38/38 [==============================] - 4s 105ms/step - loss: 0.0018\n",
            "Epoch 57/100\n",
            "38/38 [==============================] - 4s 104ms/step - loss: 0.0019\n",
            "Epoch 58/100\n",
            "38/38 [==============================] - 4s 107ms/step - loss: 0.0017\n",
            "Epoch 59/100\n",
            "38/38 [==============================] - 4s 110ms/step - loss: 0.0018\n",
            "Epoch 60/100\n",
            "38/38 [==============================] - 4s 109ms/step - loss: 0.0019\n",
            "Epoch 61/100\n",
            "38/38 [==============================] - 4s 105ms/step - loss: 0.0019\n",
            "Epoch 62/100\n",
            "38/38 [==============================] - 4s 105ms/step - loss: 0.0021\n",
            "Epoch 63/100\n",
            "38/38 [==============================] - 4s 106ms/step - loss: 0.0023\n",
            "Epoch 64/100\n",
            "38/38 [==============================] - 4s 105ms/step - loss: 0.0019\n",
            "Epoch 65/100\n",
            "38/38 [==============================] - 4s 105ms/step - loss: 0.0016\n",
            "Epoch 66/100\n",
            "38/38 [==============================] - 4s 106ms/step - loss: 0.0018\n",
            "Epoch 67/100\n",
            "38/38 [==============================] - 4s 105ms/step - loss: 0.0017\n",
            "Epoch 68/100\n",
            "38/38 [==============================] - 4s 105ms/step - loss: 0.0016\n",
            "Epoch 69/100\n",
            "38/38 [==============================] - 4s 106ms/step - loss: 0.0018\n",
            "Epoch 70/100\n",
            "38/38 [==============================] - 4s 106ms/step - loss: 0.0017\n",
            "Epoch 71/100\n",
            "38/38 [==============================] - 4s 106ms/step - loss: 0.0018\n",
            "Epoch 72/100\n",
            "38/38 [==============================] - 4s 106ms/step - loss: 0.0017\n",
            "Epoch 73/100\n",
            "38/38 [==============================] - 4s 106ms/step - loss: 0.0015\n",
            "Epoch 74/100\n",
            "38/38 [==============================] - 4s 106ms/step - loss: 0.0016\n",
            "Epoch 75/100\n",
            "38/38 [==============================] - 4s 106ms/step - loss: 0.0021\n",
            "Epoch 76/100\n",
            "38/38 [==============================] - 4s 107ms/step - loss: 0.0016\n",
            "Epoch 77/100\n",
            "38/38 [==============================] - 4s 107ms/step - loss: 0.0018\n",
            "Epoch 78/100\n",
            "38/38 [==============================] - 4s 107ms/step - loss: 0.0019\n",
            "Epoch 79/100\n",
            "38/38 [==============================] - 4s 107ms/step - loss: 0.0018\n",
            "Epoch 80/100\n",
            "38/38 [==============================] - 4s 107ms/step - loss: 0.0020\n",
            "Epoch 81/100\n",
            "38/38 [==============================] - 4s 107ms/step - loss: 0.0018\n",
            "Epoch 82/100\n",
            "38/38 [==============================] - 4s 106ms/step - loss: 0.0021\n",
            "Epoch 83/100\n",
            "38/38 [==============================] - 4s 107ms/step - loss: 0.0015\n",
            "Epoch 84/100\n",
            "38/38 [==============================] - 4s 107ms/step - loss: 0.0016\n",
            "Epoch 85/100\n",
            "38/38 [==============================] - 4s 106ms/step - loss: 0.0016\n",
            "Epoch 86/100\n",
            "38/38 [==============================] - 4s 107ms/step - loss: 0.0015\n",
            "Epoch 87/100\n",
            "38/38 [==============================] - 4s 108ms/step - loss: 0.0017\n",
            "Epoch 88/100\n",
            "38/38 [==============================] - 4s 108ms/step - loss: 0.0017\n",
            "Epoch 89/100\n",
            "38/38 [==============================] - 4s 110ms/step - loss: 0.0016\n",
            "Epoch 90/100\n",
            "38/38 [==============================] - 4s 105ms/step - loss: 0.0017\n",
            "Epoch 91/100\n",
            "38/38 [==============================] - 4s 106ms/step - loss: 0.0016\n",
            "Epoch 92/100\n",
            "38/38 [==============================] - 4s 107ms/step - loss: 0.0017\n",
            "Epoch 93/100\n",
            "38/38 [==============================] - 4s 105ms/step - loss: 0.0017\n",
            "Epoch 94/100\n",
            "38/38 [==============================] - 4s 106ms/step - loss: 0.0017\n",
            "Epoch 95/100\n",
            "38/38 [==============================] - 4s 106ms/step - loss: 0.0017\n",
            "Epoch 96/100\n",
            "38/38 [==============================] - 4s 106ms/step - loss: 0.0015\n",
            "Epoch 97/100\n",
            "38/38 [==============================] - 4s 106ms/step - loss: 0.0014\n",
            "Epoch 98/100\n",
            "38/38 [==============================] - 4s 106ms/step - loss: 0.0017\n",
            "Epoch 99/100\n",
            "38/38 [==============================] - 4s 106ms/step - loss: 0.0015\n",
            "Epoch 100/100\n",
            "38/38 [==============================] - 4s 106ms/step - loss: 0.0018\n"
          ],
          "name": "stdout"
        }
      ]
    },
    {
      "cell_type": "code",
      "metadata": {
        "colab": {
          "base_uri": "https://localhost:8080/"
        },
        "id": "mlNrd66s7Yo-",
        "outputId": "02bd2d23-e874-4b80-81ea-9012c2752c62"
      },
      "source": [
        "print(\"Mean loss of GRU\", np.mean(history.history['loss']))"
      ],
      "execution_count": null,
      "outputs": [
        {
          "output_type": "stream",
          "text": [
            "Mean loss of GRU 0.0024230847985018044\n"
          ],
          "name": "stdout"
        }
      ]
    },
    {
      "cell_type": "code",
      "metadata": {
        "colab": {
          "base_uri": "https://localhost:8080/",
          "height": 281
        },
        "id": "FPVxfZdX7Z3I",
        "outputId": "745ed8e5-abf2-41c0-a59b-cc54d10cb95c"
      },
      "source": [
        "pd.DataFrame(history.history).plot()"
      ],
      "execution_count": null,
      "outputs": [
        {
          "output_type": "execute_result",
          "data": {
            "text/plain": [
              "<matplotlib.axes._subplots.AxesSubplot at 0x7fb3b852cb70>"
            ]
          },
          "metadata": {
            "tags": []
          },
          "execution_count": 79
        },
        {
          "output_type": "display_data",
          "data": {
            "image/png": "[encoded data removed]",
            "text/plain": [
              "<Figure size 432x288 with 1 Axes>"
            ]
          },
          "metadata": {
            "tags": [],
            "needs_background": "light"
          }
        }
      ]
    },
    {
      "cell_type": "code",
      "metadata": {
        "id": "d_jYI_6n7gKW"
      },
      "source": [
        "forecast = []\n",
        "results = []\n",
        "for time in range(len(closed_scaled) - 60):\n",
        "  forecast.append(model5.predict(closed_scaled[time:time + 60][np.newaxis]))"
      ],
      "execution_count": null,
      "outputs": []
    },
    {
      "cell_type": "code",
      "metadata": {
        "colab": {
          "base_uri": "https://localhost:8080/",
          "height": 374
        },
        "id": "BNDewBWh7kqR",
        "outputId": "5d0cd6e1-d7d5-472a-c743-5e8c4961d56a"
      },
      "source": [
        "res = np.zeros(len(closed_scaled))\n",
        "results = np.array(forecast)[:, 0, 0]\n",
        "for i in range(len(res)):\n",
        "  if i<60:\n",
        "    pass\n",
        "  elif i>=60:\n",
        "    res[i] = results[i-60]\n",
        "     \n",
        "plt.figure(figsize=(10, 6))\n",
        "plt.plot(closed_scaled)\n",
        "plt.plot(res)\n",
        "plt.grid()"
      ],
      "execution_count": null,
      "outputs": [
        {
          "output_type": "display_data",
          "data": {
            "image/png": "[encoded data removed]",
            "text/plain": [
              "<Figure size 720x432 with 1 Axes>"
            ]
          },
          "metadata": {
            "tags": [],
            "needs_background": "light"
          }
        }
      ]
    },
    {
      "cell_type": "code",
      "metadata": {
        "colab": {
          "base_uri": "https://localhost:8080/"
        },
        "id": "h3mFBm_W8Ax9",
        "outputId": "ecb3ea13-56ec-43bd-fd88-b10bd2e73d75"
      },
      "source": [
        "model6 = tf.keras.models.Sequential([\n",
        "      tf.keras.layers.Bidirectional(tf.keras.layers.LSTM(50, return_sequences=True, input_shape=(X_train.shape[1], 1))),\n",
        "      tf.keras.layers.Dropout(0.2),\n",
        "      tf.keras.layers.Bidirectional(tf.keras.layers.LSTM(50, return_sequences=True)),\n",
        "      tf.keras.layers.Dropout(0.2),\n",
        "      tf.keras.layers.Bidirectional(tf.keras.layers.LSTM(50, return_sequences=True)),\n",
        "      tf.keras.layers.Dropout(0.2),\n",
        "      tf.keras.layers.Bidirectional(tf.keras.layers.LSTM(50)),\n",
        "      tf.keras.layers.Dropout(0.2),\n",
        "      tf.keras.layers.Dense(1)\n",
        "])\n",
        "\n",
        "model6.compile(optimizer='adam', loss='mse')\n",
        "history = model6.fit(X_train, y_train, epochs=100, batch_size=32)"
      ],
      "execution_count": null,
      "outputs": [
        {
          "output_type": "stream",
          "text": [
            "Epoch 1/100\n",
            "38/38 [==============================] - 7s 186ms/step - loss: 0.0180\n",
            "Epoch 2/100\n",
            "38/38 [==============================] - 7s 187ms/step - loss: 0.0068\n",
            "Epoch 3/100\n",
            "38/38 [==============================] - 7s 183ms/step - loss: 0.0052\n",
            "Epoch 4/100\n",
            "38/38 [==============================] - 7s 185ms/step - loss: 0.0044\n",
            "Epoch 5/100\n",
            "38/38 [==============================] - 7s 186ms/step - loss: 0.0038\n",
            "Epoch 6/100\n",
            "38/38 [==============================] - 7s 185ms/step - loss: 0.0040\n",
            "Epoch 7/100\n",
            "38/38 [==============================] - 7s 185ms/step - loss: 0.0052\n",
            "Epoch 8/100\n",
            "38/38 [==============================] - 7s 185ms/step - loss: 0.0040\n",
            "Epoch 9/100\n",
            "38/38 [==============================] - 7s 186ms/step - loss: 0.0031\n",
            "Epoch 10/100\n",
            "38/38 [==============================] - 7s 185ms/step - loss: 0.0036\n",
            "Epoch 11/100\n",
            "38/38 [==============================] - 7s 185ms/step - loss: 0.0036\n",
            "Epoch 12/100\n",
            "38/38 [==============================] - 7s 185ms/step - loss: 0.0036\n",
            "Epoch 13/100\n",
            "38/38 [==============================] - 7s 186ms/step - loss: 0.0030\n",
            "Epoch 14/100\n",
            "38/38 [==============================] - 7s 184ms/step - loss: 0.0029\n",
            "Epoch 15/100\n",
            "38/38 [==============================] - 7s 185ms/step - loss: 0.0026\n",
            "Epoch 16/100\n",
            "38/38 [==============================] - 7s 184ms/step - loss: 0.0028\n",
            "Epoch 17/100\n",
            "38/38 [==============================] - 7s 186ms/step - loss: 0.0029\n",
            "Epoch 18/100\n",
            "38/38 [==============================] - 7s 185ms/step - loss: 0.0030\n",
            "Epoch 19/100\n",
            "38/38 [==============================] - 7s 184ms/step - loss: 0.0027\n",
            "Epoch 20/100\n",
            "38/38 [==============================] - 7s 184ms/step - loss: 0.0030\n",
            "Epoch 21/100\n",
            "38/38 [==============================] - 7s 185ms/step - loss: 0.0023\n",
            "Epoch 22/100\n",
            "38/38 [==============================] - 7s 184ms/step - loss: 0.0019\n",
            "Epoch 23/100\n",
            "38/38 [==============================] - 7s 186ms/step - loss: 0.0027\n",
            "Epoch 24/100\n",
            "38/38 [==============================] - 7s 184ms/step - loss: 0.0027\n",
            "Epoch 25/100\n",
            "38/38 [==============================] - 7s 186ms/step - loss: 0.0024\n",
            "Epoch 26/100\n",
            "38/38 [==============================] - 7s 185ms/step - loss: 0.0021\n",
            "Epoch 27/100\n",
            "38/38 [==============================] - 7s 186ms/step - loss: 0.0019\n",
            "Epoch 28/100\n",
            "38/38 [==============================] - 7s 185ms/step - loss: 0.0022\n",
            "Epoch 29/100\n",
            "38/38 [==============================] - 7s 185ms/step - loss: 0.0019\n",
            "Epoch 30/100\n",
            "38/38 [==============================] - 7s 185ms/step - loss: 0.0024\n",
            "Epoch 31/100\n",
            "38/38 [==============================] - 7s 186ms/step - loss: 0.0029\n",
            "Epoch 32/100\n",
            "38/38 [==============================] - 7s 184ms/step - loss: 0.0021\n",
            "Epoch 33/100\n",
            "38/38 [==============================] - 7s 184ms/step - loss: 0.0021\n",
            "Epoch 34/100\n",
            "38/38 [==============================] - 7s 185ms/step - loss: 0.0020\n",
            "Epoch 35/100\n",
            "38/38 [==============================] - 7s 184ms/step - loss: 0.0021\n",
            "Epoch 36/100\n",
            "38/38 [==============================] - 7s 184ms/step - loss: 0.0019\n",
            "Epoch 37/100\n",
            "38/38 [==============================] - 7s 184ms/step - loss: 0.0023\n",
            "Epoch 38/100\n",
            "38/38 [==============================] - 7s 184ms/step - loss: 0.0022\n",
            "Epoch 39/100\n",
            "38/38 [==============================] - 7s 186ms/step - loss: 0.0019\n",
            "Epoch 40/100\n",
            "38/38 [==============================] - 7s 185ms/step - loss: 0.0018\n",
            "Epoch 41/100\n",
            "38/38 [==============================] - 7s 183ms/step - loss: 0.0019\n",
            "Epoch 42/100\n",
            "38/38 [==============================] - 7s 185ms/step - loss: 0.0018\n",
            "Epoch 43/100\n",
            "38/38 [==============================] - 7s 184ms/step - loss: 0.0020\n",
            "Epoch 44/100\n",
            "38/38 [==============================] - 7s 185ms/step - loss: 0.0022\n",
            "Epoch 45/100\n",
            "38/38 [==============================] - 7s 185ms/step - loss: 0.0023\n",
            "Epoch 46/100\n",
            "38/38 [==============================] - 7s 185ms/step - loss: 0.0021\n",
            "Epoch 47/100\n",
            "38/38 [==============================] - 7s 183ms/step - loss: 0.0018\n",
            "Epoch 48/100\n",
            "38/38 [==============================] - 7s 184ms/step - loss: 0.0019\n",
            "Epoch 49/100\n",
            "38/38 [==============================] - 7s 185ms/step - loss: 0.0018\n",
            "Epoch 50/100\n",
            "38/38 [==============================] - 7s 186ms/step - loss: 0.0017\n",
            "Epoch 51/100\n",
            "38/38 [==============================] - 7s 185ms/step - loss: 0.0020\n",
            "Epoch 52/100\n",
            "38/38 [==============================] - 7s 184ms/step - loss: 0.0018\n",
            "Epoch 53/100\n",
            "38/38 [==============================] - 7s 185ms/step - loss: 0.0019\n",
            "Epoch 54/100\n",
            "38/38 [==============================] - 7s 184ms/step - loss: 0.0018\n",
            "Epoch 55/100\n",
            "38/38 [==============================] - 7s 184ms/step - loss: 0.0019\n",
            "Epoch 56/100\n",
            "38/38 [==============================] - 7s 184ms/step - loss: 0.0019\n",
            "Epoch 57/100\n",
            "38/38 [==============================] - 7s 183ms/step - loss: 0.0017\n",
            "Epoch 58/100\n",
            "38/38 [==============================] - 7s 184ms/step - loss: 0.0016\n",
            "Epoch 59/100\n",
            "38/38 [==============================] - 7s 185ms/step - loss: 0.0016\n",
            "Epoch 60/100\n",
            "38/38 [==============================] - 7s 186ms/step - loss: 0.0019\n",
            "Epoch 61/100\n",
            "38/38 [==============================] - 7s 184ms/step - loss: 0.0019\n",
            "Epoch 62/100\n",
            "38/38 [==============================] - 7s 184ms/step - loss: 0.0016\n",
            "Epoch 63/100\n",
            "38/38 [==============================] - 7s 184ms/step - loss: 0.0016\n",
            "Epoch 64/100\n",
            "38/38 [==============================] - 7s 185ms/step - loss: 0.0017\n",
            "Epoch 65/100\n",
            "38/38 [==============================] - 7s 183ms/step - loss: 0.0016\n",
            "Epoch 66/100\n",
            "38/38 [==============================] - 7s 183ms/step - loss: 0.0018\n",
            "Epoch 67/100\n",
            "38/38 [==============================] - 7s 184ms/step - loss: 0.0015\n",
            "Epoch 68/100\n",
            "38/38 [==============================] - 7s 184ms/step - loss: 0.0018\n",
            "Epoch 69/100\n",
            "38/38 [==============================] - 7s 183ms/step - loss: 0.0018\n",
            "Epoch 70/100\n",
            "38/38 [==============================] - 7s 184ms/step - loss: 0.0017\n",
            "Epoch 71/100\n",
            "38/38 [==============================] - 7s 185ms/step - loss: 0.0016\n",
            "Epoch 72/100\n",
            "38/38 [==============================] - 7s 183ms/step - loss: 0.0017\n",
            "Epoch 73/100\n",
            "38/38 [==============================] - 7s 184ms/step - loss: 0.0016\n",
            "Epoch 74/100\n",
            "38/38 [==============================] - 7s 185ms/step - loss: 0.0016\n",
            "Epoch 75/100\n",
            "38/38 [==============================] - 7s 185ms/step - loss: 0.0019\n",
            "Epoch 76/100\n",
            "38/38 [==============================] - 7s 183ms/step - loss: 0.0015\n",
            "Epoch 77/100\n",
            "38/38 [==============================] - 7s 186ms/step - loss: 0.0016\n",
            "Epoch 78/100\n",
            "38/38 [==============================] - 7s 184ms/step - loss: 0.0014\n",
            "Epoch 79/100\n",
            "38/38 [==============================] - 7s 184ms/step - loss: 0.0017\n",
            "Epoch 80/100\n",
            "38/38 [==============================] - 7s 186ms/step - loss: 0.0016\n",
            "Epoch 81/100\n",
            "38/38 [==============================] - 7s 186ms/step - loss: 0.0013\n",
            "Epoch 82/100\n",
            "38/38 [==============================] - 7s 184ms/step - loss: 0.0017\n",
            "Epoch 83/100\n",
            "38/38 [==============================] - 7s 183ms/step - loss: 0.0014\n",
            "Epoch 84/100\n",
            "38/38 [==============================] - 7s 185ms/step - loss: 0.0016\n",
            "Epoch 85/100\n",
            "38/38 [==============================] - 7s 185ms/step - loss: 0.0016\n",
            "Epoch 86/100\n",
            "38/38 [==============================] - 7s 185ms/step - loss: 0.0014\n",
            "Epoch 87/100\n",
            "38/38 [==============================] - 7s 186ms/step - loss: 0.0014\n",
            "Epoch 88/100\n",
            "38/38 [==============================] - 7s 186ms/step - loss: 0.0017\n",
            "Epoch 89/100\n",
            "38/38 [==============================] - 7s 185ms/step - loss: 0.0015\n",
            "Epoch 90/100\n",
            "38/38 [==============================] - 7s 185ms/step - loss: 0.0016\n",
            "Epoch 91/100\n",
            "38/38 [==============================] - 7s 184ms/step - loss: 0.0018\n",
            "Epoch 92/100\n",
            "38/38 [==============================] - 7s 185ms/step - loss: 0.0014\n",
            "Epoch 93/100\n",
            "38/38 [==============================] - 7s 185ms/step - loss: 0.0016\n",
            "Epoch 94/100\n",
            "38/38 [==============================] - 7s 184ms/step - loss: 0.0015\n",
            "Epoch 95/100\n",
            "38/38 [==============================] - 7s 185ms/step - loss: 0.0015\n",
            "Epoch 96/100\n",
            "38/38 [==============================] - 7s 185ms/step - loss: 0.0018\n",
            "Epoch 97/100\n",
            "38/38 [==============================] - 7s 184ms/step - loss: 0.0018\n",
            "Epoch 98/100\n",
            "38/38 [==============================] - 7s 185ms/step - loss: 0.0014\n",
            "Epoch 99/100\n",
            "38/38 [==============================] - 7s 185ms/step - loss: 0.0015\n",
            "Epoch 100/100\n",
            "38/38 [==============================] - 7s 186ms/step - loss: 0.0015\n"
          ],
          "name": "stdout"
        }
      ]
    },
    {
      "cell_type": "code",
      "metadata": {
        "colab": {
          "base_uri": "https://localhost:8080/"
        },
        "id": "hVHTs_KL8SQF",
        "outputId": "23b6b924-00c4-4aa0-866c-609501608bc2"
      },
      "source": [
        "print(\"Mean loss of Bi-directional LSTM\", np.mean(history.history['loss']))"
      ],
      "execution_count": null,
      "outputs": [
        {
          "output_type": "stream",
          "text": [
            "Mean loss of Bi-directional LSTM 0.0023388462245929986\n"
          ],
          "name": "stdout"
        }
      ]
    },
    {
      "cell_type": "code",
      "metadata": {
        "colab": {
          "base_uri": "https://localhost:8080/",
          "height": 281
        },
        "id": "zur1o3GP8TI4",
        "outputId": "36b75269-0736-464b-b499-a7503d43e562"
      },
      "source": [
        "pd.DataFrame(history.history).plot()"
      ],
      "execution_count": null,
      "outputs": [
        {
          "output_type": "execute_result",
          "data": {
            "text/plain": [
              "<matplotlib.axes._subplots.AxesSubplot at 0x7fb3b58bcb70>"
            ]
          },
          "metadata": {
            "tags": []
          },
          "execution_count": 84
        },
        {
          "output_type": "display_data",
          "data": {
            "image/png": "[encoded data removed]",
            "text/plain": [
              "<Figure size 432x288 with 1 Axes>"
            ]
          },
          "metadata": {
            "tags": [],
            "needs_background": "light"
          }
        }
      ]
    },
    {
      "cell_type": "code",
      "metadata": {
        "id": "LK_uT9i98Tib"
      },
      "source": [
        "forecast = []\n",
        "results = []\n",
        "for time in range(len(closed_scaled) - 60):\n",
        "  forecast.append(model.predict(closed_scaled[time:time + 60][np.newaxis]))"
      ],
      "execution_count": null,
      "outputs": []
    },
    {
      "cell_type": "code",
      "metadata": {
        "colab": {
          "base_uri": "https://localhost:8080/",
          "height": 374
        },
        "id": "zos_GYoQ8e15",
        "outputId": "6ab582b3-3b03-4d17-c31a-e82277747b85"
      },
      "source": [
        "res = np.zeros(len(closed_scaled))\n",
        "results = np.array(forecast)[:, 0, 0]\n",
        "for i in range(len(res)):\n",
        "  if i<60:\n",
        "    pass\n",
        "  elif i>=60:\n",
        "    res[i] = results[i-60]\n",
        "     \n",
        "plt.figure(figsize=(10, 6))\n",
        "plt.plot(closed_scaled)\n",
        "plt.plot(res)\n",
        "plt.grid()"
      ],
      "execution_count": null,
      "outputs": [
        {
          "output_type": "display_data",
          "data": {
            "image/png": "[encoded data removed]",
            "text/plain": [
              "<Figure size 720x432 with 1 Axes>"
            ]
          },
          "metadata": {
            "tags": [],
            "needs_background": "light"
          }
        }
      ]
    },
    {
      "cell_type": "code",
      "metadata": {
        "id": "QJoCZMx58iub"
      },
      "source": [
        "dataframe_test = pd.read_csv(\"/content/Google_Stock_Price_Test.csv\")"
      ],
      "execution_count": null,
      "outputs": []
    },
    {
      "cell_type": "code",
      "metadata": {
        "id": "SETxQsPHsEJA"
      },
      "source": [
        "dataframe_total = pd.concat((dataframe['Close'], dataframe_test['Close']), axis=0)"
      ],
      "execution_count": null,
      "outputs": []
    },
    {
      "cell_type": "code",
      "metadata": {
        "id": "4zxil2ZcsElH"
      },
      "source": [
        "inputs = dataframe_total[len(dataframe_total)-len(dataframe_test)-60:].values"
      ],
      "execution_count": null,
      "outputs": []
    },
    {
      "cell_type": "code",
      "metadata": {
        "id": "dIJ0nFLUsEs_"
      },
      "source": [
        "inputs = inputs.reshape(-1, 1)"
      ],
      "execution_count": null,
      "outputs": []
    },
    {
      "cell_type": "code",
      "metadata": {
        "id": "ogVW36tqsEvA"
      },
      "source": [
        "inputs = sc.transform(inputs)"
      ],
      "execution_count": null,
      "outputs": []
    },
    {
      "cell_type": "code",
      "metadata": {
        "id": "oQn_h4Z1sE0P"
      },
      "source": [
        "X_test = []\n",
        "for i in range(60, 80):\n",
        "  X_test.append(inputs[i-60:i, 0])\n",
        "X_test = np.array(X_test)\n",
        "X_test = np.reshape(X_test, (X_test.shape[0], X_test.shape[1], 1))"
      ],
      "execution_count": null,
      "outputs": []
    },
    {
      "cell_type": "code",
      "metadata": {
        "id": "O1k0zAftsEzQ"
      },
      "source": [
        "predicted_stock_price = model6.predict(X_test)"
      ],
      "execution_count": null,
      "outputs": []
    },
    {
      "cell_type": "code",
      "metadata": {
        "id": "riSPd2bptm6q"
      },
      "source": [
        "predicted_stock_price = sc.inverse_transform(predicted_stock_price)"
      ],
      "execution_count": null,
      "outputs": []
    },
    {
      "cell_type": "code",
      "metadata": {
        "id": "hkWbBokvtnG9"
      },
      "source": [
        "real_stock_price = dataframe_test.iloc[:, 4:5].values"
      ],
      "execution_count": null,
      "outputs": []
    },
    {
      "cell_type": "code",
      "metadata": {
        "colab": {
          "base_uri": "https://localhost:8080/",
          "height": 295
        },
        "id": "9HpfGhzbtnRx",
        "outputId": "dd991d24-2e98-435a-b10e-1024e5f88b84"
      },
      "source": [
        "plt.plot(real_stock_price, color = 'red', label = 'Real Google Stock Price')\n",
        "plt.plot(predicted_stock_price, color = 'blue', label = 'Predicted Google Stock Price')\n",
        "plt.title('Google Stock Price Prediction')\n",
        "plt.xlabel('Time')\n",
        "plt.ylabel('Google Stock Price')\n",
        "plt.legend()\n",
        "plt.show()"
      ],
      "execution_count": null,
      "outputs": [
        {
          "output_type": "display_data",
          "data": {
            "image/png": "[encoded data removed]",
            "text/plain": [
              "<Figure size 432x288 with 1 Axes>"
            ]
          },
          "metadata": {
            "tags": [],
            "needs_background": "light"
          }
        }
      ]
    }
  ]
}